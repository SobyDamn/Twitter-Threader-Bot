{
 "metadata": {
  "language_info": {
   "codemirror_mode": {
    "name": "ipython",
    "version": 3
   },
   "file_extension": ".py",
   "mimetype": "text/x-python",
   "name": "python",
   "nbconvert_exporter": "python",
   "pygments_lexer": "ipython3",
   "version": "3.8.7-final"
  },
  "orig_nbformat": 2,
  "kernelspec": {
   "name": "python3",
   "display_name": "Python 3",
   "language": "python"
  }
 },
 "nbformat": 4,
 "nbformat_minor": 2,
 "cells": [
  {
   "cell_type": "code",
   "execution_count": 2,
   "metadata": {},
   "outputs": [],
   "source": [
    "import tweepy\n",
    "import time\n",
    "import logging\n",
    "import random\n",
    "import firebase_admin\n",
    "from firebase_admin import credentials\n",
    "from firebase_admin import firestore\n",
    "import os\n",
    "from os import environ\n",
    "logging.basicConfig(level=logging.INFO)\n",
    "logger = logging.getLogger()\n",
    "# Authenticating to to Twitter\n",
    "API_KEY = \"3ZNV1tHj4j3WN6JKjnriPthYR\"\n",
    "API_SKEY = \"ZOHxNBrfpEMnrOcyNd5Eb2rQb0OyWUL0JoO9CwB1VCy0A0vfca\"\n",
    "ACC_Token = \"1353704693910921221-6VLjs0f74mvtLrETgX2CuXJ6EVgHan\"\n",
    "ACC_Token_Secret = \"hPeJcfv9pFb5un5AHiFpDKfs4fhRw2OQ7emjgc0QG2jVw\"\n",
    "auth = tweepy.OAuthHandler(API_KEY,API_SKEY)\n",
    "auth.set_access_token(ACC_Token,ACC_Token_Secret)\n",
    "api = tweepy.API(auth, wait_on_rate_limit=True,\n",
    "    wait_on_rate_limit_notify=True)\n",
    "#Credential for firebase\n",
    "cred = credentials.Certificate(\"twitter-threader-firebase-adminsdk-rh7d4-60df64a83c.json\")\n",
    "\n",
    "class userThread:\n",
    "    def __init__(self,id, name,username,profile_img,tweets):\n",
    "        '''\n",
    "        id: profile id of thread owner\n",
    "        '''\n",
    "        self.id = id\n",
    "        self.name = name\n",
    "        self.username = username\n",
    "        self.tweets = tweets\n",
    "        self.profile_img = profile_img\n",
    "    def to_dict(self):\n",
    "        obj = {\n",
    "            'id':self.id,\n",
    "            'name':self.name,\n",
    "            'username':self.username,\n",
    "            'profile_img':self.profile_img,\n",
    "            'tweets':[]\n",
    "        }\n",
    "        for tweet in self.tweets:\n",
    "            tweet_id = tweet.tweet_id\n",
    "            obj['tweets'].append(tweet.to_dict())\n",
    "        return obj\n",
    "class Tweet:\n",
    "    def __init__(self, text,date,medias,tweet_id,urls):\n",
    "        self.text = text\n",
    "        self.date = date\n",
    "        self.medias = medias\n",
    "        self.tweet_id = tweet_id\n",
    "        self.urls = urls ##contains list either empty or list with object url,expanded_url,display_url(sliced urls)\n",
    "    def to_dict(self):\n",
    "        obj = {\n",
    "            'text':self.text,\n",
    "            'date':self.date,\n",
    "            'tweet_id':str(self.tweet_id),\n",
    "            'urls':self.urls,\n",
    "            'medias':self.medias\n",
    "        }\n",
    "        return obj\n",
    "class ThreadCompiler:\n",
    "    def __init__(self,tweet_id,user_id,thread_request_id,easy_compile=True,max_tweets_to_look=500):\n",
    "        '''\n",
    "        tweet_id - the id of the tweet under which user requested\n",
    "        user_id - id of the thread owner\n",
    "        thread_request_id - id of the user who requested thread compile\n",
    "        easy_compile - rolling up to the parent (use when thread is too old)\n",
    "        '''\n",
    "        self.tweet_id = tweet_id\n",
    "        self.id = tweet_id ##storing parent id\n",
    "        self.user_id = user_id #thread_user_ids\n",
    "        self.tweets = None\n",
    "        self.max_tweets_to_look = max_tweets_to_look\n",
    "        self.thread_request_id = thread_request_id\n",
    "        self.easy_compile = easy_compile #if easy compile we won't be checking Bottom thread just roll to the parent of thread\n",
    "    def compileTweets(self):\n",
    "        '''\n",
    "        Compiles tweet of thread\n",
    "        Compile to the parent of the child\n",
    "        return list of object of class type Tweet\n",
    "        '''\n",
    "        self.tweets = []\n",
    "        parent_tweet_id = self.tweet_id\n",
    "        print(\"ThreadCompiler: Fetching Head thread!\")\n",
    "        while parent_tweet_id:\n",
    "            try:\n",
    "                tweet = api.get_status(parent_tweet_id, tweet_mode=\"extended\")\n",
    "                if tweet.user.id != self.user_id:\n",
    "                    break\n",
    "                medias = []\n",
    "                if hasattr(tweet,\"extended_entities\"):\n",
    "                    if \"media\" in tweet.extended_entities:\n",
    "                        media_entities = tweet.extended_entities['media']\n",
    "                        for media_data in media_entities:\n",
    "                            media = {}\n",
    "                            ##Currently only planning to save photo data as it'll be transformed to PDF\n",
    "                            if media_data['type']=='photo' or media_data['type'] == 'video':\n",
    "                                media['type'] = media_data['type']\n",
    "                                media['media_url_https'] = media_data['media_url_https']\n",
    "                                media['media_url'] = media_data['media_url']\n",
    "                                media['expanded_url'] = media_data['expanded_url']\n",
    "                                medias.append(media)\n",
    "                tweetObj = Tweet(tweet.full_text,str(tweet.created_at),list(medias),parent_tweet_id,tweet.entities['urls'])\n",
    "                self.tweets.append(tweetObj)\n",
    "                parent_tweet_id = tweet.in_reply_to_status_id\n",
    "            except tweepy.TweepError as e:\n",
    "                print(\"ThreadCompiler:TweepyError {}\".format(e))\n",
    "                #Send Response to user and end the compilation\n",
    "                raise Exception(\"Compiling thread top error!\")\n",
    "                break\n",
    "        self.tweets = self.tweets[::-1]\n",
    "        if self.easy_compile:\n",
    "            print(\"ThreadCompiler:Easy Compile Requested!\")\n",
    "            return self.tweets\n",
    "        else:\n",
    "            return self.tweetCompilerBottom()\n",
    "        #return list(self.tweets)\n",
    "    def tweetCompilerBottom(self,since_id=None):\n",
    "        '''\n",
    "        Compiles the bottom half of the tweet by looking for child\n",
    "        '''\n",
    "        print(\"ThreadCompiler:Fetching Bottom thread!\")\n",
    "        if not since_id:\n",
    "            looking_for = self.tweet_id\n",
    "        tweets = tweepy.Cursor(api.user_timeline,user_id=self.user_id,since_id=looking_for,trim_user=True,include_rts=False,               exclude_replies=False,tweet_mode=\"extended\").items()\n",
    "        tweets_track = {} ##contains all tweets traced\n",
    "        bottom_thread_exists = False\n",
    "        for i in range(self.max_tweets_to_look):\n",
    "            try:\n",
    "                tweet = tweets.next()\n",
    "                if hasattr(tweet, 'in_reply_to_status_id_str') and tweet.in_reply_to_status_id:\n",
    "                    medias = []\n",
    "                    if hasattr(tweet,\"extended_entities\"):\n",
    "                        if \"media\" in tweet.extended_entities:\n",
    "                            media_entities = tweet.extended_entities['media']\n",
    "                            for media_data in media_entities:\n",
    "                                media = {}\n",
    "                                ##Currently only planning to save photo data as it'll be transformed to PDF\n",
    "                                if media_data['type']=='photo' or media_data['type'] == 'video':\n",
    "                                    media['type'] = media_data['type']\n",
    "                                    media['media_url_https'] = media_data['media_url_https']\n",
    "                                    media['media_url'] = media_data['media_url']\n",
    "                                    media['expanded_url'] = media_data['expanded_url']\n",
    "                                    medias.append(media)\n",
    "                    tweetObj = Tweet(tweet.full_text,str(tweet.created_at),list(medias),tweet.id,tweet.entities['urls'])\n",
    "                    #Saving track with respect to in_reply_to_status_id ez to look for thread\n",
    "                    #print(i)\n",
    "                    tweets_track[tweet.id] = {\n",
    "                        \"tweet\":tweetObj,\n",
    "                        \"in_reply_to_status_id\":tweet.in_reply_to_status_id\n",
    "                    }\n",
    "            except StopIteration:\n",
    "                bottom_thread_exists = True #No more results might have reached to since_id and hence thread exists\n",
    "                print(\"ThreadCompiler: BottomThread - No more result found\")\n",
    "                break\n",
    "            except tweepy.RateLimitError as e:\n",
    "                logging.error(\"Twitter api rate limit reached Error-{}\".format(e))\n",
    "                time.sleep(60) ##Sleep and retry after a while\n",
    "                continue\n",
    "            except tweepy.TweepError as e:\n",
    "                print(\"ThreadCompiler:TweepyError {}\".format(e))\n",
    "                #Send Response to user and end the compilation\n",
    "                raise Exception(\"Compiling bottom thread error!\")\n",
    "                break\n",
    "        #return tweets_track\n",
    "        if bottom_thread_exists:\n",
    "            self.fetchBottomThread(tweets_track)\n",
    "        else:\n",
    "            #Respone thread is to old\n",
    "            pass\n",
    "        return self.tweets\n",
    "    def fetchBottomThread(self,tweets_track,tweet_id=None):\n",
    "        if not tweet_id:\n",
    "            tweet_id = self.tweet_id\n",
    "        '''\n",
    "        Finding Longest Thread till tweet_id\n",
    "        if multiple exists returns the on which comes first\n",
    "        '''\n",
    "        print(\"ThreadCompiler:Cooking Bottom Threads!\")\n",
    "        i=0\n",
    "        threads = {}\n",
    "        while i<len(list(tweets_track)):\n",
    "            looking_for = list(tweets_track)[i]\n",
    "            child_id = looking_for\n",
    "            i +=1\n",
    "            count = 0\n",
    "            possible_threads = []\n",
    "            while looking_for:\n",
    "                if looking_for in tweets_track:\n",
    "                    count +=1\n",
    "                    possible_threads.append(tweets_track[looking_for]['tweet'])\n",
    "                    looking_for = tweets_track[looking_for][\"in_reply_to_status_id\"]\n",
    "                elif looking_for == tweet_id: #Thread I was looking for\n",
    "                    threads[child_id] = possible_threads\n",
    "                    break\n",
    "                else:\n",
    "                    break\n",
    "            #i += count - 1\n",
    "        if len(threads) > 0:\n",
    "            thread_id = max(threads, key=lambda k: len(threads[k]))\n",
    "            self.tweets += threads[thread_id][::-1]\n",
    "            print(\"ThreadCompiler:Bottom Threads prepared!\")\n",
    "            return threads[thread_id][::-1]\n",
    "        else:\n",
    "            print(\"ThreadCompiler:Bottom Thread does not exists!\")\n",
    "            return\n",
    "    def compileThread(self):\n",
    "        '''\n",
    "        Compiles Thread of tweets and user and return object of class type userThread\n",
    "        '''\n",
    "        print(\"ThreadCompiler: Compiling Thread\")\n",
    "        if not self.tweets:\n",
    "            self.compileTweets()\n",
    "        self.id = self.tweets[0].tweet_id ##first id is used to save the thread\n",
    "        user = api.get_user(self.user_id)\n",
    "        return userThread(self.user_id,user.name,user.screen_name,user.profile_image_url_https,self.tweets)\n",
    "    def save(self,threaData:\"Dictionar\"=None):\n",
    "        '''\n",
    "        threaData: Takes dictionary\n",
    "        saves it to the firebase if not already exists and return True\n",
    "        '''\n",
    "        ##\n",
    "        if not threaData:\n",
    "            threaData = self.compileThread().to_dict()\n",
    "        print(\"ThreadCompiler: Preparing to save!\")\n",
    "        FU = FirebaseUtility(cred)\n",
    "        FU.storeData(self.id,threaData)\n",
    "        return True\n",
    "    def getThreadID(self):\n",
    "        '''\n",
    "        Returns the thread id\n",
    "        Used to access documents\n",
    "        '''\n",
    "        return str(self.id)\n",
    "class FirebaseUtility:\n",
    "    def __init__(self,cred):\n",
    "        self.cred = cred\n",
    "        self.initialize() ##initialise first\n",
    "        self.db = firestore.client()\n",
    "    def initialize(self):\n",
    "        try:\n",
    "            if not firebase_admin._apps:\n",
    "                print(\"FirebaseUtility:Initializing\")\n",
    "                firebase_admin.initialize_app(self.cred)\n",
    "        except:\n",
    "            print(\"FirebaseUtility:Error in cred FIX NEEDED!\")\n",
    "    def documentExists(self,thread_id:\"Thread parent id\",thread_len:\"Length of fetched thread\"):\n",
    "        doc_ref = self.db.collection(u'threads').document(str(thread_id))\n",
    "        doc = doc = doc_ref.get()\n",
    "        if doc.exists:\n",
    "            if len(doc.to_dict()['tweets']) < thread_len:\n",
    "                print(\"FirebaseUtility:Thread Already Exists but shorter\")\n",
    "                return False\n",
    "            else:\n",
    "                print(\"FirebaseUtility:Thread Already Exists\")\n",
    "                return True\n",
    "        else:\n",
    "            print('FirebaseUtility:No such Thread!')\n",
    "            return False\n",
    "    def storeData(self,thread_id,data:\"dictionary\"):\n",
    "        '''\n",
    "        Stores the dictionary data with document name thread_id\n",
    "        '''\n",
    "        if not self.documentExists(thread_id,len(data['tweets'])):\n",
    "            doc_ref = self.db.collection(u'threads').document(str(thread_id))\n",
    "            doc_ref.set(data)\n",
    "            print('FirebaseUtility:Thread {} Stored!'.format(str(thread_id)))\n",
    "        else:\n",
    "            pass\n",
    "class ThreaderBot:\n",
    "    def __init__(self,file_name=\"since_id.txt\"):\n",
    "        fread = open(file_name, 'r')\n",
    "        self.since_id = int(fread.read().strip())\n",
    "        fread.close()\n",
    "    def retrieve_since_id(self,file_name=\"since_id.txt\"):\n",
    "        fread = open(file_name, 'r')\n",
    "        since_id = int(fread.read().strip())\n",
    "        fread.close()\n",
    "        return since_id\n",
    "\n",
    "    def store_since_id(self,since_id, file_name=\"since_id.txt\"):\n",
    "        fwrite = open(file_name, 'w')\n",
    "        fwrite.write(str(since_id))\n",
    "        fwrite.close()\n",
    "        return\n",
    "    def fetchTweets(self):\n",
    "        '''\n",
    "        Fetches only mentioned tweets\n",
    "        retweet will trigger this aswell\n",
    "        '''\n",
    "        self.since_id = self.retrieve_since_id()\n",
    "        mentions = api.mentions_timeline(self.since_id)\n",
    "        mention = mentions[0] if len(mentions) !=0 else None\n",
    "        if mention:\n",
    "            print(\"Storing The last mentioned\",mention.id)\n",
    "            since_id = mention.id #Store the last id so that we can keep ourself updated\n",
    "            self.store_since_id(since_id)\n",
    "            self.since_id = since_id #Update the bot aswell\n",
    "        return mentions\n",
    "    def run(self):\n",
    "        '''\n",
    "        Returns unique list of recently mentioned tweets\n",
    "        in_reply_to_status_id,in_reply_to_user_id,requested user screen_name and request id\n",
    "        Note:Twitter doesn't allow to tweet same tweet to same reply\n",
    "        '''\n",
    "        print(\"ThreaderBot: Running...\")\n",
    "        try:\n",
    "            tweets = self.fetchTweets()\n",
    "            if not tweets:\n",
    "                print(\"ThreaderBot: Nothing New!\")\n",
    "                return False\n",
    "            else:\n",
    "                print(\"ThreaderBot: Threading...\")\n",
    "                request_details = []\n",
    "                for tweet in tweets:\n",
    "                    easy_compile = True\n",
    "                    if \"compile\" in tweet.text.lower():\n",
    "                        easy_compile = False\n",
    "                    request_details.append((tweet.in_reply_to_status_id,tweet.in_reply_to_user_id,tweet.user.screen_name,tweet.id,easy_compile))\n",
    "                request_details = list(set(request_details))\n",
    "                return request_details\n",
    "        except tweepy.TweepError as e:\n",
    "                logging.error(\"ThreaderBot: Twitter api Error {}\".format(e))\n",
    "                return\n",
    "    def sendResponse(self,text,request_username,rquest_id):\n",
    "        '''\n",
    "        Send response who requested the thread\n",
    "        username is required to reply\n",
    "        Note: make sure that twitter api project is created under read and write\n",
    "        '''\n",
    "        respone = \"@\"+request_username+\" \"+str(text)\n",
    "        try:\n",
    "            api.update_status(respone,rquest_id)\n",
    "            print(\"Request Successful\")\n",
    "        except:\n",
    "            logger.error(\"Error replying to the tweet\", exc_info=True)\n",
    "def surfBot(bot:\"ThreadBot\"):\n",
    "    '''\n",
    "    Runs the bot and make him awake\n",
    "    '''\n",
    "    requests = bot.run()\n",
    "    if requests:\n",
    "        for in_reply_to_tweet_id,in_reply_to_user_id,request_username,request_id,easy_compile in requests:\n",
    "            try:\n",
    "                compiler = ThreadCompiler(in_reply_to_tweet_id,in_reply_to_user_id,request_id,easy_compile)\n",
    "                if compiler.save():\n",
    "                    text = \"Thread URL goes here and Thread Length - \"+str(len(compiler.tweets))\n",
    "                    bot.sendResponse(text,request_username,request_id)\n",
    "                    print(compiler.getThreadID())\n",
    "                else:\n",
    "                    print(\"Bot Surfer:Nothing Requested!\")\n",
    "                    return\n",
    "            except Exception as e:\n",
    "                ##Send response as we got error\n",
    "                text = \"Looks Like thread is too old or something went wrong!\\nTry different method check here for help - https://sobydamn.github.io/TwitterThread/\"\n",
    "                bot.sendResponse(text,request_username,request_id)\n",
    "                print(\"SurfBot: Error - {}\".format(e))"
   ]
  },
  {
   "cell_type": "code",
   "execution_count": 3,
   "metadata": {},
   "outputs": [],
   "source": [
    "bot = ThreaderBot()"
   ]
  },
  {
   "cell_type": "code",
   "execution_count": 16,
   "metadata": {},
   "outputs": [
    {
     "output_type": "stream",
     "name": "stdout",
     "text": [
      "ThreaderBot: Running...\n",
      "ThreaderBot: Nothing New!\n"
     ]
    },
    {
     "output_type": "execute_result",
     "data": {
      "text/plain": [
       "False"
      ]
     },
     "metadata": {},
     "execution_count": 16
    }
   ],
   "source": [
    "bot.run()"
   ]
  },
  {
   "cell_type": "code",
   "execution_count": null,
   "metadata": {},
   "outputs": [],
   "source": []
  },
  {
   "cell_type": "code",
   "execution_count": 4,
   "metadata": {},
   "outputs": [
    {
     "output_type": "stream",
     "name": "stdout",
     "text": [
      "ThreaderBot: Running...\n",
      "Storing The last mentioned 1356247884761542658\n",
      "ThreaderBot: Threading...\n",
      "ThreadCompiler: Compiling Thread\n",
      "ThreadCompiler: Fetching Head thread!\n",
      "ThreadCompiler:Easy Compile Requested!\n",
      "ThreadCompiler: Preparing to save!\n",
      "FirebaseUtility:Initializing\n",
      "FirebaseUtility:No such Thread!\n",
      "FirebaseUtility:Thread 1289444851868565504 Stored!\n",
      "Request Successful\n",
      "1289444851868565504\n"
     ]
    }
   ],
   "source": [
    "surfBot(bot)"
   ]
  },
  {
   "cell_type": "code",
   "execution_count": 33,
   "metadata": {},
   "outputs": [
    {
     "output_type": "stream",
     "name": "stdout",
     "text": [
      "ThreaderBot: Running...\n",
      "Storing The last mentioned 1356173077281992707\n",
      "ThreaderBot: Threading...\n"
     ]
    }
   ],
   "source": [
    "current_tweet_details = bot.run()"
   ]
  },
  {
   "cell_type": "code",
   "execution_count": 34,
   "metadata": {},
   "outputs": [],
   "source": [
    "in_reply_to_tweet_id,in_reply_to_user_id,request_username,request_id = current_tweet_details[0]"
   ]
  },
  {
   "cell_type": "code",
   "execution_count": 42,
   "metadata": {},
   "outputs": [],
   "source": [
    "compiler = ThreadCompiler(in_reply_to_tweet_id,in_reply_to_user_id,request_id)"
   ]
  },
  {
   "cell_type": "code",
   "execution_count": 43,
   "metadata": {},
   "outputs": [
    {
     "output_type": "stream",
     "name": "stdout",
     "text": [
      "ThreadCompiler: Compiling Thread\n",
      "ThreadCompiler: Fetching Head thread!\n",
      "ThreadCompiler:Fetching Bottom thread!\n",
      "ThreadCompiler: BottomThread - No more result found\n",
      "ThreadCompiler:Cooking Bottom Threads!\n",
      "ThreadCompiler:Bottom Threads prepared!\n"
     ]
    },
    {
     "output_type": "execute_result",
     "data": {
      "text/plain": [
       "{'id': 722743883617214464,\n",
       " 'name': 'SobyDamn',\n",
       " 'username': 'SobyDamn',\n",
       " 'profile_img': 'https://pbs.twimg.com/profile_images/1328960664493285378/qRrzvNSN_normal.jpg',\n",
       " 'tweets': {'1355756838117986307': {'text': 'Test 3\\nThread part 1',\n",
       "   'date': '2021-01-31 05:56:33',\n",
       "   'tweet_id': 1355756838117986307,\n",
       "   'urls': [],\n",
       "   'medias': []},\n",
       "  '1355756893684203522': {'text': 'Test 3\\nThread part 2',\n",
       "   'date': '2021-01-31 05:56:46',\n",
       "   'tweet_id': 1355756893684203522,\n",
       "   'urls': [],\n",
       "   'medias': []},\n",
       "  '1355756940379361287': {'text': 'Test 3\\nThread part 3',\n",
       "   'date': '2021-01-31 05:56:57',\n",
       "   'tweet_id': 1355756940379361287,\n",
       "   'urls': [],\n",
       "   'medias': []},\n",
       "  '1355756980879515649': {'text': 'Test 3\\nThread part 4',\n",
       "   'date': '2021-01-31 05:57:07',\n",
       "   'tweet_id': 1355756980879515649,\n",
       "   'urls': [],\n",
       "   'medias': []},\n",
       "  '1356171506833829891': {'text': 'Test 3\\nOOps here is thread part 5',\n",
       "   'date': '2021-02-01 09:24:18',\n",
       "   'tweet_id': 1356171506833829891,\n",
       "   'urls': [],\n",
       "   'medias': []},\n",
       "  '1356171576580988928': {'text': 'test 3\\nhere is thread part 6',\n",
       "   'date': '2021-02-01 09:24:34',\n",
       "   'tweet_id': 1356171576580988928,\n",
       "   'urls': [],\n",
       "   'medias': []},\n",
       "  '1356172591858384897': {'text': 'test 3\\nhere is thread part 7',\n",
       "   'date': '2021-02-01 09:28:37',\n",
       "   'tweet_id': 1356172591858384897,\n",
       "   'urls': [],\n",
       "   'medias': []}}}"
      ]
     },
     "metadata": {},
     "execution_count": 43
    }
   ],
   "source": [
    "thread = compiler.compileThread()\n",
    "thread.to_dict()"
   ]
  },
  {
   "cell_type": "code",
   "execution_count": 36,
   "metadata": {},
   "outputs": [
    {
     "output_type": "stream",
     "name": "stdout",
     "text": [
      "ThreadCompiler: Compiling Thread\n",
      "ThreadCompiler: Fetching Head thread!\n",
      "ThreadCompiler:Fetching Bottom thread!\n",
      "ThreadCompiler: BottomThread - No more result found\n",
      "ThreadCompiler:Cooking Bottom Threads!\n",
      "ThreadCompiler:Bottom Threads prepared!\n"
     ]
    },
    {
     "output_type": "execute_result",
     "data": {
      "text/plain": [
       "{'id': 722743883617214464,\n",
       " 'name': 'SobyDamn',\n",
       " 'username': 'SobyDamn',\n",
       " 'profile_img': 'https://pbs.twimg.com/profile_images/1328960664493285378/qRrzvNSN_normal.jpg',\n",
       " 'tweets': {'1355756838117986307': {'text': 'Test 3\\nThread part 1',\n",
       "   'date': '2021-01-31 05:56:33',\n",
       "   'tweet_id': 1355756838117986307,\n",
       "   'urls': [],\n",
       "   'medias': []},\n",
       "  '1355756893684203522': {'text': 'Test 3\\nThread part 2',\n",
       "   'date': '2021-01-31 05:56:46',\n",
       "   'tweet_id': 1355756893684203522,\n",
       "   'urls': [],\n",
       "   'medias': []},\n",
       "  '1355756940379361287': {'text': 'Test 3\\nThread part 3',\n",
       "   'date': '2021-01-31 05:56:57',\n",
       "   'tweet_id': 1355756940379361287,\n",
       "   'urls': [],\n",
       "   'medias': []},\n",
       "  '1355756980879515649': {'text': 'Test 3\\nThread part 4',\n",
       "   'date': '2021-01-31 05:57:07',\n",
       "   'tweet_id': 1355756980879515649,\n",
       "   'urls': [],\n",
       "   'medias': []},\n",
       "  '1356171506833829891': {'text': 'Test 3\\nOOps here is thread part 5',\n",
       "   'date': '2021-02-01 09:24:18',\n",
       "   'tweet_id': 1356171506833829891,\n",
       "   'urls': [],\n",
       "   'medias': []},\n",
       "  '1356171576580988928': {'text': 'test 3\\nhere is thread part 6',\n",
       "   'date': '2021-02-01 09:24:34',\n",
       "   'tweet_id': 1356171576580988928,\n",
       "   'urls': [],\n",
       "   'medias': []}}}"
      ]
     },
     "metadata": {},
     "execution_count": 36
    }
   ],
   "source": [
    "thread = compiler.compileThread()\n",
    "thread.to_dict()"
   ]
  },
  {
   "cell_type": "code",
   "execution_count": 39,
   "metadata": {},
   "outputs": [
    {
     "output_type": "stream",
     "name": "stdout",
     "text": [
      "ThreadCompiler:Fetching Bottom thread!\n",
      "ThreadCompiler: BottomThread - No more result found\n"
     ]
    },
    {
     "output_type": "execute_result",
     "data": {
      "text/plain": [
       "{1356173077281992707: {'tweet': <__main__.Tweet at 0x22b31cf5d60>,\n",
       "  'in_reply_to_status_id': 1355756940379361287},\n",
       " 1356172678571438083: {'tweet': <__main__.Tweet at 0x22b31cf5880>,\n",
       "  'in_reply_to_status_id': 1356172375952388096},\n",
       " 1356172591858384897: {'tweet': <__main__.Tweet at 0x22b2f117cd0>,\n",
       "  'in_reply_to_status_id': 1356171576580988928},\n",
       " 1356172375952388096: {'tweet': <__main__.Tweet at 0x22b31ceafd0>,\n",
       "  'in_reply_to_status_id': 1356172348072873987},\n",
       " 1356172348072873987: {'tweet': <__main__.Tweet at 0x22b31ceab50>,\n",
       "  'in_reply_to_status_id': 1356172290698997762},\n",
       " 1356171757800062980: {'tweet': <__main__.Tweet at 0x22b31cea610>,\n",
       "  'in_reply_to_status_id': 1355756893684203522},\n",
       " 1356171576580988928: {'tweet': <__main__.Tweet at 0x22b31cea340>,\n",
       "  'in_reply_to_status_id': 1356171506833829891},\n",
       " 1356171506833829891: {'tweet': <__main__.Tweet at 0x22b31ceae80>,\n",
       "  'in_reply_to_status_id': 1355756980879515649},\n",
       " 1355758209420541954: {'tweet': <__main__.Tweet at 0x22b31cea670>,\n",
       "  'in_reply_to_status_id': 1355756893684203522},\n",
       " 1355757620624125958: {'tweet': <__main__.Tweet at 0x22b31ceaa60>,\n",
       "  'in_reply_to_status_id': 1355144761066184714},\n",
       " 1355757444786339844: {'tweet': <__main__.Tweet at 0x22b31cea9a0>,\n",
       "  'in_reply_to_status_id': 1355144777788837888},\n",
       " 1355756980879515649: {'tweet': <__main__.Tweet at 0x22b31cea460>,\n",
       "  'in_reply_to_status_id': 1355756940379361287}}"
      ]
     },
     "metadata": {},
     "execution_count": 39
    }
   ],
   "source": [
    "bottom_tracks = compiler.tweetCompilerBottom()\n",
    "bottom_tracks"
   ]
  },
  {
   "cell_type": "code",
   "execution_count": 40,
   "metadata": {},
   "outputs": [
    {
     "output_type": "stream",
     "name": "stdout",
     "text": [
      "@ThreaderTweet\nrandom thread not of main thread 4/n\ntest 3\nhere is thread part 7\nrandom thread not of main thread 3/n\nrandom thread not of main thread 2/n\n@ThreaderTweet\ntest 3\nhere is thread part 6\nTest 3\nOOps here is thread part 5\nSome typo correction in test 3\nSome more replies test thread part 3\nSome random replies in between the thread test 3\nTest 3\nThread part 4\n"
     ]
    }
   ],
   "source": [
    "for tweet in bottom_tracks:\n",
    "    print(bottom_tracks[tweet]['tweet'].text)"
   ]
  },
  {
   "cell_type": "code",
   "execution_count": 71,
   "metadata": {},
   "outputs": [],
   "source": [
    "compiler = ThreadCompiler(in_reply_to_status_id,in_reply_user_id,request_tweet_id)"
   ]
  },
  {
   "cell_type": "code",
   "execution_count": 72,
   "metadata": {},
   "outputs": [
    {
     "output_type": "stream",
     "name": "stdout",
     "text": [
      "ThreadCompiler: Compiling Thread\n",
      "ThreadCompiler: Fetching Head thread!\n",
      "ThreadCompiler:Fetching Bottom thread!\n",
      "ThreadCompiler: BottomThread - No more result found\n",
      "ThreadCompiler:Cooking Bottom Threads!\n",
      "ThreadCompiler:Bottom Threads prepared!\n"
     ]
    },
    {
     "output_type": "execute_result",
     "data": {
      "text/plain": [
       "{'id': 722743883617214464,\n",
       " 'name': 'SobyDamn',\n",
       " 'username': 'SobyDamn',\n",
       " 'profile_img': 'https://pbs.twimg.com/profile_images/1328960664493285378/qRrzvNSN_normal.jpg',\n",
       " 'tweets': {'1355531384589344771': {'text': 'Test 2\\nTHis is thread part 1',\n",
       "   'date': '2021-01-30 15:00:41',\n",
       "   'tweet_id': 1355531384589344771,\n",
       "   'urls': [],\n",
       "   'medias': []},\n",
       "  '1355531501132255242': {'text': 'Test 2\\nTHis is thread part 2',\n",
       "   'date': '2021-01-30 15:01:09',\n",
       "   'tweet_id': 1355531501132255242,\n",
       "   'urls': [],\n",
       "   'medias': []},\n",
       "  '1355531534346964997': {'text': 'Test 2\\nTHis is thread part 3',\n",
       "   'date': '2021-01-30 15:01:17',\n",
       "   'tweet_id': 1355531534346964997,\n",
       "   'urls': [],\n",
       "   'medias': []},\n",
       "  '1355531584355643397': {'text': 'Test 2\\nTHis is thread part 4',\n",
       "   'date': '2021-01-30 15:01:28',\n",
       "   'tweet_id': 1355531584355643397,\n",
       "   'urls': [],\n",
       "   'medias': []},\n",
       "  '1355531813704359936': {'text': 'Test 2\\nTHis is thread part last',\n",
       "   'date': '2021-01-30 15:02:23',\n",
       "   'tweet_id': 1355531813704359936,\n",
       "   'urls': [],\n",
       "   'medias': []},\n",
       "  '1355558754587189248': {'text': 'oops last one is this https://t.co/uH2GvOCrb4',\n",
       "   'date': '2021-01-30 16:49:26',\n",
       "   'tweet_id': 1355558754587189248,\n",
       "   'urls': [],\n",
       "   'medias': []}}}"
      ]
     },
     "metadata": {},
     "execution_count": 72
    }
   ],
   "source": [
    "tweets = compiler.compileThread()\n",
    "tweets.to_dict()"
   ]
  },
  {
   "cell_type": "code",
   "execution_count": 73,
   "metadata": {},
   "outputs": [],
   "source": [
    "tweet = api.get_status(1355558754587189248, tweet_mode=\"extended\")"
   ]
  },
  {
   "cell_type": "code",
   "execution_count": 95,
   "metadata": {},
   "outputs": [],
   "source": [
    "tweet\n",
    "medias = []\n",
    "if hasattr(tweet,\"extended_entities\"):\n",
    "    if \"media\" in tweet.extended_entities:\n",
    "        media_entities = tweet.extended_entities['media']\n",
    "        for media_data in media_entities:\n",
    "            media = {}\n",
    "            ##Currently only planning to save photo data as it'll be transformed to PDF\n",
    "            if media_data['type']=='photo' or media_data['type'] == 'video':\n",
    "                media['type'] = media_data['type']\n",
    "                media['media_url_https'] = media_data['media_url_https']\n",
    "                media['media_url'] = media_data['media_url']\n",
    "                media['expanded_url'] = media_data['expanded_url']\n",
    "                medias.append(media)"
   ]
  },
  {
   "cell_type": "code",
   "execution_count": 96,
   "metadata": {},
   "outputs": [
    {
     "output_type": "execute_result",
     "data": {
      "text/plain": [
       "[{'type': 'photo',\n",
       "  'media_url_https': 'https://pbs.twimg.com/media/Es_pfkxWMAM3Q_c.png',\n",
       "  'media_url': 'http://pbs.twimg.com/media/Es_pfkxWMAM3Q_c.png',\n",
       "  'expanded_url': 'https://twitter.com/SobyDamn/status/1355558754587189248/photo/1'}]"
      ]
     },
     "metadata": {},
     "execution_count": 96
    }
   ],
   "source": [
    "medias"
   ]
  },
  {
   "cell_type": "code",
   "execution_count": 126,
   "metadata": {},
   "outputs": [
    {
     "output_type": "stream",
     "name": "stdout",
     "text": [
      "ThreadCompiler:Cooking Bottom Threads!\n"
     ]
    },
    {
     "output_type": "execute_result",
     "data": {
      "text/plain": [
       "[<__main__.Tweet at 0x153ba709070>,\n",
       " <__main__.Tweet at 0x153ba7092b0>,\n",
       " <__main__.Tweet at 0x153ba709b80>]"
      ]
     },
     "metadata": {},
     "execution_count": 126
    }
   ],
   "source": [
    "bottom_thread = compiler.fetchBottomThread(tweets_track,tweet_id)\n",
    "bottom_thread"
   ]
  },
  {
   "cell_type": "code",
   "execution_count": 129,
   "metadata": {},
   "outputs": [
    {
     "output_type": "stream",
     "name": "stdout",
     "text": [
      "Some random text\nThis is thread Part 1\nThis is thread Part 2\nThis is thread Part 3\nThis is thread Part 4\nThis is thread Part 6\nThis is thread Part 7\n"
     ]
    }
   ],
   "source": [
    "for tweet in compiler.tweets:\n",
    "    print(tweet.text)"
   ]
  },
  {
   "cell_type": "code",
   "execution_count": 106,
   "metadata": {},
   "outputs": [
    {
     "output_type": "execute_result",
     "data": {
      "text/plain": [
       "{1355196400557056001: {'tweet': <__main__.Tweet at 0x153ba764490>,\n",
       "  'in_reply_to_status_id': 1355132897577955334},\n",
       " 1355133016155197459: {'tweet': <__main__.Tweet at 0x153b999e3a0>,\n",
       "  'in_reply_to_status_id': 1355132974098878465},\n",
       " 1355132974098878465: {'tweet': <__main__.Tweet at 0x153b99dcf70>,\n",
       "  'in_reply_to_status_id': 1355132940540252165},\n",
       " 1355132940540252165: {'tweet': <__main__.Tweet at 0x153b7a32910>,\n",
       "  'in_reply_to_status_id': 1355132897577955334}}"
      ]
     },
     "metadata": {},
     "execution_count": 106
    }
   ],
   "source": [
    "tweets_track"
   ]
  },
  {
   "cell_type": "code",
   "execution_count": 110,
   "metadata": {},
   "outputs": [
    {
     "output_type": "stream",
     "name": "stdout",
     "text": [
      "0 i\n1355196400557056001\n0\n1 i\n1355133016155197459\n1355132974098878465\n1355132940540252165\n2\n"
     ]
    }
   ],
   "source": [
    "i=0\n",
    "threads = {}\n",
    "while i<len(list(tweets_track)):\n",
    "    print(i,\"i\")\n",
    "    looking_for = list(tweets_track)[i]\n",
    "    child_id = looking_for\n",
    "    i +=1\n",
    "    count = 0\n",
    "    possible_threads = []\n",
    "    while looking_for:\n",
    "        if looking_for in tweets_track:\n",
    "            count +=1\n",
    "            possible_threads.append(tweets_track[looking_for]['tweet'])\n",
    "            print(looking_for)\n",
    "            looking_for = tweets_track[looking_for][\"in_reply_to_status_id\"]\n",
    "        elif looking_for == 1355132897577955334: #THread I was looking for\n",
    "            threads[child_id] = possible_threads\n",
    "            break\n",
    "        else:\n",
    "            print(\"End!\")\n",
    "            break\n",
    "    print(count-1)\n",
    "    i += count - 1"
   ]
  },
  {
   "cell_type": "code",
   "execution_count": 94,
   "metadata": {},
   "outputs": [
    {
     "output_type": "execute_result",
     "data": {
      "text/plain": [
       "{1355196400557056001: [<__main__.Tweet at 0x153ba6ccc70>],\n",
       " 1355133016155197459: [<__main__.Tweet at 0x153ba6b0640>,\n",
       "  <__main__.Tweet at 0x153ba6b0760>,\n",
       "  <__main__.Tweet at 0x153ba6b0880>],\n",
       " 1355144761066184714: [<__main__.Tweet at 0x153ba6b0640>,\n",
       "  <__main__.Tweet at 0x153ba6b0760>,\n",
       "  <__main__.Tweet at 0x153ba6b0880>]}"
      ]
     },
     "metadata": {},
     "execution_count": 94
    }
   ],
   "source": [
    "threads[1355144761066184714] = threads[1355133016155197459]\n",
    "threads"
   ]
  },
  {
   "cell_type": "code",
   "execution_count": 96,
   "metadata": {},
   "outputs": [
    {
     "output_type": "execute_result",
     "data": {
      "text/plain": [
       "1355133016155197459"
      ]
     },
     "metadata": {},
     "execution_count": 96
    }
   ],
   "source": [
    "thread_id = max(threads, key=lambda k: len(threads[k]))\n",
    "threads[thread_id][::-1]\n",
    "thread_id"
   ]
  },
  {
   "cell_type": "code",
   "execution_count": 92,
   "metadata": {},
   "outputs": [
    {
     "output_type": "stream",
     "name": "stdout",
     "text": [
      "This is thread Part 4\nThis is thread Part 6\nThis is thread Part 7\n"
     ]
    }
   ],
   "source": [
    "for tweet in threads[thread_id][::-1]:\n",
    "    print(tweet.text)"
   ]
  },
  {
   "cell_type": "code",
   "execution_count": 89,
   "metadata": {},
   "outputs": [
    {
     "output_type": "execute_result",
     "data": {
      "text/plain": [
       "1355133016155197459"
      ]
     },
     "metadata": {},
     "execution_count": 89
    }
   ],
   "source": [
    "threads.values()\n"
   ]
  },
  {
   "cell_type": "code",
   "execution_count": 191,
   "metadata": {},
   "outputs": [
    {
     "output_type": "stream",
     "name": "stdout",
     "text": [
      "Looking This is thread Part 4 1355132897577955334\nfound This is thread Part 4 1355132940540252165\nLooking This is thread Part 6 1355132940540252165\nfound This is thread Part 6 1355132974098878465\nLooking This is thread Part 7 1355132974098878465\nfound This is thread Part 7 1355133016155197459\n"
     ]
    }
   ],
   "source": [
    "looking_for = in_reply_status_id\n",
    "for tweet in list(timeline)[::-1]:\n",
    "    print(\"Looking\",tweet.text,looking_for)\n",
    "    if hasattr(tweet, 'in_reply_to_status_id_str'):\n",
    "        if tweet.in_reply_to_status_id == looking_for and tweet.id != tweet_id:\n",
    "            looking_for = tweet.id\n",
    "            print(\"found\",tweet.text,tweet.id)"
   ]
  },
  {
   "cell_type": "code",
   "execution_count": 158,
   "metadata": {
    "tags": []
   },
   "outputs": [
    {
     "output_type": "execute_result",
     "data": {
      "text/plain": [
       "Status(_api=<tweepy.api.API object at 0x000001C53EAF0460>, _json={'created_at': 'Fri Jan 29 12:37:24 +0000 2021', 'id': 1355132940540252165, 'id_str': '1355132940540252165', 'text': 'This is thread Part 4', 'truncated': False, 'entities': {'hashtags': [], 'symbols': [], 'user_mentions': [], 'urls': []}, 'source': '<a href=\"http://twitter.com/download/android\" rel=\"nofollow\">Twitter for Android</a>', 'in_reply_to_status_id': 1355132897577955334, 'in_reply_to_status_id_str': '1355132897577955334', 'in_reply_to_user_id': 722743883617214464, 'in_reply_to_user_id_str': '722743883617214464', 'in_reply_to_screen_name': 'SobyDamn', 'user': {'id': 722743883617214464, 'id_str': '722743883617214464'}, 'geo': None, 'coordinates': None, 'place': None, 'contributors': None, 'is_quote_status': False, 'retweet_count': 0, 'favorite_count': 0, 'favorited': False, 'retweeted': False, 'lang': 'en'}, created_at=datetime.datetime(2021, 1, 29, 12, 37, 24), id=1355132940540252165, id_str='1355132940540252165', text='This is thread Part 4', truncated=False, entities={'hashtags': [], 'symbols': [], 'user_mentions': [], 'urls': []}, source='Twitter for Android', source_url='http://twitter.com/download/android', in_reply_to_status_id=1355132897577955334, in_reply_to_status_id_str='1355132897577955334', in_reply_to_user_id=722743883617214464, in_reply_to_user_id_str='722743883617214464', in_reply_to_screen_name='SobyDamn', author=User(_api=<tweepy.api.API object at 0x000001C53EAF0460>, _json={'id': 722743883617214464, 'id_str': '722743883617214464'}, id=722743883617214464, id_str='722743883617214464'), user=User(_api=<tweepy.api.API object at 0x000001C53EAF0460>, _json={'id': 722743883617214464, 'id_str': '722743883617214464'}, id=722743883617214464, id_str='722743883617214464'), geo=None, coordinates=None, place=None, contributors=None, is_quote_status=False, retweet_count=0, favorite_count=0, favorited=False, retweeted=False, lang='en')"
      ]
     },
     "metadata": {},
     "execution_count": 158
    }
   ],
   "source": [
    "timeline[0]"
   ]
  },
  {
   "cell_type": "code",
   "execution_count": 165,
   "metadata": {},
   "outputs": [
    {
     "output_type": "stream",
     "name": "stdout",
     "text": [
      "This is thread Part 4\nThis is thread Part 6\nThis is thread Part 7\n@ThreaderTweet\nSome.more tweets\nHeya world\nDumbs\n"
     ]
    }
   ],
   "source": [
    "for tweet in timeline[::-1]:\n",
    "    print(tweet.text)"
   ]
  },
  {
   "cell_type": "code",
   "execution_count": 240,
   "metadata": {},
   "outputs": [],
   "source": [
    "timelineTest = tweepy.Cursor(api.user_timeline,user_id=in_reply_user_id,trim_user=True,include_rts=False,exclude_replies=False,since_id=since_id,tweet_mode=\"extended\").items()"
   ]
  },
  {
   "cell_type": "code",
   "execution_count": 242,
   "metadata": {
    "tags": []
   },
   "outputs": [
    {
     "output_type": "error",
     "ename": "SyntaxError",
     "evalue": "'return' outside function (<ipython-input-242-fca8e1d9ef19>, line 18)",
     "traceback": [
      "\u001b[1;36m  File \u001b[1;32m\"<ipython-input-242-fca8e1d9ef19>\"\u001b[1;36m, line \u001b[1;32m18\u001b[0m\n\u001b[1;33m    return True\u001b[0m\n\u001b[1;37m    ^\u001b[0m\n\u001b[1;31mSyntaxError\u001b[0m\u001b[1;31m:\u001b[0m 'return' outside function\n"
     ]
    }
   ],
   "source": [
    "tweets = []\n",
    "for i in range(300):\n",
    "    print(i)\n",
    "    try:\n",
    "        tweet = timelineTest.next()\n",
    "        medias = []\n",
    "        if 'media' in tweet.entities:\n",
    "            media_entities = tweet.entities['media']\n",
    "            for media_data in media_entities:\n",
    "                ##Currently only planning to save photo data as it'll be transformed to PDF\n",
    "                if media_data['type']=='photo':\n",
    "                    medias.append(media_data['media_url_https'])\n",
    "        tweetObj = Tweet(tweet.full_text,str(tweet.created_at),list(medias),tweet.id,tweet.entities['urls'])\n",
    "        tweets.append(tweetObj)\n",
    "        print(tweet.full_text)\n",
    "    except StopIteration:\n",
    "        print(\"Tweepy Cursor: No more result found\")\n",
    "        return True\n",
    "    except tweepy.RateLimitError as e:\n",
    "        logging.error(\"Twitter api rate limit reached\".format(e))\n",
    "        time.sleep(60)\n",
    "        continue\n",
    "    print(\"Am I getting triggered?\")"
   ]
  },
  {
   "cell_type": "code",
   "execution_count": 229,
   "metadata": {},
   "outputs": [
    {
     "output_type": "execute_result",
     "data": {
      "text/plain": [
       "300"
      ]
     },
     "metadata": {},
     "execution_count": 229
    }
   ],
   "source": [
    "len(tweets)"
   ]
  },
  {
   "cell_type": "code",
   "execution_count": 231,
   "metadata": {},
   "outputs": [
    {
     "output_type": "error",
     "ename": "TypeError",
     "evalue": "write() argument must be str, not list",
     "traceback": [
      "\u001b[1;31m---------------------------------------------------------------------------\u001b[0m",
      "\u001b[1;31mTypeError\u001b[0m                                 Traceback (most recent call last)",
      "\u001b[1;32m<ipython-input-231-f525800c6104>\u001b[0m in \u001b[0;36m<module>\u001b[1;34m\u001b[0m\n\u001b[0;32m      1\u001b[0m \u001b[1;32mwith\u001b[0m \u001b[0mopen\u001b[0m\u001b[1;33m(\u001b[0m\u001b[1;34m\"file.txt\"\u001b[0m\u001b[1;33m,\u001b[0m\u001b[1;34m\"w\"\u001b[0m\u001b[1;33m)\u001b[0m \u001b[1;32mas\u001b[0m \u001b[0mf\u001b[0m\u001b[1;33m:\u001b[0m\u001b[1;33m\u001b[0m\u001b[1;33m\u001b[0m\u001b[0m\n\u001b[1;32m----> 2\u001b[1;33m     \u001b[0mf\u001b[0m\u001b[1;33m.\u001b[0m\u001b[0mwrite\u001b[0m\u001b[1;33m(\u001b[0m\u001b[0mtweets\u001b[0m\u001b[1;33m)\u001b[0m\u001b[1;33m\u001b[0m\u001b[1;33m\u001b[0m\u001b[0m\n\u001b[0m\u001b[0;32m      3\u001b[0m     \u001b[0mf\u001b[0m\u001b[1;33m.\u001b[0m\u001b[0mclose\u001b[0m\u001b[1;33m(\u001b[0m\u001b[1;33m)\u001b[0m\u001b[1;33m\u001b[0m\u001b[1;33m\u001b[0m\u001b[0m\n",
      "\u001b[1;31mTypeError\u001b[0m: write() argument must be str, not list"
     ]
    }
   ],
   "source": [
    "with open(\"file.txt\",\"w\") as f:\n",
    "    f.write(tweets)\n",
    "    f.close()"
   ]
  },
  {
   "cell_type": "code",
   "execution_count": 232,
   "metadata": {},
   "outputs": [],
   "source": [
    "track_tweets = {tweets[0].tweet_id:tweets[0]}"
   ]
  },
  {
   "cell_type": "code",
   "execution_count": 239,
   "metadata": {},
   "outputs": [
    {
     "output_type": "stream",
     "name": "stdout",
     "text": [
      "Not exists\n"
     ]
    }
   ],
   "source": [
    "if tweets[0].tweet_id in track_tweets:\n",
    "    print(\"Not exists\")"
   ]
  },
  {
   "cell_type": "code",
   "execution_count": 29,
   "metadata": {},
   "outputs": [
    {
     "output_type": "execute_result",
     "data": {
      "text/plain": [
       "[123, 1223]"
      ]
     },
     "metadata": {},
     "execution_count": 29
    }
   ],
   "source": [
    "val = {123:{\"a\":1},\n",
    "    1232:{\"a\":2},\n",
    "    1223:{\"a\":1}\n",
    "    }\n",
    "keys = [x for x,y in val.items() if y['a'] == 1]\n",
    "keys"
   ]
  },
  {
   "cell_type": "code",
   "execution_count": 245,
   "metadata": {},
   "outputs": [
    {
     "output_type": "execute_result",
     "data": {
      "text/plain": [
       "[1, 2, 3, 4, 5, 6, 7, 8]"
      ]
     },
     "metadata": {},
     "execution_count": 245
    }
   ],
   "source": [
    "a = [1,2,3,4]\n",
    "b = [5,6,7,8]\n",
    "a+b"
   ]
  },
  {
   "cell_type": "code",
   "execution_count": 110,
   "metadata": {},
   "outputs": [
    {
     "output_type": "execute_result",
     "data": {
      "text/plain": [
       "3"
      ]
     },
     "metadata": {},
     "execution_count": 110
    }
   ],
   "source": [
    "x = {1:[1,2,3,4],2:[1,2,3,4],3:[0]}\n",
    "len(x)"
   ]
  },
  {
   "cell_type": "code",
   "execution_count": 18,
   "metadata": {},
   "outputs": [
    {
     "output_type": "stream",
     "name": "stdout",
     "text": [
      "error Negative number\n"
     ]
    }
   ],
   "source": [
    "def positiveNum(num):\n",
    "    if num <0:\n",
    "        raise Exception(\"Negative number\")\n",
    "    else:\n",
    "        print(\"YEs passed\")\n",
    "    return num\n",
    "def test():\n",
    "    try:\n",
    "        for i in range(10):\n",
    "            print(positiveNum(i-5))\n",
    "    except Exception as e:\n",
    "        print(\"error\",e)\n",
    "test()"
   ]
  },
  {
   "cell_type": "code",
   "execution_count": 41,
   "metadata": {},
   "outputs": [
    {
     "output_type": "stream",
     "name": "stdout",
     "text": [
      "9\n9\n9\n9\n9\n9\n9\n9\n9\n9\n"
     ]
    }
   ],
   "source": []
  },
  {
   "cell_type": "code",
   "execution_count": null,
   "metadata": {},
   "outputs": [],
   "source": [
    "\n"
   ]
  }
 ]
}