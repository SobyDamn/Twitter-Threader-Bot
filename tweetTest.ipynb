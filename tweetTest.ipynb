{
 "metadata": {
  "language_info": {
   "codemirror_mode": {
    "name": "ipython",
    "version": 3
   },
   "file_extension": ".py",
   "mimetype": "text/x-python",
   "name": "python",
   "nbconvert_exporter": "python",
   "pygments_lexer": "ipython3",
   "version": "3.8.7-final"
  },
  "orig_nbformat": 2,
  "kernelspec": {
   "name": "python3",
   "display_name": "Python 3",
   "language": "python"
  }
 },
 "nbformat": 4,
 "nbformat_minor": 2,
 "cells": [
  {
   "cell_type": "code",
   "execution_count": 2,
   "metadata": {},
   "outputs": [],
   "source": [
    "import tweepy\n",
    "import time\n",
    "import logging\n",
    "import random\n",
    "import os\n",
    "from os import environ"
   ]
  },
  {
   "cell_type": "code",
   "execution_count": 3,
   "metadata": {},
   "outputs": [],
   "source": [
    "API_KEY = \"aMkzebskwqn78mGSQtQaaRtiO\"\n",
    "API_SKEY = \"5qZBiiHSIlhFjb2yM1KmdNxdN2d5hUwMOaJofeAuQrmKvxwegb\"\n",
    "ACC_Token = \"722743883617214464-AAdKQp7tC1kAl94qxSM7xq5Rfzf2YX1\"\n",
    "ACC_Token_Secret = \"WBX90DB6UfTfYOhlRUjrk3iq7BTkKJ8esTWpPD9ixLk0B\""
   ]
  },
  {
   "cell_type": "code",
   "execution_count": 4,
   "metadata": {},
   "outputs": [],
   "source": [
    "auth = tweepy.OAuthHandler(API_KEY,API_SKEY)\n",
    "auth.set_access_token(ACC_Token,ACC_Token_Secret)\n",
    "api = tweepy.API(auth, wait_on_rate_limit=True,\n",
    "    wait_on_rate_limit_notify=True)"
   ]
  },
  {
   "cell_type": "code",
   "execution_count": 7,
   "metadata": {},
   "outputs": [],
   "source": [
    "user = api.get_user('sobydamn')"
   ]
  },
  {
   "cell_type": "code",
   "execution_count": 8,
   "metadata": {},
   "outputs": [
    {
     "output_type": "stream",
     "name": "stdout",
     "text": [
      "SobyDamn\n"
     ]
    }
   ],
   "source": [
    "print(user.screen_name)"
   ]
  },
  {
   "cell_type": "code",
   "execution_count": 9,
   "metadata": {},
   "outputs": [
    {
     "output_type": "execute_result",
     "data": {
      "text/plain": [
       "User(_api=<tweepy.api.API object at 0x000001C8BF3171C0>, _json={'id': 722743883617214464, 'id_str': '722743883617214464', 'name': 'SobyDamn', 'screen_name': 'SobyDamn', 'location': 'Earth', 'profile_location': None, 'description': 'I am cursed to have 0 followers!', 'url': None, 'entities': {'description': {'urls': []}}, 'protected': True, 'followers_count': 0, 'friends_count': 47, 'listed_count': 0, 'created_at': 'Wed Apr 20 11:09:04 +0000 2016', 'favourites_count': 20792, 'utc_offset': None, 'time_zone': None, 'geo_enabled': False, 'verified': False, 'statuses_count': 2159, 'lang': None, 'status': {'created_at': 'Sat Sep 12 18:05:26 +0000 2020', 'id': 1304843578724610048, 'id_str': '1304843578724610048', 'text': \"@Nihaal_an @js13kGames I guess it's playable on mobile aswell.\\nYou should update the category then\", 'truncated': False, 'entities': {'hashtags': [], 'symbols': [], 'user_mentions': [{'screen_name': 'Nihaal_an', 'name': 'Abdun Nihaal', 'id': 1854681330, 'id_str': '1854681330', 'indices': [0, 10]}, {'screen_name': 'js13kGames', 'name': 'js13kGames', 'id': 633707027, 'id_str': '633707027', 'indices': [11, 22]}], 'urls': []}, 'source': '<a href=\"http://twitter.com/download/android\" rel=\"nofollow\">Twitter for Android</a>', 'in_reply_to_status_id': 1304839797790310406, 'in_reply_to_status_id_str': '1304839797790310406', 'in_reply_to_user_id': 1854681330, 'in_reply_to_user_id_str': '1854681330', 'in_reply_to_screen_name': 'Nihaal_an', 'geo': None, 'coordinates': None, 'place': None, 'contributors': None, 'is_quote_status': False, 'retweet_count': 0, 'favorite_count': 0, 'favorited': False, 'retweeted': False, 'lang': 'en'}, 'contributors_enabled': False, 'is_translator': False, 'is_translation_enabled': False, 'profile_background_color': 'F5F8FA', 'profile_background_image_url': None, 'profile_background_image_url_https': None, 'profile_background_tile': False, 'profile_image_url': 'http://pbs.twimg.com/profile_images/1328960664493285378/qRrzvNSN_normal.jpg', 'profile_image_url_https': 'https://pbs.twimg.com/profile_images/1328960664493285378/qRrzvNSN_normal.jpg', 'profile_banner_url': 'https://pbs.twimg.com/profile_banners/722743883617214464/1507992892', 'profile_link_color': '1DA1F2', 'profile_sidebar_border_color': 'C0DEED', 'profile_sidebar_fill_color': 'DDEEF6', 'profile_text_color': '333333', 'profile_use_background_image': True, 'has_extended_profile': True, 'default_profile': True, 'default_profile_image': False, 'following': False, 'follow_request_sent': False, 'notifications': False, 'translator_type': 'none', 'suspended': False, 'needs_phone_verification': False}, id=722743883617214464, id_str='722743883617214464', name='SobyDamn', screen_name='SobyDamn', location='Earth', profile_location=None, description='I am cursed to have 0 followers!', url=None, entities={'description': {'urls': []}}, protected=True, followers_count=0, friends_count=47, listed_count=0, created_at=datetime.datetime(2016, 4, 20, 11, 9, 4), favourites_count=20792, utc_offset=None, time_zone=None, geo_enabled=False, verified=False, statuses_count=2159, lang=None, status=Status(_api=<tweepy.api.API object at 0x000001C8BF3171C0>, _json={'created_at': 'Sat Sep 12 18:05:26 +0000 2020', 'id': 1304843578724610048, 'id_str': '1304843578724610048', 'text': \"@Nihaal_an @js13kGames I guess it's playable on mobile aswell.\\nYou should update the category then\", 'truncated': False, 'entities': {'hashtags': [], 'symbols': [], 'user_mentions': [{'screen_name': 'Nihaal_an', 'name': 'Abdun Nihaal', 'id': 1854681330, 'id_str': '1854681330', 'indices': [0, 10]}, {'screen_name': 'js13kGames', 'name': 'js13kGames', 'id': 633707027, 'id_str': '633707027', 'indices': [11, 22]}], 'urls': []}, 'source': '<a href=\"http://twitter.com/download/android\" rel=\"nofollow\">Twitter for Android</a>', 'in_reply_to_status_id': 1304839797790310406, 'in_reply_to_status_id_str': '1304839797790310406', 'in_reply_to_user_id': 1854681330, 'in_reply_to_user_id_str': '1854681330', 'in_reply_to_screen_name': 'Nihaal_an', 'geo': None, 'coordinates': None, 'place': None, 'contributors': None, 'is_quote_status': False, 'retweet_count': 0, 'favorite_count': 0, 'favorited': False, 'retweeted': False, 'lang': 'en'}, created_at=datetime.datetime(2020, 9, 12, 18, 5, 26), id=1304843578724610048, id_str='1304843578724610048', text=\"@Nihaal_an @js13kGames I guess it's playable on mobile aswell.\\nYou should update the category then\", truncated=False, entities={'hashtags': [], 'symbols': [], 'user_mentions': [{'screen_name': 'Nihaal_an', 'name': 'Abdun Nihaal', 'id': 1854681330, 'id_str': '1854681330', 'indices': [0, 10]}, {'screen_name': 'js13kGames', 'name': 'js13kGames', 'id': 633707027, 'id_str': '633707027', 'indices': [11, 22]}], 'urls': []}, source='Twitter for Android', source_url='http://twitter.com/download/android', in_reply_to_status_id=1304839797790310406, in_reply_to_status_id_str='1304839797790310406', in_reply_to_user_id=1854681330, in_reply_to_user_id_str='1854681330', in_reply_to_screen_name='Nihaal_an', geo=None, coordinates=None, place=None, contributors=None, is_quote_status=False, retweet_count=0, favorite_count=0, favorited=False, retweeted=False, lang='en'), contributors_enabled=False, is_translator=False, is_translation_enabled=False, profile_background_color='F5F8FA', profile_background_image_url=None, profile_background_image_url_https=None, profile_background_tile=False, profile_image_url='http://pbs.twimg.com/profile_images/1328960664493285378/qRrzvNSN_normal.jpg', profile_image_url_https='https://pbs.twimg.com/profile_images/1328960664493285378/qRrzvNSN_normal.jpg', profile_banner_url='https://pbs.twimg.com/profile_banners/722743883617214464/1507992892', profile_link_color='1DA1F2', profile_sidebar_border_color='C0DEED', profile_sidebar_fill_color='DDEEF6', profile_text_color='333333', profile_use_background_image=True, has_extended_profile=True, default_profile=True, default_profile_image=False, following=False, follow_request_sent=False, notifications=False, translator_type='none', suspended=False, needs_phone_verification=False)"
      ]
     },
     "metadata": {},
     "execution_count": 9
    }
   ],
   "source": [
    "user"
   ]
  },
  {
   "cell_type": "code",
   "execution_count": 5,
   "metadata": {},
   "outputs": [],
   "source": [
    "def retrieve_since_id(file_name=\"since_id.txt\"):\n",
    "    fread = open(file_name, 'r')\n",
    "    since_id = int(fread.read().strip())\n",
    "    fread.close()\n",
    "    return since_id\n",
    "\n",
    "def store_since_id(since_id, file_name=\"since_id.txt\"):\n",
    "    fwrite = open(file_name, 'w')\n",
    "    fwrite.write(str(since_id))\n",
    "    fwrite.close()\n",
    "    return"
   ]
  },
  {
   "cell_type": "code",
   "execution_count": 6,
   "metadata": {},
   "outputs": [
    {
     "output_type": "execute_result",
     "data": {
      "text/plain": [
       "1354010522516633986"
      ]
     },
     "metadata": {},
     "execution_count": 6
    }
   ],
   "source": [
    "since_id = retrieve_since_id()\n",
    "since_id"
   ]
  },
  {
   "cell_type": "code",
   "execution_count": 7,
   "metadata": {},
   "outputs": [],
   "source": [
    "def fetchTweets():\n",
    "    ##Fetching only mentioned tweet\n",
    "    #Retweet will also trigger this\n",
    "    since_id = retrieve_since_id()\n",
    "    mentions = api.mentions_timeline(since_id)\n",
    "    mention = mentions[-1] if len(mentions) !=0 else None\n",
    "    if mention:\n",
    "        since_id = mention.id #Store the last id so that we can keep ourself updated\n",
    "        store_since_id(since_id)\n",
    "    return mention"
   ]
  },
  {
   "cell_type": "code",
   "execution_count": 73,
   "metadata": {},
   "outputs": [
    {
     "output_type": "execute_result",
     "data": {
      "text/plain": [
       "Status(_api=<tweepy.api.API object at 0x000001B390F66550>, _json={'created_at': 'Tue Jan 26 10:17:19 +0000 2021', 'id': 1354010522526633986, 'id_str': '1354010522526633986', 'text': '@BharadwajSpeaks @SobyDamn', 'truncated': False, 'entities': {'hashtags': [], 'symbols': [], 'user_mentions': [{'screen_name': 'BharadwajSpeaks', 'name': 'Bharadwaj', 'id': 1330031041206161408, 'id_str': '1330031041206161408', 'indices': [0, 16]}, {'screen_name': 'SobyDamn', 'name': 'SobyDamn', 'id': 722743883617214464, 'id_str': '722743883617214464', 'indices': [17, 26]}], 'urls': []}, 'source': '<a href=\"https://mobile.twitter.com\" rel=\"nofollow\">Twitter Web App</a>', 'in_reply_to_status_id': 1351725420421369856, 'in_reply_to_status_id_str': '1351725420421369856', 'in_reply_to_user_id': 1330031041206161408, 'in_reply_to_user_id_str': '1330031041206161408', 'in_reply_to_screen_name': 'BharadwajSpeaks', 'user': {'id': 1353704693910921221, 'id_str': '1353704693910921221', 'name': 'Sritabh Priyadarshi', 'screen_name': 'ThreaderTweet', 'location': '', 'description': 'Mention me for a pretty thread', 'url': None, 'entities': {'description': {'urls': []}}, 'protected': False, 'followers_count': 1, 'friends_count': 8, 'listed_count': 0, 'created_at': 'Mon Jan 25 14:02:14 +0000 2021', 'favourites_count': 0, 'utc_offset': None, 'time_zone': None, 'geo_enabled': False, 'verified': False, 'statuses_count': 7, 'lang': None, 'contributors_enabled': False, 'is_translator': False, 'is_translation_enabled': False, 'profile_background_color': 'F5F8FA', 'profile_background_image_url': None, 'profile_background_image_url_https': None, 'profile_background_tile': False, 'profile_image_url': 'http://abs.twimg.com/sticky/default_profile_images/default_profile_normal.png', 'profile_image_url_https': 'https://abs.twimg.com/sticky/default_profile_images/default_profile_normal.png', 'profile_link_color': '1DA1F2', 'profile_sidebar_border_color': 'C0DEED', 'profile_sidebar_fill_color': 'DDEEF6', 'profile_text_color': '333333', 'profile_use_background_image': True, 'has_extended_profile': True, 'default_profile': True, 'default_profile_image': True, 'following': True, 'follow_request_sent': False, 'notifications': False, 'translator_type': 'none'}, 'geo': None, 'coordinates': None, 'place': None, 'contributors': None, 'is_quote_status': False, 'retweet_count': 0, 'favorite_count': 0, 'favorited': False, 'retweeted': False, 'lang': 'und'}, created_at=datetime.datetime(2021, 1, 26, 10, 17, 19), id=1354010522526633986, id_str='1354010522526633986', text='@BharadwajSpeaks @SobyDamn', truncated=False, entities={'hashtags': [], 'symbols': [], 'user_mentions': [{'screen_name': 'BharadwajSpeaks', 'name': 'Bharadwaj', 'id': 1330031041206161408, 'id_str': '1330031041206161408', 'indices': [0, 16]}, {'screen_name': 'SobyDamn', 'name': 'SobyDamn', 'id': 722743883617214464, 'id_str': '722743883617214464', 'indices': [17, 26]}], 'urls': []}, source='Twitter Web App', source_url='https://mobile.twitter.com', in_reply_to_status_id=1351725420421369856, in_reply_to_status_id_str='1351725420421369856', in_reply_to_user_id=1330031041206161408, in_reply_to_user_id_str='1330031041206161408', in_reply_to_screen_name='BharadwajSpeaks', author=User(_api=<tweepy.api.API object at 0x000001B390F66550>, _json={'id': 1353704693910921221, 'id_str': '1353704693910921221', 'name': 'Sritabh Priyadarshi', 'screen_name': 'ThreaderTweet', 'location': '', 'description': 'Mention me for a pretty thread', 'url': None, 'entities': {'description': {'urls': []}}, 'protected': False, 'followers_count': 1, 'friends_count': 8, 'listed_count': 0, 'created_at': 'Mon Jan 25 14:02:14 +0000 2021', 'favourites_count': 0, 'utc_offset': None, 'time_zone': None, 'geo_enabled': False, 'verified': False, 'statuses_count': 7, 'lang': None, 'contributors_enabled': False, 'is_translator': False, 'is_translation_enabled': False, 'profile_background_color': 'F5F8FA', 'profile_background_image_url': None, 'profile_background_image_url_https': None, 'profile_background_tile': False, 'profile_image_url': 'http://abs.twimg.com/sticky/default_profile_images/default_profile_normal.png', 'profile_image_url_https': 'https://abs.twimg.com/sticky/default_profile_images/default_profile_normal.png', 'profile_link_color': '1DA1F2', 'profile_sidebar_border_color': 'C0DEED', 'profile_sidebar_fill_color': 'DDEEF6', 'profile_text_color': '333333', 'profile_use_background_image': True, 'has_extended_profile': True, 'default_profile': True, 'default_profile_image': True, 'following': True, 'follow_request_sent': False, 'notifications': False, 'translator_type': 'none'}, id=1353704693910921221, id_str='1353704693910921221', name='Sritabh Priyadarshi', screen_name='ThreaderTweet', location='', description='Mention me for a pretty thread', url=None, entities={'description': {'urls': []}}, protected=False, followers_count=1, friends_count=8, listed_count=0, created_at=datetime.datetime(2021, 1, 25, 14, 2, 14), favourites_count=0, utc_offset=None, time_zone=None, geo_enabled=False, verified=False, statuses_count=7, lang=None, contributors_enabled=False, is_translator=False, is_translation_enabled=False, profile_background_color='F5F8FA', profile_background_image_url=None, profile_background_image_url_https=None, profile_background_tile=False, profile_image_url='http://abs.twimg.com/sticky/default_profile_images/default_profile_normal.png', profile_image_url_https='https://abs.twimg.com/sticky/default_profile_images/default_profile_normal.png', profile_link_color='1DA1F2', profile_sidebar_border_color='C0DEED', profile_sidebar_fill_color='DDEEF6', profile_text_color='333333', profile_use_background_image=True, has_extended_profile=True, default_profile=True, default_profile_image=True, following=True, follow_request_sent=False, notifications=False, translator_type='none'), user=User(_api=<tweepy.api.API object at 0x000001B390F66550>, _json={'id': 1353704693910921221, 'id_str': '1353704693910921221', 'name': 'Sritabh Priyadarshi', 'screen_name': 'ThreaderTweet', 'location': '', 'description': 'Mention me for a pretty thread', 'url': None, 'entities': {'description': {'urls': []}}, 'protected': False, 'followers_count': 1, 'friends_count': 8, 'listed_count': 0, 'created_at': 'Mon Jan 25 14:02:14 +0000 2021', 'favourites_count': 0, 'utc_offset': None, 'time_zone': None, 'geo_enabled': False, 'verified': False, 'statuses_count': 7, 'lang': None, 'contributors_enabled': False, 'is_translator': False, 'is_translation_enabled': False, 'profile_background_color': 'F5F8FA', 'profile_background_image_url': None, 'profile_background_image_url_https': None, 'profile_background_tile': False, 'profile_image_url': 'http://abs.twimg.com/sticky/default_profile_images/default_profile_normal.png', 'profile_image_url_https': 'https://abs.twimg.com/sticky/default_profile_images/default_profile_normal.png', 'profile_link_color': '1DA1F2', 'profile_sidebar_border_color': 'C0DEED', 'profile_sidebar_fill_color': 'DDEEF6', 'profile_text_color': '333333', 'profile_use_background_image': True, 'has_extended_profile': True, 'default_profile': True, 'default_profile_image': True, 'following': True, 'follow_request_sent': False, 'notifications': False, 'translator_type': 'none'}, id=1353704693910921221, id_str='1353704693910921221', name='Sritabh Priyadarshi', screen_name='ThreaderTweet', location='', description='Mention me for a pretty thread', url=None, entities={'description': {'urls': []}}, protected=False, followers_count=1, friends_count=8, listed_count=0, created_at=datetime.datetime(2021, 1, 25, 14, 2, 14), favourites_count=0, utc_offset=None, time_zone=None, geo_enabled=False, verified=False, statuses_count=7, lang=None, contributors_enabled=False, is_translator=False, is_translation_enabled=False, profile_background_color='F5F8FA', profile_background_image_url=None, profile_background_image_url_https=None, profile_background_tile=False, profile_image_url='http://abs.twimg.com/sticky/default_profile_images/default_profile_normal.png', profile_image_url_https='https://abs.twimg.com/sticky/default_profile_images/default_profile_normal.png', profile_link_color='1DA1F2', profile_sidebar_border_color='C0DEED', profile_sidebar_fill_color='DDEEF6', profile_text_color='333333', profile_use_background_image=True, has_extended_profile=True, default_profile=True, default_profile_image=True, following=True, follow_request_sent=False, notifications=False, translator_type='none'), geo=None, coordinates=None, place=None, contributors=None, is_quote_status=False, retweet_count=0, favorite_count=0, favorited=False, retweeted=False, lang='und')"
      ]
     },
     "metadata": {},
     "execution_count": 73
    }
   ],
   "source": [
    "tweet = fetchTweets()\n",
    "tweet"
   ]
  },
  {
   "cell_type": "code",
   "execution_count": 62,
   "metadata": {},
   "outputs": [],
   "source": [
    "replied_to_user_name = tweet.in_reply_to_screen_name\n",
    "replied_to_user_id = tweet.in_reply_to_user_id\n",
    "replied_to_id = tweet.in_reply_to_status_id\n",
    "#status = api.get_status(1351725420421369856, tweet_mode=\"extended\")"
   ]
  },
  {
   "cell_type": "code",
   "execution_count": 59,
   "metadata": {},
   "outputs": [
    {
     "output_type": "execute_result",
     "data": {
      "text/plain": [
       "'BharadwajSpeaks'"
      ]
     },
     "metadata": {},
     "execution_count": 59
    }
   ],
   "source": [
    "replied_to_user_name"
   ]
  },
  {
   "cell_type": "code",
   "execution_count": 109,
   "metadata": {
    "tags": []
   },
   "outputs": [],
   "source": [
    "statuses = api.user_timeline(replied_to_user_id,since_id=replied_to_id)\n",
    "#search_result = api.search(q=replied_to_user_name,rpp=1,since_id=replied_to_id)\n",
    "recent_tweets = tweepy.Cursor(api.user_timeline,replied_to_user_id,since_id=replied_to_id).items(200)\n"
   ]
  },
  {
   "cell_type": "code",
   "execution_count": 67,
   "metadata": {},
   "outputs": [],
   "source": [
    "threaded_tweet_list = []\n",
    "threaded_tweet_list.append(replied_to_id)"
   ]
  },
  {
   "cell_type": "code",
   "execution_count": 103,
   "metadata": {},
   "outputs": [
    {
     "output_type": "execute_result",
     "data": {
      "text/plain": [
       "<tweepy.cursor.ItemIterator at 0x1c8c14556d0>"
      ]
     },
     "metadata": {},
     "execution_count": 103
    }
   ],
   "source": [
    "recent_tweets"
   ]
  },
  {
   "cell_type": "code",
   "execution_count": 95,
   "metadata": {},
   "outputs": [],
   "source": [
    "def search_threaded_reply(items,replied_to_id):\n",
    "    #replied_to_id is parent id we are looking for if found it's included in thread\n",
    "    for item in items:\n",
    "        if hasattr(item, 'in_reply_to_status_id_str'):\n",
    "            print(item.in_reply_to_screen_name)"
   ]
  },
  {
   "cell_type": "code",
   "execution_count": 105,
   "metadata": {},
   "outputs": [],
   "source": [
    "pages = tweepy.Cursor(api.user_timeline,replied_to_user_id,since_id=replied_to_id).pages(100)"
   ]
  },
  {
   "cell_type": "code",
   "execution_count": 108,
   "metadata": {
    "tags": []
   },
   "outputs": [],
   "source": [
    "for page in pages:\n",
    "    for item in page:\n",
    "        if hasattr(item, 'in_reply_to_status_id_str'):\n",
    "            print(item.in_reply_to_screen_name)\n",
    "#threaded_tweet_list"
   ]
  },
  {
   "cell_type": "code",
   "execution_count": 12,
   "metadata": {},
   "outputs": [
    {
     "output_type": "execute_result",
     "data": {
      "text/plain": [
       "1351725420421369856"
      ]
     },
     "metadata": {},
     "execution_count": 12
    }
   ],
   "source": [
    "child_id = tweet.in_reply_to_status_id\n",
    "child_id"
   ]
  },
  {
   "cell_type": "code",
   "execution_count": null,
   "metadata": {},
   "outputs": [],
   "source": [
    "child_user_id = tweet.in_reply_to_user_id"
   ]
  },
  {
   "cell_type": "code",
   "execution_count": 13,
   "metadata": {},
   "outputs": [
    {
     "output_type": "execute_result",
     "data": {
      "text/plain": [
       "Status(_api=<tweepy.api.API object at 0x00000241723C5D90>, _json={'created_at': 'Wed Jan 20 02:57:08 +0000 2021', 'id': 1351725420421369856, 'id_str': '1351725420421369856', 'full_text': 'Cricket ball needs tender cow skin. It is not procured from the skin of already dead cows. Cows are actively slaughtered for it.\\n\\nThe illegal cow smugglers produce most of cricket balls. When Modi Govt cracked a whip, the illegal ball industry took a hit \\n\\nhttps://t.co/ofxg5dHn7S', 'truncated': False, 'display_text_range': [0, 280], 'entities': {'hashtags': [], 'symbols': [], 'user_mentions': [], 'urls': [{'url': 'https://t.co/ofxg5dHn7S', 'expanded_url': 'https://www.hindustantimes.com/sports/cricket-ball-prices-double-as-cow-slaughter-ban-hits-leather-market/story-7BRNAM5fUBMRGhuy58J7iJ.html', 'display_url': 'hindustantimes.com/sports/cricket…', 'indices': [257, 280]}]}, 'source': '<a href=\"https://mobile.twitter.com\" rel=\"nofollow\">Twitter Web App</a>', 'in_reply_to_status_id': 1351713076706381826, 'in_reply_to_status_id_str': '1351713076706381826', 'in_reply_to_user_id': 1330031041206161408, 'in_reply_to_user_id_str': '1330031041206161408', 'in_reply_to_screen_name': 'BharadwajSpeaks', 'user': {'id': 1330031041206161408, 'id_str': '1330031041206161408', 'name': 'Bharadwaj', 'screen_name': 'BharadwajSpeaks', 'location': '', 'description': 'Personal account. Tweeting in personal capacity about everything that piques my curiosity.\\n\\nAnyone virtue signaling on my TL will immediately be blocked', 'url': None, 'entities': {'description': {'urls': []}}, 'protected': False, 'followers_count': 180519, 'friends_count': 128, 'listed_count': 206, 'created_at': 'Sat Nov 21 06:11:43 +0000 2020', 'favourites_count': 174, 'utc_offset': None, 'time_zone': None, 'geo_enabled': False, 'verified': False, 'statuses_count': 276, 'lang': None, 'contributors_enabled': False, 'is_translator': False, 'is_translation_enabled': False, 'profile_background_color': 'F5F8FA', 'profile_background_image_url': None, 'profile_background_image_url_https': None, 'profile_background_tile': False, 'profile_image_url': 'http://pbs.twimg.com/profile_images/1351931501479227393/hUvyfj9p_normal.jpg', 'profile_image_url_https': 'https://pbs.twimg.com/profile_images/1351931501479227393/hUvyfj9p_normal.jpg', 'profile_link_color': '1DA1F2', 'profile_sidebar_border_color': 'C0DEED', 'profile_sidebar_fill_color': 'DDEEF6', 'profile_text_color': '333333', 'profile_use_background_image': True, 'has_extended_profile': True, 'default_profile': True, 'default_profile_image': False, 'following': True, 'follow_request_sent': False, 'notifications': False, 'translator_type': 'none'}, 'geo': None, 'coordinates': None, 'place': None, 'contributors': None, 'is_quote_status': False, 'retweet_count': 956, 'favorite_count': 2741, 'favorited': False, 'retweeted': False, 'possibly_sensitive': False, 'possibly_sensitive_appealable': False, 'lang': 'en'}, created_at=datetime.datetime(2021, 1, 20, 2, 57, 8), id=1351725420421369856, id_str='1351725420421369856', full_text='Cricket ball needs tender cow skin. It is not procured from the skin of already dead cows. Cows are actively slaughtered for it.\\n\\nThe illegal cow smugglers produce most of cricket balls. When Modi Govt cracked a whip, the illegal ball industry took a hit \\n\\nhttps://t.co/ofxg5dHn7S', truncated=False, display_text_range=[0, 280], entities={'hashtags': [], 'symbols': [], 'user_mentions': [], 'urls': [{'url': 'https://t.co/ofxg5dHn7S', 'expanded_url': 'https://www.hindustantimes.com/sports/cricket-ball-prices-double-as-cow-slaughter-ban-hits-leather-market/story-7BRNAM5fUBMRGhuy58J7iJ.html', 'display_url': 'hindustantimes.com/sports/cricket…', 'indices': [257, 280]}]}, source='Twitter Web App', source_url='https://mobile.twitter.com', in_reply_to_status_id=1351713076706381826, in_reply_to_status_id_str='1351713076706381826', in_reply_to_user_id=1330031041206161408, in_reply_to_user_id_str='1330031041206161408', in_reply_to_screen_name='BharadwajSpeaks', author=User(_api=<tweepy.api.API object at 0x00000241723C5D90>, _json={'id': 1330031041206161408, 'id_str': '1330031041206161408', 'name': 'Bharadwaj', 'screen_name': 'BharadwajSpeaks', 'location': '', 'description': 'Personal account. Tweeting in personal capacity about everything that piques my curiosity.\\n\\nAnyone virtue signaling on my TL will immediately be blocked', 'url': None, 'entities': {'description': {'urls': []}}, 'protected': False, 'followers_count': 180519, 'friends_count': 128, 'listed_count': 206, 'created_at': 'Sat Nov 21 06:11:43 +0000 2020', 'favourites_count': 174, 'utc_offset': None, 'time_zone': None, 'geo_enabled': False, 'verified': False, 'statuses_count': 276, 'lang': None, 'contributors_enabled': False, 'is_translator': False, 'is_translation_enabled': False, 'profile_background_color': 'F5F8FA', 'profile_background_image_url': None, 'profile_background_image_url_https': None, 'profile_background_tile': False, 'profile_image_url': 'http://pbs.twimg.com/profile_images/1351931501479227393/hUvyfj9p_normal.jpg', 'profile_image_url_https': 'https://pbs.twimg.com/profile_images/1351931501479227393/hUvyfj9p_normal.jpg', 'profile_link_color': '1DA1F2', 'profile_sidebar_border_color': 'C0DEED', 'profile_sidebar_fill_color': 'DDEEF6', 'profile_text_color': '333333', 'profile_use_background_image': True, 'has_extended_profile': True, 'default_profile': True, 'default_profile_image': False, 'following': True, 'follow_request_sent': False, 'notifications': False, 'translator_type': 'none'}, id=1330031041206161408, id_str='1330031041206161408', name='Bharadwaj', screen_name='BharadwajSpeaks', location='', description='Personal account. Tweeting in personal capacity about everything that piques my curiosity.\\n\\nAnyone virtue signaling on my TL will immediately be blocked', url=None, entities={'description': {'urls': []}}, protected=False, followers_count=180519, friends_count=128, listed_count=206, created_at=datetime.datetime(2020, 11, 21, 6, 11, 43), favourites_count=174, utc_offset=None, time_zone=None, geo_enabled=False, verified=False, statuses_count=276, lang=None, contributors_enabled=False, is_translator=False, is_translation_enabled=False, profile_background_color='F5F8FA', profile_background_image_url=None, profile_background_image_url_https=None, profile_background_tile=False, profile_image_url='http://pbs.twimg.com/profile_images/1351931501479227393/hUvyfj9p_normal.jpg', profile_image_url_https='https://pbs.twimg.com/profile_images/1351931501479227393/hUvyfj9p_normal.jpg', profile_link_color='1DA1F2', profile_sidebar_border_color='C0DEED', profile_sidebar_fill_color='DDEEF6', profile_text_color='333333', profile_use_background_image=True, has_extended_profile=True, default_profile=True, default_profile_image=False, following=True, follow_request_sent=False, notifications=False, translator_type='none'), user=User(_api=<tweepy.api.API object at 0x00000241723C5D90>, _json={'id': 1330031041206161408, 'id_str': '1330031041206161408', 'name': 'Bharadwaj', 'screen_name': 'BharadwajSpeaks', 'location': '', 'description': 'Personal account. Tweeting in personal capacity about everything that piques my curiosity.\\n\\nAnyone virtue signaling on my TL will immediately be blocked', 'url': None, 'entities': {'description': {'urls': []}}, 'protected': False, 'followers_count': 180519, 'friends_count': 128, 'listed_count': 206, 'created_at': 'Sat Nov 21 06:11:43 +0000 2020', 'favourites_count': 174, 'utc_offset': None, 'time_zone': None, 'geo_enabled': False, 'verified': False, 'statuses_count': 276, 'lang': None, 'contributors_enabled': False, 'is_translator': False, 'is_translation_enabled': False, 'profile_background_color': 'F5F8FA', 'profile_background_image_url': None, 'profile_background_image_url_https': None, 'profile_background_tile': False, 'profile_image_url': 'http://pbs.twimg.com/profile_images/1351931501479227393/hUvyfj9p_normal.jpg', 'profile_image_url_https': 'https://pbs.twimg.com/profile_images/1351931501479227393/hUvyfj9p_normal.jpg', 'profile_link_color': '1DA1F2', 'profile_sidebar_border_color': 'C0DEED', 'profile_sidebar_fill_color': 'DDEEF6', 'profile_text_color': '333333', 'profile_use_background_image': True, 'has_extended_profile': True, 'default_profile': True, 'default_profile_image': False, 'following': True, 'follow_request_sent': False, 'notifications': False, 'translator_type': 'none'}, id=1330031041206161408, id_str='1330031041206161408', name='Bharadwaj', screen_name='BharadwajSpeaks', location='', description='Personal account. Tweeting in personal capacity about everything that piques my curiosity.\\n\\nAnyone virtue signaling on my TL will immediately be blocked', url=None, entities={'description': {'urls': []}}, protected=False, followers_count=180519, friends_count=128, listed_count=206, created_at=datetime.datetime(2020, 11, 21, 6, 11, 43), favourites_count=174, utc_offset=None, time_zone=None, geo_enabled=False, verified=False, statuses_count=276, lang=None, contributors_enabled=False, is_translator=False, is_translation_enabled=False, profile_background_color='F5F8FA', profile_background_image_url=None, profile_background_image_url_https=None, profile_background_tile=False, profile_image_url='http://pbs.twimg.com/profile_images/1351931501479227393/hUvyfj9p_normal.jpg', profile_image_url_https='https://pbs.twimg.com/profile_images/1351931501479227393/hUvyfj9p_normal.jpg', profile_link_color='1DA1F2', profile_sidebar_border_color='C0DEED', profile_sidebar_fill_color='DDEEF6', profile_text_color='333333', profile_use_background_image=True, has_extended_profile=True, default_profile=True, default_profile_image=False, following=True, follow_request_sent=False, notifications=False, translator_type='none'), geo=None, coordinates=None, place=None, contributors=None, is_quote_status=False, retweet_count=956, favorite_count=2741, favorited=False, retweeted=False, possibly_sensitive=False, possibly_sensitive_appealable=False, lang='en')"
      ]
     },
     "metadata": {},
     "execution_count": 13
    }
   ],
   "source": [
    "childTweet = status = api.get_status(child_id, tweet_mode=\"extended\")\n",
    "childTweet"
   ]
  },
  {
   "cell_type": "code",
   "execution_count": 14,
   "metadata": {},
   "outputs": [
    {
     "output_type": "execute_result",
     "data": {
      "text/plain": [
       "'Cricket ball needs tender cow skin. It is not procured from the skin of already dead cows. Cows are actively slaughtered for it.\\n\\nThe illegal cow smugglers produce most of cricket balls. When Modi Govt cracked a whip, the illegal ball industry took a hit \\n\\nhttps://t.co/ofxg5dHn7S'"
      ]
     },
     "metadata": {},
     "execution_count": 14
    }
   ],
   "source": [
    "childTweet.full_text"
   ]
  },
  {
   "cell_type": "code",
   "execution_count": 21,
   "metadata": {},
   "outputs": [
    {
     "output_type": "execute_result",
     "data": {
      "text/plain": [
       "'2021-01-20 02:57:08'"
      ]
     },
     "metadata": {},
     "execution_count": 21
    }
   ],
   "source": [
    "str(childTweet.created_at)"
   ]
  },
  {
   "cell_type": "code",
   "execution_count": 23,
   "metadata": {},
   "outputs": [
    {
     "output_type": "execute_result",
     "data": {
      "text/plain": [
       "('Cricket ball needs tender cow skin. It is not procured from the skin of already dead cows. Cows are actively slaughtered for it.\\n\\nThe illegal cow smugglers produce most of cricket balls. When Modi Govt cracked a whip, the illegal ball industry took a hit \\n\\nhttps://t.co/ofxg5dHn7S',\n",
       " '2021-01-20 02:57:08')"
      ]
     },
     "metadata": {},
     "execution_count": 23
    }
   ],
   "source": [
    "(childTweet.full_text,str(childTweet.created_at)) #tweetInfo"
   ]
  },
  {
   "cell_type": "code",
   "execution_count": 15,
   "metadata": {},
   "outputs": [
    {
     "output_type": "execute_result",
     "data": {
      "text/plain": [
       "User(_api=<tweepy.api.API object at 0x00000241723C5D90>, _json={'id': 1330031041206161408, 'id_str': '1330031041206161408', 'name': 'Bharadwaj', 'screen_name': 'BharadwajSpeaks', 'location': '', 'description': 'Personal account. Tweeting in personal capacity about everything that piques my curiosity.\\n\\nAnyone virtue signaling on my TL will immediately be blocked', 'url': None, 'entities': {'description': {'urls': []}}, 'protected': False, 'followers_count': 180519, 'friends_count': 128, 'listed_count': 206, 'created_at': 'Sat Nov 21 06:11:43 +0000 2020', 'favourites_count': 174, 'utc_offset': None, 'time_zone': None, 'geo_enabled': False, 'verified': False, 'statuses_count': 276, 'lang': None, 'contributors_enabled': False, 'is_translator': False, 'is_translation_enabled': False, 'profile_background_color': 'F5F8FA', 'profile_background_image_url': None, 'profile_background_image_url_https': None, 'profile_background_tile': False, 'profile_image_url': 'http://pbs.twimg.com/profile_images/1351931501479227393/hUvyfj9p_normal.jpg', 'profile_image_url_https': 'https://pbs.twimg.com/profile_images/1351931501479227393/hUvyfj9p_normal.jpg', 'profile_link_color': '1DA1F2', 'profile_sidebar_border_color': 'C0DEED', 'profile_sidebar_fill_color': 'DDEEF6', 'profile_text_color': '333333', 'profile_use_background_image': True, 'has_extended_profile': True, 'default_profile': True, 'default_profile_image': False, 'following': True, 'follow_request_sent': False, 'notifications': False, 'translator_type': 'none'}, id=1330031041206161408, id_str='1330031041206161408', name='Bharadwaj', screen_name='BharadwajSpeaks', location='', description='Personal account. Tweeting in personal capacity about everything that piques my curiosity.\\n\\nAnyone virtue signaling on my TL will immediately be blocked', url=None, entities={'description': {'urls': []}}, protected=False, followers_count=180519, friends_count=128, listed_count=206, created_at=datetime.datetime(2020, 11, 21, 6, 11, 43), favourites_count=174, utc_offset=None, time_zone=None, geo_enabled=False, verified=False, statuses_count=276, lang=None, contributors_enabled=False, is_translator=False, is_translation_enabled=False, profile_background_color='F5F8FA', profile_background_image_url=None, profile_background_image_url_https=None, profile_background_tile=False, profile_image_url='http://pbs.twimg.com/profile_images/1351931501479227393/hUvyfj9p_normal.jpg', profile_image_url_https='https://pbs.twimg.com/profile_images/1351931501479227393/hUvyfj9p_normal.jpg', profile_link_color='1DA1F2', profile_sidebar_border_color='C0DEED', profile_sidebar_fill_color='DDEEF6', profile_text_color='333333', profile_use_background_image=True, has_extended_profile=True, default_profile=True, default_profile_image=False, following=True, follow_request_sent=False, notifications=False, translator_type='none')"
      ]
     },
     "metadata": {},
     "execution_count": 15
    }
   ],
   "source": [
    "childTweet.user"
   ]
  },
  {
   "cell_type": "code",
   "execution_count": 17,
   "metadata": {},
   "outputs": [
    {
     "output_type": "execute_result",
     "data": {
      "text/plain": [
       "('Bharadwaj',\n",
       " 'BharadwajSpeaks',\n",
       " 'http://pbs.twimg.com/profile_images/1351931501479227393/hUvyfj9p_normal.jpg')"
      ]
     },
     "metadata": {},
     "execution_count": 17
    }
   ],
   "source": [
    "(childTweet.user.name,childTweet.user.screen_name,childTweet.user.profile_image_url) #userInfo"
   ]
  },
  {
   "cell_type": "code",
   "execution_count": 24,
   "metadata": {},
   "outputs": [
    {
     "output_type": "execute_result",
     "data": {
      "text/plain": [
       "1351713076706381826"
      ]
     },
     "metadata": {},
     "execution_count": 24
    }
   ],
   "source": [
    "childParentTweet_id = childTweet.in_reply_to_status_id\n",
    "childParentTweet_id"
   ]
  },
  {
   "cell_type": "code",
   "execution_count": 25,
   "metadata": {},
   "outputs": [
    {
     "output_type": "execute_result",
     "data": {
      "text/plain": [
       "Status(_api=<tweepy.api.API object at 0x00000241723C5D90>, _json={'created_at': 'Wed Jan 20 02:08:05 +0000 2021', 'id': 1351713076706381826, 'id_str': '1351713076706381826', 'full_text': 'The cricket ball makers say there is no alternative to cow hide and they are reluctant to use buffalo hide or ox-hide.\\n\\nMeerut  industry holds monopoly in the business of cricket ball production in India. It took a serious hit when UP Govt cracked a whip on illegal cow smugglers https://t.co/vUuFfJpMUI', 'truncated': False, 'display_text_range': [0, 279], 'entities': {'hashtags': [], 'symbols': [], 'user_mentions': [], 'urls': [], 'media': [{'id': 1351713065809559553, 'id_str': '1351713065809559553', 'indices': [280, 303], 'media_url': 'http://pbs.twimg.com/media/EsI_3yXVQAEQUL2.png', 'media_url_https': 'https://pbs.twimg.com/media/EsI_3yXVQAEQUL2.png', 'url': 'https://t.co/vUuFfJpMUI', 'display_url': 'pic.twitter.com/vUuFfJpMUI', 'expanded_url': 'https://twitter.com/BharadwajSpeaks/status/1351713076706381826/photo/1', 'type': 'photo', 'sizes': {'large': {'w': 1017, 'h': 197, 'resize': 'fit'}, 'small': {'w': 680, 'h': 132, 'resize': 'fit'}, 'medium': {'w': 1017, 'h': 197, 'resize': 'fit'}, 'thumb': {'w': 150, 'h': 150, 'resize': 'crop'}}}]}, 'extended_entities': {'media': [{'id': 1351713065809559553, 'id_str': '1351713065809559553', 'indices': [280, 303], 'media_url': 'http://pbs.twimg.com/media/EsI_3yXVQAEQUL2.png', 'media_url_https': 'https://pbs.twimg.com/media/EsI_3yXVQAEQUL2.png', 'url': 'https://t.co/vUuFfJpMUI', 'display_url': 'pic.twitter.com/vUuFfJpMUI', 'expanded_url': 'https://twitter.com/BharadwajSpeaks/status/1351713076706381826/photo/1', 'type': 'photo', 'sizes': {'large': {'w': 1017, 'h': 197, 'resize': 'fit'}, 'small': {'w': 680, 'h': 132, 'resize': 'fit'}, 'medium': {'w': 1017, 'h': 197, 'resize': 'fit'}, 'thumb': {'w': 150, 'h': 150, 'resize': 'crop'}}}]}, 'source': '<a href=\"https://mobile.twitter.com\" rel=\"nofollow\">Twitter Web App</a>', 'in_reply_to_status_id': 1351711382161424387, 'in_reply_to_status_id_str': '1351711382161424387', 'in_reply_to_user_id': 1330031041206161408, 'in_reply_to_user_id_str': '1330031041206161408', 'in_reply_to_screen_name': 'BharadwajSpeaks', 'user': {'id': 1330031041206161408, 'id_str': '1330031041206161408', 'name': 'Bharadwaj', 'screen_name': 'BharadwajSpeaks', 'location': '', 'description': 'Personal account. Tweeting in personal capacity about everything that piques my curiosity.\\n\\nAnyone virtue signaling on my TL will immediately be blocked', 'url': None, 'entities': {'description': {'urls': []}}, 'protected': False, 'followers_count': 180520, 'friends_count': 128, 'listed_count': 206, 'created_at': 'Sat Nov 21 06:11:43 +0000 2020', 'favourites_count': 174, 'utc_offset': None, 'time_zone': None, 'geo_enabled': False, 'verified': False, 'statuses_count': 276, 'lang': None, 'contributors_enabled': False, 'is_translator': False, 'is_translation_enabled': False, 'profile_background_color': 'F5F8FA', 'profile_background_image_url': None, 'profile_background_image_url_https': None, 'profile_background_tile': False, 'profile_image_url': 'http://pbs.twimg.com/profile_images/1351931501479227393/hUvyfj9p_normal.jpg', 'profile_image_url_https': 'https://pbs.twimg.com/profile_images/1351931501479227393/hUvyfj9p_normal.jpg', 'profile_link_color': '1DA1F2', 'profile_sidebar_border_color': 'C0DEED', 'profile_sidebar_fill_color': 'DDEEF6', 'profile_text_color': '333333', 'profile_use_background_image': True, 'has_extended_profile': True, 'default_profile': True, 'default_profile_image': False, 'following': True, 'follow_request_sent': False, 'notifications': False, 'translator_type': 'none'}, 'geo': None, 'coordinates': None, 'place': None, 'contributors': None, 'is_quote_status': False, 'retweet_count': 1050, 'favorite_count': 3592, 'favorited': False, 'retweeted': False, 'possibly_sensitive': False, 'possibly_sensitive_appealable': False, 'lang': 'en'}, created_at=datetime.datetime(2021, 1, 20, 2, 8, 5), id=1351713076706381826, id_str='1351713076706381826', full_text='The cricket ball makers say there is no alternative to cow hide and they are reluctant to use buffalo hide or ox-hide.\\n\\nMeerut  industry holds monopoly in the business of cricket ball production in India. It took a serious hit when UP Govt cracked a whip on illegal cow smugglers https://t.co/vUuFfJpMUI', truncated=False, display_text_range=[0, 279], entities={'hashtags': [], 'symbols': [], 'user_mentions': [], 'urls': [], 'media': [{'id': 1351713065809559553, 'id_str': '1351713065809559553', 'indices': [280, 303], 'media_url': 'http://pbs.twimg.com/media/EsI_3yXVQAEQUL2.png', 'media_url_https': 'https://pbs.twimg.com/media/EsI_3yXVQAEQUL2.png', 'url': 'https://t.co/vUuFfJpMUI', 'display_url': 'pic.twitter.com/vUuFfJpMUI', 'expanded_url': 'https://twitter.com/BharadwajSpeaks/status/1351713076706381826/photo/1', 'type': 'photo', 'sizes': {'large': {'w': 1017, 'h': 197, 'resize': 'fit'}, 'small': {'w': 680, 'h': 132, 'resize': 'fit'}, 'medium': {'w': 1017, 'h': 197, 'resize': 'fit'}, 'thumb': {'w': 150, 'h': 150, 'resize': 'crop'}}}]}, extended_entities={'media': [{'id': 1351713065809559553, 'id_str': '1351713065809559553', 'indices': [280, 303], 'media_url': 'http://pbs.twimg.com/media/EsI_3yXVQAEQUL2.png', 'media_url_https': 'https://pbs.twimg.com/media/EsI_3yXVQAEQUL2.png', 'url': 'https://t.co/vUuFfJpMUI', 'display_url': 'pic.twitter.com/vUuFfJpMUI', 'expanded_url': 'https://twitter.com/BharadwajSpeaks/status/1351713076706381826/photo/1', 'type': 'photo', 'sizes': {'large': {'w': 1017, 'h': 197, 'resize': 'fit'}, 'small': {'w': 680, 'h': 132, 'resize': 'fit'}, 'medium': {'w': 1017, 'h': 197, 'resize': 'fit'}, 'thumb': {'w': 150, 'h': 150, 'resize': 'crop'}}}]}, source='Twitter Web App', source_url='https://mobile.twitter.com', in_reply_to_status_id=1351711382161424387, in_reply_to_status_id_str='1351711382161424387', in_reply_to_user_id=1330031041206161408, in_reply_to_user_id_str='1330031041206161408', in_reply_to_screen_name='BharadwajSpeaks', author=User(_api=<tweepy.api.API object at 0x00000241723C5D90>, _json={'id': 1330031041206161408, 'id_str': '1330031041206161408', 'name': 'Bharadwaj', 'screen_name': 'BharadwajSpeaks', 'location': '', 'description': 'Personal account. Tweeting in personal capacity about everything that piques my curiosity.\\n\\nAnyone virtue signaling on my TL will immediately be blocked', 'url': None, 'entities': {'description': {'urls': []}}, 'protected': False, 'followers_count': 180520, 'friends_count': 128, 'listed_count': 206, 'created_at': 'Sat Nov 21 06:11:43 +0000 2020', 'favourites_count': 174, 'utc_offset': None, 'time_zone': None, 'geo_enabled': False, 'verified': False, 'statuses_count': 276, 'lang': None, 'contributors_enabled': False, 'is_translator': False, 'is_translation_enabled': False, 'profile_background_color': 'F5F8FA', 'profile_background_image_url': None, 'profile_background_image_url_https': None, 'profile_background_tile': False, 'profile_image_url': 'http://pbs.twimg.com/profile_images/1351931501479227393/hUvyfj9p_normal.jpg', 'profile_image_url_https': 'https://pbs.twimg.com/profile_images/1351931501479227393/hUvyfj9p_normal.jpg', 'profile_link_color': '1DA1F2', 'profile_sidebar_border_color': 'C0DEED', 'profile_sidebar_fill_color': 'DDEEF6', 'profile_text_color': '333333', 'profile_use_background_image': True, 'has_extended_profile': True, 'default_profile': True, 'default_profile_image': False, 'following': True, 'follow_request_sent': False, 'notifications': False, 'translator_type': 'none'}, id=1330031041206161408, id_str='1330031041206161408', name='Bharadwaj', screen_name='BharadwajSpeaks', location='', description='Personal account. Tweeting in personal capacity about everything that piques my curiosity.\\n\\nAnyone virtue signaling on my TL will immediately be blocked', url=None, entities={'description': {'urls': []}}, protected=False, followers_count=180520, friends_count=128, listed_count=206, created_at=datetime.datetime(2020, 11, 21, 6, 11, 43), favourites_count=174, utc_offset=None, time_zone=None, geo_enabled=False, verified=False, statuses_count=276, lang=None, contributors_enabled=False, is_translator=False, is_translation_enabled=False, profile_background_color='F5F8FA', profile_background_image_url=None, profile_background_image_url_https=None, profile_background_tile=False, profile_image_url='http://pbs.twimg.com/profile_images/1351931501479227393/hUvyfj9p_normal.jpg', profile_image_url_https='https://pbs.twimg.com/profile_images/1351931501479227393/hUvyfj9p_normal.jpg', profile_link_color='1DA1F2', profile_sidebar_border_color='C0DEED', profile_sidebar_fill_color='DDEEF6', profile_text_color='333333', profile_use_background_image=True, has_extended_profile=True, default_profile=True, default_profile_image=False, following=True, follow_request_sent=False, notifications=False, translator_type='none'), user=User(_api=<tweepy.api.API object at 0x00000241723C5D90>, _json={'id': 1330031041206161408, 'id_str': '1330031041206161408', 'name': 'Bharadwaj', 'screen_name': 'BharadwajSpeaks', 'location': '', 'description': 'Personal account. Tweeting in personal capacity about everything that piques my curiosity.\\n\\nAnyone virtue signaling on my TL will immediately be blocked', 'url': None, 'entities': {'description': {'urls': []}}, 'protected': False, 'followers_count': 180520, 'friends_count': 128, 'listed_count': 206, 'created_at': 'Sat Nov 21 06:11:43 +0000 2020', 'favourites_count': 174, 'utc_offset': None, 'time_zone': None, 'geo_enabled': False, 'verified': False, 'statuses_count': 276, 'lang': None, 'contributors_enabled': False, 'is_translator': False, 'is_translation_enabled': False, 'profile_background_color': 'F5F8FA', 'profile_background_image_url': None, 'profile_background_image_url_https': None, 'profile_background_tile': False, 'profile_image_url': 'http://pbs.twimg.com/profile_images/1351931501479227393/hUvyfj9p_normal.jpg', 'profile_image_url_https': 'https://pbs.twimg.com/profile_images/1351931501479227393/hUvyfj9p_normal.jpg', 'profile_link_color': '1DA1F2', 'profile_sidebar_border_color': 'C0DEED', 'profile_sidebar_fill_color': 'DDEEF6', 'profile_text_color': '333333', 'profile_use_background_image': True, 'has_extended_profile': True, 'default_profile': True, 'default_profile_image': False, 'following': True, 'follow_request_sent': False, 'notifications': False, 'translator_type': 'none'}, id=1330031041206161408, id_str='1330031041206161408', name='Bharadwaj', screen_name='BharadwajSpeaks', location='', description='Personal account. Tweeting in personal capacity about everything that piques my curiosity.\\n\\nAnyone virtue signaling on my TL will immediately be blocked', url=None, entities={'description': {'urls': []}}, protected=False, followers_count=180520, friends_count=128, listed_count=206, created_at=datetime.datetime(2020, 11, 21, 6, 11, 43), favourites_count=174, utc_offset=None, time_zone=None, geo_enabled=False, verified=False, statuses_count=276, lang=None, contributors_enabled=False, is_translator=False, is_translation_enabled=False, profile_background_color='F5F8FA', profile_background_image_url=None, profile_background_image_url_https=None, profile_background_tile=False, profile_image_url='http://pbs.twimg.com/profile_images/1351931501479227393/hUvyfj9p_normal.jpg', profile_image_url_https='https://pbs.twimg.com/profile_images/1351931501479227393/hUvyfj9p_normal.jpg', profile_link_color='1DA1F2', profile_sidebar_border_color='C0DEED', profile_sidebar_fill_color='DDEEF6', profile_text_color='333333', profile_use_background_image=True, has_extended_profile=True, default_profile=True, default_profile_image=False, following=True, follow_request_sent=False, notifications=False, translator_type='none'), geo=None, coordinates=None, place=None, contributors=None, is_quote_status=False, retweet_count=1050, favorite_count=3592, favorited=False, retweeted=False, possibly_sensitive=False, possibly_sensitive_appealable=False, lang='en')"
      ]
     },
     "metadata": {},
     "execution_count": 25
    }
   ],
   "source": [
    "childParentTweet = api.get_status(childParentTweet_id, tweet_mode=\"extended\") ##Contains image\n",
    "childParentTweet"
   ]
  },
  {
   "cell_type": "code",
   "execution_count": 26,
   "metadata": {},
   "outputs": [
    {
     "output_type": "execute_result",
     "data": {
      "text/plain": [
       "'The cricket ball makers say there is no alternative to cow hide and they are reluctant to use buffalo hide or ox-hide.\\n\\nMeerut  industry holds monopoly in the business of cricket ball production in India. It took a serious hit when UP Govt cracked a whip on illegal cow smugglers https://t.co/vUuFfJpMUI'"
      ]
     },
     "metadata": {},
     "execution_count": 26
    }
   ],
   "source": [
    "childParentTweet.full_text"
   ]
  },
  {
   "cell_type": "code",
   "execution_count": 37,
   "metadata": {},
   "outputs": [
    {
     "output_type": "execute_result",
     "data": {
      "text/plain": [
       "[{'id': 1351713065809559553,\n",
       "  'id_str': '1351713065809559553',\n",
       "  'indices': [280, 303],\n",
       "  'media_url': 'http://pbs.twimg.com/media/EsI_3yXVQAEQUL2.png',\n",
       "  'media_url_https': 'https://pbs.twimg.com/media/EsI_3yXVQAEQUL2.png',\n",
       "  'url': 'https://t.co/vUuFfJpMUI',\n",
       "  'display_url': 'pic.twitter.com/vUuFfJpMUI',\n",
       "  'expanded_url': 'https://twitter.com/BharadwajSpeaks/status/1351713076706381826/photo/1',\n",
       "  'type': 'photo',\n",
       "  'sizes': {'large': {'w': 1017, 'h': 197, 'resize': 'fit'},\n",
       "   'small': {'w': 680, 'h': 132, 'resize': 'fit'},\n",
       "   'medium': {'w': 1017, 'h': 197, 'resize': 'fit'},\n",
       "   'thumb': {'w': 150, 'h': 150, 'resize': 'crop'}}}]"
      ]
     },
     "metadata": {},
     "execution_count": 37
    }
   ],
   "source": [
    "childParentTweet.entities['media'] ## can contain multiple images"
   ]
  },
  {
   "cell_type": "code",
   "execution_count": 59,
   "metadata": {},
   "outputs": [
    {
     "output_type": "execute_result",
     "data": {
      "text/plain": [
       "{'hashtags': [],\n",
       " 'symbols': [],\n",
       " 'user_mentions': [],\n",
       " 'urls': [],\n",
       " 'media': [{'id': 1351713065809559553,\n",
       "   'id_str': '1351713065809559553',\n",
       "   'indices': [280, 303],\n",
       "   'media_url': 'http://pbs.twimg.com/media/EsI_3yXVQAEQUL2.png',\n",
       "   'media_url_https': 'https://pbs.twimg.com/media/EsI_3yXVQAEQUL2.png',\n",
       "   'url': 'https://t.co/vUuFfJpMUI',\n",
       "   'display_url': 'pic.twitter.com/vUuFfJpMUI',\n",
       "   'expanded_url': 'https://twitter.com/BharadwajSpeaks/status/1351713076706381826/photo/1',\n",
       "   'type': 'photo',\n",
       "   'sizes': {'large': {'w': 1017, 'h': 197, 'resize': 'fit'},\n",
       "    'small': {'w': 680, 'h': 132, 'resize': 'fit'},\n",
       "    'medium': {'w': 1017, 'h': 197, 'resize': 'fit'},\n",
       "    'thumb': {'w': 150, 'h': 150, 'resize': 'crop'}}}]}"
      ]
     },
     "metadata": {},
     "execution_count": 59
    }
   ],
   "source": [
    "childParentTweet.entities"
   ]
  },
  {
   "cell_type": "code",
   "execution_count": 60,
   "metadata": {},
   "outputs": [
    {
     "output_type": "stream",
     "name": "stdout",
     "text": [
      "{'id': 1351713065809559553, 'id_str': '1351713065809559553', 'indices': [280, 303], 'media_url': 'http://pbs.twimg.com/media/EsI_3yXVQAEQUL2.png', 'media_url_https': 'https://pbs.twimg.com/media/EsI_3yXVQAEQUL2.png', 'url': 'https://t.co/vUuFfJpMUI', 'display_url': 'pic.twitter.com/vUuFfJpMUI', 'expanded_url': 'https://twitter.com/BharadwajSpeaks/status/1351713076706381826/photo/1', 'type': 'photo', 'sizes': {'large': {'w': 1017, 'h': 197, 'resize': 'fit'}, 'small': {'w': 680, 'h': 132, 'resize': 'fit'}, 'medium': {'w': 1017, 'h': 197, 'resize': 'fit'}, 'thumb': {'w': 150, 'h': 150, 'resize': 'crop'}}}\n"
     ]
    }
   ],
   "source": [
    "media_data = childParentTweet.entities['media']\n",
    "for media in media_data:\n",
    "    print(media)"
   ]
  },
  {
   "cell_type": "code",
   "execution_count": 41,
   "metadata": {},
   "outputs": [
    {
     "output_type": "execute_result",
     "data": {
      "text/plain": [
       "1351711382161424387"
      ]
     },
     "metadata": {},
     "execution_count": 41
    }
   ],
   "source": [
    "childParent_id = childParentTweet.in_reply_to_status_id\n",
    "childParent_id"
   ]
  },
  {
   "cell_type": "code",
   "execution_count": 42,
   "metadata": {},
   "outputs": [
    {
     "output_type": "execute_result",
     "data": {
      "text/plain": [
       "Status(_api=<tweepy.api.API object at 0x00000241723C5D90>, _json={'created_at': 'Wed Jan 20 02:01:21 +0000 2021', 'id': 1351711382161424387, 'id_str': '1351711382161424387', 'full_text': 'Around 40 cricket balls are made from the hide of single slaughtered cow.\\n\\nMumbai Cricket club alone needs around 12,000 cricket balls.\\n\\nA ball is not used beyond 80 overs in professional games.\\n\\nHow many cows are getting slaughtered annually for this colonial game? Do the math https://t.co/emXDYL4jZO', 'truncated': False, 'display_text_range': [0, 278], 'entities': {'hashtags': [], 'symbols': [], 'user_mentions': [], 'urls': [], 'media': [{'id': 1351711324066050048, 'id_str': '1351711324066050048', 'indices': [279, 302], 'media_url': 'http://pbs.twimg.com/media/EsI-SZ3UcAAXD-Q.png', 'media_url_https': 'https://pbs.twimg.com/media/EsI-SZ3UcAAXD-Q.png', 'url': 'https://t.co/emXDYL4jZO', 'display_url': 'pic.twitter.com/emXDYL4jZO', 'expanded_url': 'https://twitter.com/BharadwajSpeaks/status/1351711382161424387/photo/1', 'type': 'photo', 'sizes': {'small': {'w': 680, 'h': 249, 'resize': 'fit'}, 'medium': {'w': 1034, 'h': 378, 'resize': 'fit'}, 'large': {'w': 1034, 'h': 378, 'resize': 'fit'}, 'thumb': {'w': 150, 'h': 150, 'resize': 'crop'}}}]}, 'extended_entities': {'media': [{'id': 1351711324066050048, 'id_str': '1351711324066050048', 'indices': [279, 302], 'media_url': 'http://pbs.twimg.com/media/EsI-SZ3UcAAXD-Q.png', 'media_url_https': 'https://pbs.twimg.com/media/EsI-SZ3UcAAXD-Q.png', 'url': 'https://t.co/emXDYL4jZO', 'display_url': 'pic.twitter.com/emXDYL4jZO', 'expanded_url': 'https://twitter.com/BharadwajSpeaks/status/1351711382161424387/photo/1', 'type': 'photo', 'sizes': {'small': {'w': 680, 'h': 249, 'resize': 'fit'}, 'medium': {'w': 1034, 'h': 378, 'resize': 'fit'}, 'large': {'w': 1034, 'h': 378, 'resize': 'fit'}, 'thumb': {'w': 150, 'h': 150, 'resize': 'crop'}}}]}, 'source': '<a href=\"https://mobile.twitter.com\" rel=\"nofollow\">Twitter Web App</a>', 'in_reply_to_status_id': None, 'in_reply_to_status_id_str': None, 'in_reply_to_user_id': None, 'in_reply_to_user_id_str': None, 'in_reply_to_screen_name': None, 'user': {'id': 1330031041206161408, 'id_str': '1330031041206161408', 'name': 'Bharadwaj', 'screen_name': 'BharadwajSpeaks', 'location': '', 'description': 'Personal account. Tweeting in personal capacity about everything that piques my curiosity.\\n\\nAnyone virtue signaling on my TL will immediately be blocked', 'url': None, 'entities': {'description': {'urls': []}}, 'protected': False, 'followers_count': 180522, 'friends_count': 128, 'listed_count': 206, 'created_at': 'Sat Nov 21 06:11:43 +0000 2020', 'favourites_count': 174, 'utc_offset': None, 'time_zone': None, 'geo_enabled': False, 'verified': False, 'statuses_count': 276, 'lang': None, 'contributors_enabled': False, 'is_translator': False, 'is_translation_enabled': False, 'profile_background_color': 'F5F8FA', 'profile_background_image_url': None, 'profile_background_image_url_https': None, 'profile_background_tile': False, 'profile_image_url': 'http://pbs.twimg.com/profile_images/1351931501479227393/hUvyfj9p_normal.jpg', 'profile_image_url_https': 'https://pbs.twimg.com/profile_images/1351931501479227393/hUvyfj9p_normal.jpg', 'profile_link_color': '1DA1F2', 'profile_sidebar_border_color': 'C0DEED', 'profile_sidebar_fill_color': 'DDEEF6', 'profile_text_color': '333333', 'profile_use_background_image': True, 'has_extended_profile': True, 'default_profile': True, 'default_profile_image': False, 'following': True, 'follow_request_sent': False, 'notifications': False, 'translator_type': 'none'}, 'geo': None, 'coordinates': None, 'place': None, 'contributors': None, 'is_quote_status': False, 'retweet_count': 3739, 'favorite_count': 8629, 'favorited': False, 'retweeted': False, 'possibly_sensitive': False, 'possibly_sensitive_appealable': False, 'lang': 'en'}, created_at=datetime.datetime(2021, 1, 20, 2, 1, 21), id=1351711382161424387, id_str='1351711382161424387', full_text='Around 40 cricket balls are made from the hide of single slaughtered cow.\\n\\nMumbai Cricket club alone needs around 12,000 cricket balls.\\n\\nA ball is not used beyond 80 overs in professional games.\\n\\nHow many cows are getting slaughtered annually for this colonial game? Do the math https://t.co/emXDYL4jZO', truncated=False, display_text_range=[0, 278], entities={'hashtags': [], 'symbols': [], 'user_mentions': [], 'urls': [], 'media': [{'id': 1351711324066050048, 'id_str': '1351711324066050048', 'indices': [279, 302], 'media_url': 'http://pbs.twimg.com/media/EsI-SZ3UcAAXD-Q.png', 'media_url_https': 'https://pbs.twimg.com/media/EsI-SZ3UcAAXD-Q.png', 'url': 'https://t.co/emXDYL4jZO', 'display_url': 'pic.twitter.com/emXDYL4jZO', 'expanded_url': 'https://twitter.com/BharadwajSpeaks/status/1351711382161424387/photo/1', 'type': 'photo', 'sizes': {'small': {'w': 680, 'h': 249, 'resize': 'fit'}, 'medium': {'w': 1034, 'h': 378, 'resize': 'fit'}, 'large': {'w': 1034, 'h': 378, 'resize': 'fit'}, 'thumb': {'w': 150, 'h': 150, 'resize': 'crop'}}}]}, extended_entities={'media': [{'id': 1351711324066050048, 'id_str': '1351711324066050048', 'indices': [279, 302], 'media_url': 'http://pbs.twimg.com/media/EsI-SZ3UcAAXD-Q.png', 'media_url_https': 'https://pbs.twimg.com/media/EsI-SZ3UcAAXD-Q.png', 'url': 'https://t.co/emXDYL4jZO', 'display_url': 'pic.twitter.com/emXDYL4jZO', 'expanded_url': 'https://twitter.com/BharadwajSpeaks/status/1351711382161424387/photo/1', 'type': 'photo', 'sizes': {'small': {'w': 680, 'h': 249, 'resize': 'fit'}, 'medium': {'w': 1034, 'h': 378, 'resize': 'fit'}, 'large': {'w': 1034, 'h': 378, 'resize': 'fit'}, 'thumb': {'w': 150, 'h': 150, 'resize': 'crop'}}}]}, source='Twitter Web App', source_url='https://mobile.twitter.com', in_reply_to_status_id=None, in_reply_to_status_id_str=None, in_reply_to_user_id=None, in_reply_to_user_id_str=None, in_reply_to_screen_name=None, author=User(_api=<tweepy.api.API object at 0x00000241723C5D90>, _json={'id': 1330031041206161408, 'id_str': '1330031041206161408', 'name': 'Bharadwaj', 'screen_name': 'BharadwajSpeaks', 'location': '', 'description': 'Personal account. Tweeting in personal capacity about everything that piques my curiosity.\\n\\nAnyone virtue signaling on my TL will immediately be blocked', 'url': None, 'entities': {'description': {'urls': []}}, 'protected': False, 'followers_count': 180522, 'friends_count': 128, 'listed_count': 206, 'created_at': 'Sat Nov 21 06:11:43 +0000 2020', 'favourites_count': 174, 'utc_offset': None, 'time_zone': None, 'geo_enabled': False, 'verified': False, 'statuses_count': 276, 'lang': None, 'contributors_enabled': False, 'is_translator': False, 'is_translation_enabled': False, 'profile_background_color': 'F5F8FA', 'profile_background_image_url': None, 'profile_background_image_url_https': None, 'profile_background_tile': False, 'profile_image_url': 'http://pbs.twimg.com/profile_images/1351931501479227393/hUvyfj9p_normal.jpg', 'profile_image_url_https': 'https://pbs.twimg.com/profile_images/1351931501479227393/hUvyfj9p_normal.jpg', 'profile_link_color': '1DA1F2', 'profile_sidebar_border_color': 'C0DEED', 'profile_sidebar_fill_color': 'DDEEF6', 'profile_text_color': '333333', 'profile_use_background_image': True, 'has_extended_profile': True, 'default_profile': True, 'default_profile_image': False, 'following': True, 'follow_request_sent': False, 'notifications': False, 'translator_type': 'none'}, id=1330031041206161408, id_str='1330031041206161408', name='Bharadwaj', screen_name='BharadwajSpeaks', location='', description='Personal account. Tweeting in personal capacity about everything that piques my curiosity.\\n\\nAnyone virtue signaling on my TL will immediately be blocked', url=None, entities={'description': {'urls': []}}, protected=False, followers_count=180522, friends_count=128, listed_count=206, created_at=datetime.datetime(2020, 11, 21, 6, 11, 43), favourites_count=174, utc_offset=None, time_zone=None, geo_enabled=False, verified=False, statuses_count=276, lang=None, contributors_enabled=False, is_translator=False, is_translation_enabled=False, profile_background_color='F5F8FA', profile_background_image_url=None, profile_background_image_url_https=None, profile_background_tile=False, profile_image_url='http://pbs.twimg.com/profile_images/1351931501479227393/hUvyfj9p_normal.jpg', profile_image_url_https='https://pbs.twimg.com/profile_images/1351931501479227393/hUvyfj9p_normal.jpg', profile_link_color='1DA1F2', profile_sidebar_border_color='C0DEED', profile_sidebar_fill_color='DDEEF6', profile_text_color='333333', profile_use_background_image=True, has_extended_profile=True, default_profile=True, default_profile_image=False, following=True, follow_request_sent=False, notifications=False, translator_type='none'), user=User(_api=<tweepy.api.API object at 0x00000241723C5D90>, _json={'id': 1330031041206161408, 'id_str': '1330031041206161408', 'name': 'Bharadwaj', 'screen_name': 'BharadwajSpeaks', 'location': '', 'description': 'Personal account. Tweeting in personal capacity about everything that piques my curiosity.\\n\\nAnyone virtue signaling on my TL will immediately be blocked', 'url': None, 'entities': {'description': {'urls': []}}, 'protected': False, 'followers_count': 180522, 'friends_count': 128, 'listed_count': 206, 'created_at': 'Sat Nov 21 06:11:43 +0000 2020', 'favourites_count': 174, 'utc_offset': None, 'time_zone': None, 'geo_enabled': False, 'verified': False, 'statuses_count': 276, 'lang': None, 'contributors_enabled': False, 'is_translator': False, 'is_translation_enabled': False, 'profile_background_color': 'F5F8FA', 'profile_background_image_url': None, 'profile_background_image_url_https': None, 'profile_background_tile': False, 'profile_image_url': 'http://pbs.twimg.com/profile_images/1351931501479227393/hUvyfj9p_normal.jpg', 'profile_image_url_https': 'https://pbs.twimg.com/profile_images/1351931501479227393/hUvyfj9p_normal.jpg', 'profile_link_color': '1DA1F2', 'profile_sidebar_border_color': 'C0DEED', 'profile_sidebar_fill_color': 'DDEEF6', 'profile_text_color': '333333', 'profile_use_background_image': True, 'has_extended_profile': True, 'default_profile': True, 'default_profile_image': False, 'following': True, 'follow_request_sent': False, 'notifications': False, 'translator_type': 'none'}, id=1330031041206161408, id_str='1330031041206161408', name='Bharadwaj', screen_name='BharadwajSpeaks', location='', description='Personal account. Tweeting in personal capacity about everything that piques my curiosity.\\n\\nAnyone virtue signaling on my TL will immediately be blocked', url=None, entities={'description': {'urls': []}}, protected=False, followers_count=180522, friends_count=128, listed_count=206, created_at=datetime.datetime(2020, 11, 21, 6, 11, 43), favourites_count=174, utc_offset=None, time_zone=None, geo_enabled=False, verified=False, statuses_count=276, lang=None, contributors_enabled=False, is_translator=False, is_translation_enabled=False, profile_background_color='F5F8FA', profile_background_image_url=None, profile_background_image_url_https=None, profile_background_tile=False, profile_image_url='http://pbs.twimg.com/profile_images/1351931501479227393/hUvyfj9p_normal.jpg', profile_image_url_https='https://pbs.twimg.com/profile_images/1351931501479227393/hUvyfj9p_normal.jpg', profile_link_color='1DA1F2', profile_sidebar_border_color='C0DEED', profile_sidebar_fill_color='DDEEF6', profile_text_color='333333', profile_use_background_image=True, has_extended_profile=True, default_profile=True, default_profile_image=False, following=True, follow_request_sent=False, notifications=False, translator_type='none'), geo=None, coordinates=None, place=None, contributors=None, is_quote_status=False, retweet_count=3739, favorite_count=8629, favorited=False, retweeted=False, possibly_sensitive=False, possibly_sensitive_appealable=False, lang='en')"
      ]
     },
     "metadata": {},
     "execution_count": 42
    }
   ],
   "source": [
    "parentTweet = api.get_status(childParent_id, tweet_mode=\"extended\") ##Contains image\n",
    "parentTweet"
   ]
  },
  {
   "cell_type": "code",
   "execution_count": 43,
   "metadata": {},
   "outputs": [
    {
     "output_type": "execute_result",
     "data": {
      "text/plain": [
       "'Around 40 cricket balls are made from the hide of single slaughtered cow.\\n\\nMumbai Cricket club alone needs around 12,000 cricket balls.\\n\\nA ball is not used beyond 80 overs in professional games.\\n\\nHow many cows are getting slaughtered annually for this colonial game? Do the math https://t.co/emXDYL4jZO'"
      ]
     },
     "metadata": {},
     "execution_count": 43
    }
   ],
   "source": [
    "parentTweet.full_text"
   ]
  },
  {
   "cell_type": "code",
   "execution_count": 46,
   "metadata": {},
   "outputs": [],
   "source": [
    "parentTweet.in_reply_to_user_id ##None"
   ]
  },
  {
   "cell_type": "code",
   "execution_count": 50,
   "metadata": {},
   "outputs": [],
   "source": [
    "id = tweet.user.id\n",
    "user = api.get_user(id)"
   ]
  },
  {
   "cell_type": "code",
   "execution_count": 51,
   "metadata": {},
   "outputs": [
    {
     "output_type": "execute_result",
     "data": {
      "text/plain": [
       "'http://abs.twimg.com/sticky/default_profile_images/default_profile_normal.png'"
      ]
     },
     "metadata": {},
     "execution_count": 51
    }
   ],
   "source": [
    "user.profile_image_url"
   ]
  },
  {
   "cell_type": "code",
   "execution_count": 157,
   "metadata": {},
   "outputs": [],
   "source": [
    "class userThread:\n",
    "    def __init__(self,id, name,username,profile_img,tweets):\n",
    "        self.id = id\n",
    "        self.name = name\n",
    "        self.username = username\n",
    "        self.tweets = tweets\n",
    "        self.profile_img = profile_img\n",
    "    def to_dict(self):\n",
    "        obj = {\n",
    "            'id':self.id,\n",
    "            'name':self.name,\n",
    "            'username':self.username,\n",
    "            'profile_img':self.profile_img,\n",
    "            'tweets':{}\n",
    "        }\n",
    "        for tweet in self.tweets:\n",
    "            tweet_id = tweet.tweet_id\n",
    "            obj['tweets'][str(tweet_id)] = tweet.to_dict()\n",
    "        return obj\n",
    "class Tweet:\n",
    "    def __init__(self, text,date,medias,tweet_id,urls):\n",
    "        self.text = text\n",
    "        self.date = date\n",
    "        self.medias = medias\n",
    "        self.tweet_id = tweet_id\n",
    "        self.urls = urls ##contains list either empty or list with object url,expanded_url,display_url(sliced urls)\n",
    "    def to_dict(self):\n",
    "        obj = {\n",
    "            'text':self.text,\n",
    "            'date':self.date,\n",
    "            'tweet_id':self.tweet_id,\n",
    "            'urls':self.urls,\n",
    "            'medias':self.medias\n",
    "        }\n",
    "        return obj"
   ]
  },
  {
   "cell_type": "code",
   "execution_count": 164,
   "metadata": {},
   "outputs": [],
   "source": [
    "class ThreadCompiler:\n",
    "    def __init__(self,tweet_id,user_id):\n",
    "        self.tweet_id = tweet_id\n",
    "        self.id = tweet_id ##storing parent id\n",
    "        self.user_id = user_id\n",
    "    def compile(self):\n",
    "        tweets = []\n",
    "        parent_tweet_id = self.tweet_id\n",
    "        parent_id = self.user_id\n",
    "        print(\"ThreadCompiler: Fetching Tweets\")\n",
    "        while parent_tweet_id:\n",
    "            tweet = api.get_status(parent_tweet_id, tweet_mode=\"extended\")\n",
    "            if tweet.user.id != parent_id:\n",
    "                break\n",
    "            medias = []\n",
    "            if 'media' in tweet.entities:\n",
    "                media_entities = tweet.entities['media']\n",
    "                for media_data in media_entities:\n",
    "                    ##Currently only planning to save photo data as it'll be transformed to PDF\n",
    "                    if media_data['type']=='photo':\n",
    "                        medias.append(media_data['media_url_https'])\n",
    "            tweetObj = Tweet(tweet.full_text,str(tweet.created_at),list(medias),parent_tweet_id,tweet.entities['urls'])\n",
    "            tweets.append(tweetObj)\n",
    "            parent_tweet_id = tweet.in_reply_to_status_id\n",
    "        return self.compileUser(list(tweets),parent_id)\n",
    "    def compileUser(self,tweets,user_id):\n",
    "        print(\"ThreadCompiler: Compiling Tweets and User\")\n",
    "        tweets = tweets[::-1]\n",
    "        self.id = tweets[0] ##first id is used to save the thread\n",
    "        user = api.get_user(user_id)\n",
    "        return userThread(user_id,user.name,user.screen_name,user.profile_image_url_https,tweets)\n",
    "    def save(self,threaData=None):\n",
    "        if not threaData:\n",
    "            threaData = self.compile().to_dict()\n",
    "        print(\"ThreadCompiler: Preparing to save!\")\n",
    "        FU = FirebaseUtility(cred)\n",
    "        FU.storeData(self.id,threaData)\n",
    "        print(\"ThreadCompiler: Preparing to save!\")\n",
    "        return True\n",
    "    def getThreadID(self):\n",
    "        return str(self.id)"
   ]
  },
  {
   "cell_type": "code",
   "execution_count": 123,
   "metadata": {},
   "outputs": [],
   "source": [
    "def compileParentTweets(parent_tweet_id,parent_id):\n",
    "    tweets = []\n",
    "    while parent_tweet_id:\n",
    "        tweet = api.get_status(parent_tweet_id, tweet_mode=\"extended\")\n",
    "        if tweet.user.id != parent_id:\n",
    "            break\n",
    "        medias = []\n",
    "        if 'media' in tweet.entities:\n",
    "            media_entities = tweet.entities['media']\n",
    "            ##Save the images(should rethink if it's a good idea or not)\n",
    "            for media_data in media_entities:\n",
    "                if media_data['type']=='photo':\n",
    "                    medias.append(media_data['media_url_https'])\n",
    "        tweetObj = Tweet(tweet.full_text,str(tweet.created_at),list(medias),parent_tweet_id,tweet.entities['urls'])\n",
    "        tweets.append(tweetObj)\n",
    "        parent_tweet_id = tweet.in_reply_to_status_id\n",
    "    return compileUser(list(tweets),parent_id)\n",
    "def compileUser(self,tweets,id):\n",
    "    user = api.get_user(id)\n",
    "    return userThread(id,user.name,user.screen_name,user.profile_image_url_https,tweets)"
   ]
  },
  {
   "cell_type": "code",
   "execution_count": 83,
   "metadata": {},
   "outputs": [],
   "source": [
    "tweet_id = tweet.in_reply_to_status_id\n",
    "tweet_user_id = tweet.in_reply_to_user_id"
   ]
  },
  {
   "cell_type": "code",
   "execution_count": 117,
   "metadata": {},
   "outputs": [
    {
     "output_type": "execute_result",
     "data": {
      "text/plain": [
       "1351725420421369856"
      ]
     },
     "metadata": {},
     "execution_count": 117
    }
   ],
   "source": [
    "tweet_id #1330031041206161408"
   ]
  },
  {
   "cell_type": "code",
   "execution_count": 124,
   "metadata": {},
   "outputs": [],
   "source": [
    "thread = compileParentTweets(tweet_id,tweet_user_id)"
   ]
  },
  {
   "cell_type": "code",
   "execution_count": 86,
   "metadata": {},
   "outputs": [
    {
     "output_type": "execute_result",
     "data": {
      "text/plain": [
       "[<__main__.Tweet at 0x1b390b471c0>,\n",
       " <__main__.Tweet at 0x1b38fb55880>,\n",
       " <__main__.Tweet at 0x1b39407f8b0>]"
      ]
     },
     "metadata": {},
     "execution_count": 86
    }
   ],
   "source": [
    "thread.tweets[::-1]"
   ]
  },
  {
   "cell_type": "code",
   "execution_count": 125,
   "metadata": {},
   "outputs": [
    {
     "output_type": "stream",
     "name": "stdout",
     "text": [
      "{'text': 'Around 40 cricket balls are made from the hide of single slaughtered cow.\\n\\nMumbai Cricket club alone needs around 12,000 cricket balls.\\n\\nA ball is not used beyond 80 overs in professional games.\\n\\nHow many cows are getting slaughtered annually for this colonial game? Do the math https://t.co/emXDYL4jZO', 'date': '2021-01-20 02:01:21', 'tweet_id': 1351711382161424387, 'urls': [], 'medias': ['https://pbs.twimg.com/media/EsI-SZ3UcAAXD-Q.png']}\n\n\n\n{'text': 'The cricket ball makers say there is no alternative to cow hide and they are reluctant to use buffalo hide or ox-hide.\\n\\nMeerut  industry holds monopoly in the business of cricket ball production in India. It took a serious hit when UP Govt cracked a whip on illegal cow smugglers https://t.co/vUuFfJpMUI', 'date': '2021-01-20 02:08:05', 'tweet_id': 1351713076706381826, 'urls': [], 'medias': ['https://pbs.twimg.com/media/EsI_3yXVQAEQUL2.png']}\n\n\n\n{'text': 'Cricket ball needs tender cow skin. It is not procured from the skin of already dead cows. Cows are actively slaughtered for it.\\n\\nThe illegal cow smugglers produce most of cricket balls. When Modi Govt cracked a whip, the illegal ball industry took a hit \\n\\nhttps://t.co/ofxg5dHn7S', 'date': '2021-01-20 02:57:08', 'tweet_id': 1351725420421369856, 'urls': [{'url': 'https://t.co/ofxg5dHn7S', 'expanded_url': 'https://www.hindustantimes.com/sports/cricket-ball-prices-double-as-cow-slaughter-ban-hits-leather-market/story-7BRNAM5fUBMRGhuy58J7iJ.html', 'display_url': 'hindustantimes.com/sports/cricket…', 'indices': [257, 280]}], 'medias': []}\n\n\n\n"
     ]
    }
   ],
   "source": [
    "for tweet in thread.tweets[::-1]:\n",
    "    #print(\"text:\"+tweet.text,\"\\n\",\"date:\"+tweet.date,\"\\n\",tweet.medias,\"\\n\",tweet.urls,\"\\n\",\"id:\"+str(tweet.tweet_id))\n",
    "    #print(\"\\n\\n\\n\")\n",
    "    print(tweet.to_dict())\n",
    "    print(\"\\n\\n\")"
   ]
  },
  {
   "cell_type": "code",
   "execution_count": 126,
   "metadata": {},
   "outputs": [],
   "source": [
    "user = thread"
   ]
  },
  {
   "cell_type": "code",
   "execution_count": 127,
   "metadata": {},
   "outputs": [
    {
     "output_type": "execute_result",
     "data": {
      "text/plain": [
       "{'id': 1330031041206161408,\n",
       " 'name': 'Bharadwaj',\n",
       " 'username': 'BharadwajSpeaks',\n",
       " 'profile_img': 'https://pbs.twimg.com/profile_images/1351931501479227393/hUvyfj9p_normal.jpg',\n",
       " 'tweets': {'1351725420421369856': {'text': 'Cricket ball needs tender cow skin. It is not procured from the skin of already dead cows. Cows are actively slaughtered for it.\\n\\nThe illegal cow smugglers produce most of cricket balls. When Modi Govt cracked a whip, the illegal ball industry took a hit \\n\\nhttps://t.co/ofxg5dHn7S',\n",
       "   'date': '2021-01-20 02:57:08',\n",
       "   'tweet_id': 1351725420421369856,\n",
       "   'urls': [{'url': 'https://t.co/ofxg5dHn7S',\n",
       "     'expanded_url': 'https://www.hindustantimes.com/sports/cricket-ball-prices-double-as-cow-slaughter-ban-hits-leather-market/story-7BRNAM5fUBMRGhuy58J7iJ.html',\n",
       "     'display_url': 'hindustantimes.com/sports/cricket…',\n",
       "     'indices': [257, 280]}],\n",
       "   'medias': []},\n",
       "  '1351713076706381826': {'text': 'The cricket ball makers say there is no alternative to cow hide and they are reluctant to use buffalo hide or ox-hide.\\n\\nMeerut  industry holds monopoly in the business of cricket ball production in India. It took a serious hit when UP Govt cracked a whip on illegal cow smugglers https://t.co/vUuFfJpMUI',\n",
       "   'date': '2021-01-20 02:08:05',\n",
       "   'tweet_id': 1351713076706381826,\n",
       "   'urls': [],\n",
       "   'medias': ['https://pbs.twimg.com/media/EsI_3yXVQAEQUL2.png']},\n",
       "  '1351711382161424387': {'text': 'Around 40 cricket balls are made from the hide of single slaughtered cow.\\n\\nMumbai Cricket club alone needs around 12,000 cricket balls.\\n\\nA ball is not used beyond 80 overs in professional games.\\n\\nHow many cows are getting slaughtered annually for this colonial game? Do the math https://t.co/emXDYL4jZO',\n",
       "   'date': '2021-01-20 02:01:21',\n",
       "   'tweet_id': 1351711382161424387,\n",
       "   'urls': [],\n",
       "   'medias': ['https://pbs.twimg.com/media/EsI-SZ3UcAAXD-Q.png']}}}"
      ]
     },
     "metadata": {},
     "execution_count": 127
    }
   ],
   "source": [
    "user.to_dict()"
   ]
  },
  {
   "cell_type": "code",
   "execution_count": 47,
   "metadata": {},
   "outputs": [
    {
     "output_type": "stream",
     "name": "stdout",
     "text": [
      "Name: Bharadwaj\nUsername: BharadwajSpeaks\nThreaded Tweet Count: 3\nImg: https://pbs.twimg.com/profile_images/1351931501479227393/hUvyfj9p_normal.jpg\n"
     ]
    }
   ],
   "source": [
    "print(\"Name: {}\\nUsername: {}\\nThreaded Tweet Count: {}\\nImg: {}\".format(user.name,user.username,len(user.tweets),user.profile_img))"
   ]
  },
  {
   "cell_type": "code",
   "execution_count": 24,
   "metadata": {},
   "outputs": [],
   "source": [
    "import firebase_admin\n",
    "from firebase_admin import credentials\n",
    "from firebase_admin import firestore"
   ]
  },
  {
   "cell_type": "code",
   "execution_count": 25,
   "metadata": {},
   "outputs": [
    {
     "output_type": "execute_result",
     "data": {
      "text/plain": [
       "<firebase_admin.App at 0x1b393d878e0>"
      ]
     },
     "metadata": {},
     "execution_count": 25
    }
   ],
   "source": [
    "cred = credentials.Certificate(\"twitter-threader-firebase-adminsdk-rh7d4-60df64a83c.json\")\n",
    "firebase_admin.initialize_app(cred)"
   ]
  },
  {
   "cell_type": "code",
   "execution_count": 26,
   "metadata": {},
   "outputs": [],
   "source": [
    "db = firestore.client()"
   ]
  },
  {
   "cell_type": "code",
   "execution_count": 33,
   "metadata": {},
   "outputs": [
    {
     "output_type": "execute_result",
     "data": {
      "text/plain": [
       "1351711382161424387"
      ]
     },
     "metadata": {},
     "execution_count": 33
    }
   ],
   "source": [
    "parent_tweet_id = user.tweets[::-1][0].tweet_id ##First tweet is parent\n",
    "parent_tweet_id"
   ]
  },
  {
   "cell_type": "code",
   "execution_count": 130,
   "metadata": {},
   "outputs": [
    {
     "output_type": "execute_result",
     "data": {
      "text/plain": [
       "update_time {\n",
       "  seconds: 1611667247\n",
       "  nanos: 17200000\n",
       "}"
      ]
     },
     "metadata": {},
     "execution_count": 130
    }
   ],
   "source": [
    "doc_ref = db.collection(u'threads').document(str(parent_tweet_id))\n",
    "doc_ref.set(user.to_dict())"
   ]
  },
  {
   "cell_type": "code",
   "execution_count": 176,
   "metadata": {},
   "outputs": [],
   "source": [
    "class FirebaseUtility:\n",
    "    def __init__(self,cred):\n",
    "        self.cred = cred\n",
    "        self.db = firestore.client()\n",
    "        self.initialize()\n",
    "    def initialize(self):\n",
    "        try:\n",
    "            if not firebase_admin._apps:\n",
    "                print(\"FirebaseUtility:Initializing\")\n",
    "                firebase_admin.initialize_app(self.cred)\n",
    "        except:\n",
    "            print(\"FirebaseUtility:Error in cred FIX NEEDED!\")\n",
    "    def documentExists(self,thread_id):\n",
    "        doc_ref = self.db.collection(u'threads').document(str(thread_id))\n",
    "        doc = doc = doc_ref.get()\n",
    "        if doc.exists:\n",
    "            print(\"FirebaseUtility:Thread Already Exists\")\n",
    "            return True\n",
    "        else:\n",
    "            print('FirebaseUtility:No such Thread!')\n",
    "            return False\n",
    "    def storeData(self,thread_id,data):\n",
    "        if not self.documentExists(thread_id):\n",
    "            doc_ref = self.db.collection(u'threads').document(str(thread_id))\n",
    "            doc_ref.set(data)\n",
    "            print('FirebaseUtility:Thread {} Stored!'.format(str(thread_id)))\n",
    "        else:\n",
    "            pass"
   ]
  },
  {
   "cell_type": "code",
   "execution_count": 146,
   "metadata": {},
   "outputs": [],
   "source": [
    "FU = FirebaseUtility(cred)"
   ]
  },
  {
   "cell_type": "code",
   "execution_count": 143,
   "metadata": {},
   "outputs": [
    {
     "output_type": "stream",
     "name": "stdout",
     "text": [
      "FirebaseUtility:Thread Already Exists\n"
     ]
    }
   ],
   "source": [
    "FU.storeData(parent_tweet_id,user.to_dict())"
   ]
  },
  {
   "cell_type": "code",
   "execution_count": 149,
   "metadata": {},
   "outputs": [
    {
     "output_type": "execute_result",
     "data": {
      "text/plain": [
       "1351725420421369856"
      ]
     },
     "metadata": {},
     "execution_count": 149
    }
   ],
   "source": [
    "tweet = fetchTweets()\n",
    "thread_child_id = tweet.in_reply_to_status_id\n",
    "thread_child_id"
   ]
  },
  {
   "cell_type": "code",
   "execution_count": 150,
   "metadata": {},
   "outputs": [
    {
     "output_type": "execute_result",
     "data": {
      "text/plain": [
       "(1351725420421369856, 1330031041206161408)"
      ]
     },
     "metadata": {},
     "execution_count": 150
    }
   ],
   "source": [
    "tweet_id = tweet.in_reply_to_status_id\n",
    "tweet_user_id = tweet.in_reply_to_user_id\n",
    "tweet_id,tweet_user_id"
   ]
  },
  {
   "cell_type": "code",
   "execution_count": 177,
   "metadata": {},
   "outputs": [],
   "source": [
    "threadCompiler = ThreadCompiler(tweet_id,tweet_user_id)"
   ]
  },
  {
   "cell_type": "code",
   "execution_count": 172,
   "metadata": {},
   "outputs": [
    {
     "output_type": "stream",
     "name": "stdout",
     "text": [
      "ThreadCompiler: Fetching Tweets\n",
      "ThreadCompiler: Compiling Tweets and User\n",
      "ThreadCompiler: Preparing to save!\n",
      "FirebaseUtility:No such Thread!\n",
      "FirebaseUtility:Thread <__main__.Tweet object at 0x000001B3940709A0> Stored!\n",
      "ThreadCompiler: Preparing to save!\n"
     ]
    },
    {
     "output_type": "execute_result",
     "data": {
      "text/plain": [
       "True"
      ]
     },
     "metadata": {},
     "execution_count": 172
    }
   ],
   "source": [
    "ifSaved = threadCompiler.save()\n",
    "ifSaved"
   ]
  },
  {
   "cell_type": "code",
   "execution_count": 173,
   "metadata": {},
   "outputs": [
    {
     "output_type": "stream",
     "name": "stdout",
     "text": [
      "ThreadCompiler: Fetching Tweets\n",
      "ThreadCompiler: Compiling Tweets and User\n"
     ]
    }
   ],
   "source": [
    "data = threadCompiler.compile()"
   ]
  },
  {
   "cell_type": "code",
   "execution_count": 174,
   "metadata": {},
   "outputs": [
    {
     "output_type": "execute_result",
     "data": {
      "text/plain": [
       "{'id': 1330031041206161408,\n",
       " 'name': 'Bharadwaj',\n",
       " 'username': 'BharadwajSpeaks',\n",
       " 'profile_img': 'https://pbs.twimg.com/profile_images/1351931501479227393/hUvyfj9p_normal.jpg',\n",
       " 'tweets': {'1351711382161424387': {'text': 'Around 40 cricket balls are made from the hide of single slaughtered cow.\\n\\nMumbai Cricket club alone needs around 12,000 cricket balls.\\n\\nA ball is not used beyond 80 overs in professional games.\\n\\nHow many cows are getting slaughtered annually for this colonial game? Do the math https://t.co/emXDYL4jZO',\n",
       "   'date': '2021-01-20 02:01:21',\n",
       "   'tweet_id': 1351711382161424387,\n",
       "   'urls': [],\n",
       "   'medias': ['https://pbs.twimg.com/media/EsI-SZ3UcAAXD-Q.png']},\n",
       "  '1351713076706381826': {'text': 'The cricket ball makers say there is no alternative to cow hide and they are reluctant to use buffalo hide or ox-hide.\\n\\nMeerut  industry holds monopoly in the business of cricket ball production in India. It took a serious hit when UP Govt cracked a whip on illegal cow smugglers https://t.co/vUuFfJpMUI',\n",
       "   'date': '2021-01-20 02:08:05',\n",
       "   'tweet_id': 1351713076706381826,\n",
       "   'urls': [],\n",
       "   'medias': ['https://pbs.twimg.com/media/EsI_3yXVQAEQUL2.png']},\n",
       "  '1351725420421369856': {'text': 'Cricket ball needs tender cow skin. It is not procured from the skin of already dead cows. Cows are actively slaughtered for it.\\n\\nThe illegal cow smugglers produce most of cricket balls. When Modi Govt cracked a whip, the illegal ball industry took a hit \\n\\nhttps://t.co/ofxg5dHn7S',\n",
       "   'date': '2021-01-20 02:57:08',\n",
       "   'tweet_id': 1351725420421369856,\n",
       "   'urls': [{'url': 'https://t.co/ofxg5dHn7S',\n",
       "     'expanded_url': 'https://www.hindustantimes.com/sports/cricket-ball-prices-double-as-cow-slaughter-ban-hits-leather-market/story-7BRNAM5fUBMRGhuy58J7iJ.html',\n",
       "     'display_url': 'hindustantimes.com/sports/cricket…',\n",
       "     'indices': [257, 280]}],\n",
       "   'medias': []}}}"
      ]
     },
     "metadata": {},
     "execution_count": 174
    }
   ],
   "source": [
    "data.to_dict()"
   ]
  },
  {
   "cell_type": "code",
   "execution_count": 184,
   "metadata": {},
   "outputs": [
    {
     "output_type": "stream",
     "name": "stdout",
     "text": [
      "ThreadCompiler: Preparing to save!\n",
      "FirebaseUtility:Thread Already Exists\n",
      "ThreadCompiler: Preparing to save!\n"
     ]
    },
    {
     "output_type": "execute_result",
     "data": {
      "text/plain": [
       "True"
      ]
     },
     "metadata": {},
     "execution_count": 184
    }
   ],
   "source": [
    "threadCompiler.save(data.to_dict())"
   ]
  },
  {
   "cell_type": "code",
   "execution_count": 181,
   "metadata": {},
   "outputs": [
    {
     "output_type": "execute_result",
     "data": {
      "text/plain": [
       "'1351725420421369856'"
      ]
     },
     "metadata": {},
     "execution_count": 181
    }
   ],
   "source": [
    "threadCompiler.getParentID()"
   ]
  },
  {
   "cell_type": "code",
   "execution_count": null,
   "metadata": {},
   "outputs": [],
   "source": []
  }
 ]
}