{
 "metadata": {
  "language_info": {
   "codemirror_mode": {
    "name": "ipython",
    "version": 3
   },
   "file_extension": ".py",
   "mimetype": "text/x-python",
   "name": "python",
   "nbconvert_exporter": "python",
   "pygments_lexer": "ipython3",
   "version": "3.8.7-final"
  },
  "orig_nbformat": 2,
  "kernelspec": {
   "name": "python3",
   "display_name": "Python 3",
   "language": "python"
  }
 },
 "nbformat": 4,
 "nbformat_minor": 2,
 "cells": [
  {
   "cell_type": "code",
   "execution_count": 79,
   "metadata": {},
   "outputs": [],
   "source": [
    "import tweepy\n",
    "import time\n",
    "import logging\n",
    "import random\n",
    "import firebase_admin\n",
    "from firebase_admin import credentials\n",
    "from firebase_admin import firestore\n",
    "import os\n",
    "from os import environ\n",
    "logging.basicConfig(level=logging.INFO)\n",
    "logger = logging.getLogger()\n",
    "# Authenticating to to Twitter\n",
    "API_KEY = \"2RmSAmKyHHX2CBYSfCyjDvRHP\"\n",
    "API_SKEY = \"kXFwdrkPnhBpYFgopXq053CUfLJsw4lGWj5rj4W0cmlt7SfduQ\"\n",
    "ACC_Token = \"1353704693910921221-XmA1ZT6hcNlmyrlKFhqaQKvmQ4fd2T\"\n",
    "ACC_Token_Secret = \"wJ7cogcpyZtwlMN4qmpPe9wQzFKVZUeo4wudRzExqKuaz\"\n",
    "auth = tweepy.OAuthHandler(API_KEY,API_SKEY)\n",
    "auth.set_access_token(ACC_Token,ACC_Token_Secret)\n",
    "api = tweepy.API(auth, wait_on_rate_limit=True,\n",
    "    wait_on_rate_limit_notify=True)\n",
    "#Credential for firebase\n",
    "cred = credentials.Certificate(\"twitter-threader-firebase-adminsdk-rh7d4-60df64a83c.json\")\n",
    "\n",
    "class userThread:\n",
    "    def __init__(self,id, name,username,profile_img,tweets):\n",
    "        self.id = id\n",
    "        self.name = name\n",
    "        self.username = username\n",
    "        self.tweets = tweets\n",
    "        self.profile_img = profile_img\n",
    "    def to_dict(self):\n",
    "        obj = {\n",
    "            'id':self.id,\n",
    "            'name':self.name,\n",
    "            'username':self.username,\n",
    "            'profile_img':self.profile_img,\n",
    "            'tweets':{}\n",
    "        }\n",
    "        for tweet in self.tweets:\n",
    "            tweet_id = tweet.tweet_id\n",
    "            obj['tweets'][str(tweet_id)] = tweet.to_dict()\n",
    "        return obj\n",
    "class Tweet:\n",
    "    def __init__(self, text,date,medias,tweet_id,urls):\n",
    "        self.text = text\n",
    "        self.date = date\n",
    "        self.medias = medias\n",
    "        self.tweet_id = tweet_id\n",
    "        self.urls = urls ##contains list either empty or list with object url,expanded_url,display_url(sliced urls)\n",
    "    def to_dict(self):\n",
    "        obj = {\n",
    "            'text':self.text,\n",
    "            'date':self.date,\n",
    "            'tweet_id':self.tweet_id,\n",
    "            'urls':self.urls,\n",
    "            'medias':self.medias\n",
    "        }\n",
    "        return obj\n",
    "class ThreadCompiler:\n",
    "    def __init__(self,tweet_id,user_id):\n",
    "        self.tweet_id = tweet_id\n",
    "        self.id = tweet_id ##storing parent id\n",
    "        self.user_id = user_id\n",
    "    def compileTweets(self):\n",
    "        '''\n",
    "        Compiles tweet of thread and return list of object of class type Tweet\n",
    "        '''\n",
    "        tweets = []\n",
    "        parent_tweet_id = self.tweet_id\n",
    "        print(\"ThreadCompiler: Fetching Tweets\")\n",
    "        while parent_tweet_id:\n",
    "            tweet = api.get_status(parent_tweet_id, tweet_mode=\"extended\")\n",
    "            if tweet.user.id != self.user_id:\n",
    "                break\n",
    "            medias = []\n",
    "            if 'media' in tweet.entities:\n",
    "                media_entities = tweet.entities['media']\n",
    "                for media_data in media_entities:\n",
    "                    ##Currently only planning to save photo data as it'll be transformed to PDF\n",
    "                    if media_data['type']=='photo':\n",
    "                        medias.append(media_data['media_url_https'])\n",
    "            tweetObj = Tweet(tweet.full_text,str(tweet.created_at),list(medias),parent_tweet_id,tweet.entities['urls'])\n",
    "            tweets.append(tweetObj)\n",
    "            parent_tweet_id = tweet.in_reply_to_status_id\n",
    "        return list(tweets)\n",
    "    def compileThread(self,tweets:\"list of object type Tweet\" = None):\n",
    "        '''\n",
    "        Compiles Thread of tweets and user and return object of class type userThread\n",
    "        '''\n",
    "        print(\"ThreadCompiler: Compiling Thread\")\n",
    "        if not tweets:\n",
    "            tweets = self.compileTweets()\n",
    "        tweets = tweets[::-1]\n",
    "        self.id = tweets[0].tweet_id ##first id is used to save the thread\n",
    "        user = api.get_user(self.user_id)\n",
    "        return userThread(self.user_id,user.name,user.screen_name,user.profile_image_url_https,tweets)\n",
    "    def save(self,threaData:\"Dictionar\"=None):\n",
    "        '''\n",
    "        threaData: Takes dictionary\n",
    "        saves it to the firebase if not already exists and return True\n",
    "        '''\n",
    "        ##\n",
    "        if not threaData:\n",
    "            threaData = self.compileThread().to_dict()\n",
    "        print(\"ThreadCompiler: Preparing to save!\")\n",
    "        FU = FirebaseUtility(cred)\n",
    "        FU.storeData(self.id,threaData)\n",
    "        return True\n",
    "    def getThreadID(self):\n",
    "        '''\n",
    "        Returns the thread id\n",
    "        Used to access documents\n",
    "        '''\n",
    "        return str(self.id)\n",
    "class FirebaseUtility:\n",
    "    def __init__(self,cred):\n",
    "        self.cred = cred\n",
    "        self.initialize() ##initialise first\n",
    "        self.db = firestore.client()\n",
    "    def initialize(self):\n",
    "        try:\n",
    "            if not firebase_admin._apps:\n",
    "                print(\"FirebaseUtility:Initializing\")\n",
    "                firebase_admin.initialize_app(self.cred)\n",
    "        except:\n",
    "            print(\"FirebaseUtility:Error in cred FIX NEEDED!\")\n",
    "    def documentExists(self,thread_id:\"Thread parent id\",thread_len:\"Length of fetched thread\"):\n",
    "        doc_ref = self.db.collection(u'threads').document(str(thread_id))\n",
    "        doc = doc = doc_ref.get()\n",
    "        if doc.exists:\n",
    "            if len(doc.to_dict()['tweets']) < thread_len:\n",
    "                print(\"FirebaseUtility:Thread Already Exists but shorter\")\n",
    "                return False\n",
    "            else:\n",
    "                print(\"FirebaseUtility:Thread Already Exists\")\n",
    "                return True\n",
    "        else:\n",
    "            print('FirebaseUtility:No such Thread!')\n",
    "            return False\n",
    "    def storeData(self,thread_id,data:\"dictionary\"):\n",
    "        '''\n",
    "        Stores the dictionary data with document name thread_id\n",
    "        '''\n",
    "        if not self.documentExists(thread_id,len(data['tweets'])):\n",
    "            doc_ref = self.db.collection(u'threads').document(str(thread_id))\n",
    "            doc_ref.set(data)\n",
    "            print('FirebaseUtility:Thread {} Stored!'.format(str(thread_id)))\n",
    "        else:\n",
    "            pass\n",
    "class ThreaderBot:\n",
    "    def __init__(self,file_name=\"since_id.txt\"):\n",
    "        fread = open(file_name, 'r')\n",
    "        self.since_id = int(fread.read().strip())\n",
    "        fread.close()\n",
    "    def retrieve_since_id(self,file_name=\"since_id.txt\"):\n",
    "        fread = open(file_name, 'r')\n",
    "        since_id = int(fread.read().strip())\n",
    "        fread.close()\n",
    "        return since_id\n",
    "\n",
    "    def store_since_id(self,since_id=None, file_name=\"since_id.txt\"):\n",
    "        if not since_id:\n",
    "            since_id = self.since_id\n",
    "        fwrite = open(file_name, 'w')\n",
    "        fwrite.write(str(since_id))\n",
    "        fwrite.close()\n",
    "        return\n",
    "    def fetchTweets(self):\n",
    "        '''\n",
    "        Fetches only mentioned tweets\n",
    "        retweet will trigger this aswell\n",
    "        '''\n",
    "        mentions = api.mentions_timeline(self.since_id)\n",
    "        mention = mentions[-1] if len(mentions) !=0 else None\n",
    "        if mention:\n",
    "            since_id = mention.id #Store the last id so that we can keep ourself updated\n",
    "            self.store_since_id(since_id)\n",
    "        return mentions\n",
    "    def run(self):\n",
    "        '''\n",
    "        Returns unique list of recently mentioned tweets\n",
    "        in_reply_to_status_id,in_reply_to_user_id\n",
    "        Note:Twitter doesn't allow to tweet same tweet to same reply\n",
    "        '''\n",
    "        print(\"ThreaderBot: Running...\")\n",
    "        tweets = self.fetchTweets()\n",
    "        if not tweets:\n",
    "            print(\"ThreaderBot: Nothing New!\")\n",
    "            return False\n",
    "        else:\n",
    "            print(\"ThreaderBot: Threading...\")\n",
    "            tweet_ids = []\n",
    "            for tweet in tweets:\n",
    "                tweet_ids.append((tweet.in_reply_to_status_id,tweet.in_reply_to_user_id))\n",
    "            tweet_ids = list(set(tweet_ids))\n",
    "            return tweet_ids\n"
   ]
  },
  {
   "cell_type": "code",
   "execution_count": 80,
   "metadata": {},
   "outputs": [],
   "source": [
    "bot = ThreaderBot()"
   ]
  },
  {
   "cell_type": "code",
   "execution_count": 82,
   "metadata": {},
   "outputs": [
    {
     "output_type": "stream",
     "name": "stdout",
     "text": [
      "ThreaderBot: Running...\n",
      "ThreaderBot: Threading...\n"
     ]
    },
    {
     "output_type": "execute_result",
     "data": {
      "text/plain": [
       "[(1289464819179876353, 797720168713441280)]"
      ]
     },
     "metadata": {},
     "execution_count": 82
    }
   ],
   "source": [
    "runner_fetch = bot.run()\n",
    "runner_fetch"
   ]
  },
  {
   "cell_type": "code",
   "execution_count": 83,
   "metadata": {},
   "outputs": [
    {
     "output_type": "stream",
     "name": "stdout",
     "text": [
      "ThreadCompiler: Compiling Thread\n",
      "ThreadCompiler: Fetching Tweets\n",
      "ThreadCompiler: Preparing to save!\n",
      "FirebaseUtility:Thread Already Exists\n",
      "1289444851868565504\n"
     ]
    }
   ],
   "source": [
    "threadData = []\n",
    "for tweet_id,user_id in runner_fetch:\n",
    "    compiler = ThreadCompiler(tweet_id,user_id)\n",
    "    if compiler.save():\n",
    "        print(compiler.getThreadID())"
   ]
  },
  {
   "cell_type": "code",
   "execution_count": 78,
   "metadata": {},
   "outputs": [
    {
     "output_type": "stream",
     "name": "stdout",
     "text": [
      "ThreadCompiler: Compiling Thread\n",
      "ThreadCompiler: Fetching Tweets\n",
      "ThreadCompiler: Preparing to save!\n",
      "FirebaseUtility:Thread Already Exists\n",
      "ThreadCompiler: Preparing to save!\n",
      "1289444851868565504\n",
      "ThreadCompiler: Compiling Thread\n",
      "ThreadCompiler: Fetching Tweets\n",
      "ThreadCompiler: Preparing to save!\n",
      "FirebaseUtility:Thread Already Exists\n",
      "ThreadCompiler: Preparing to save!\n",
      "1354350890484813827\n"
     ]
    }
   ],
   "source": [
    "threadData = []\n",
    "for tweet_id,user_id in runner_fetch:\n",
    "    compiler = ThreadCompiler(tweet_id,user_id)\n",
    "    if compiler.save():\n",
    "        print(compiler.getThreadID())"
   ]
  },
  {
   "cell_type": "code",
   "execution_count": 17,
   "metadata": {},
   "outputs": [
    {
     "output_type": "stream",
     "name": "stdout",
     "text": [
      "ThreadCompiler: Fetching Tweets\n"
     ]
    },
    {
     "output_type": "execute_result",
     "data": {
      "text/plain": [
       "2"
      ]
     },
     "metadata": {},
     "execution_count": 17
    }
   ],
   "source": [
    "tweets = compiler.compileTweets()\n",
    "len(tweets)"
   ]
  },
  {
   "cell_type": "code",
   "execution_count": 19,
   "metadata": {},
   "outputs": [
    {
     "output_type": "stream",
     "name": "stdout",
     "text": [
      "ThreadCompiler: Compiling Thread\n"
     ]
    },
    {
     "output_type": "execute_result",
     "data": {
      "text/plain": [
       "{'id': 23061619,\n",
       " 'name': 'Gul Panag',\n",
       " 'username': 'GulPanag',\n",
       " 'profile_img': 'https://pbs.twimg.com/profile_images/1336521973304709121/bHWQdCtx_normal.jpg',\n",
       " 'tweets': {'1353996632073793536': {'text': 'The Tricolour CANNOT be disrespected.\\nAbsolutely unacceptable.\\nMust be condemned unequivocally.',\n",
       "   'date': '2021-01-26 09:22:07',\n",
       "   'tweet_id': 1353996632073793536,\n",
       "   'urls': [],\n",
       "   'medias': []},\n",
       "  '1354013099527794689': {'text': 'Undesirable turn of events.\\nI have supported this peaceful protest  from day one, however this violent turn is condemnable.\\nAnd, on this sacred day, only the Tricolour 🇮🇳 should fly aloft the Red Fort.',\n",
       "   'date': '2021-01-26 10:27:33',\n",
       "   'tweet_id': 1354013099527794689,\n",
       "   'urls': [],\n",
       "   'medias': []}}}"
      ]
     },
     "metadata": {},
     "execution_count": 19
    }
   ],
   "source": [
    "thread = compiler.compileThread(tweets)\n",
    "thread.to_dict()"
   ]
  },
  {
   "cell_type": "code",
   "execution_count": 44,
   "metadata": {},
   "outputs": [
    {
     "output_type": "execute_result",
     "data": {
      "text/plain": [
       "2"
      ]
     },
     "metadata": {},
     "execution_count": 44
    }
   ],
   "source": [
    "len(thread.to_dict()['tweets'])"
   ]
  },
  {
   "cell_type": "code",
   "execution_count": 45,
   "metadata": {},
   "outputs": [
    {
     "output_type": "stream",
     "name": "stdout",
     "text": [
      "ThreadCompiler: Preparing to save!\n"
     ]
    },
    {
     "output_type": "error",
     "ename": "RetryError",
     "evalue": "Deadline of 120.0s exceeded while calling functools.partial(<function _wrap_unary_errors.<locals>.error_remapped_callable at 0x000001F1101B6DC0>, name: \"projects/twitter-threader/databases/(default)/documents/threads/1354013099527794689\"\n, metadata=[('google-cloud-resource-prefix', 'projects/twitter-threader/databases/(default)'), ('x-goog-request-params', 'name=projects/twitter-threader/databases/%28default%29/documents/threads/1354013099527794689'), ('x-goog-api-client', 'gl-python/3.8.7 grpc/1.32.0 gax/1.25.1 gapic/2.0.2')]), last exception: 503 failed to connect to all addresses",
     "traceback": [
      "\u001b[1;31m---------------------------------------------------------------------------\u001b[0m",
      "\u001b[1;31m_InactiveRpcError\u001b[0m                         Traceback (most recent call last)",
      "\u001b[1;32mC:\\Python\\Python3.8.7-64bit\\lib\\site-packages\\google\\api_core\\grpc_helpers.py\u001b[0m in \u001b[0;36merror_remapped_callable\u001b[1;34m(*args, **kwargs)\u001b[0m\n\u001b[0;32m     56\u001b[0m         \u001b[1;32mtry\u001b[0m\u001b[1;33m:\u001b[0m\u001b[1;33m\u001b[0m\u001b[1;33m\u001b[0m\u001b[0m\n\u001b[1;32m---> 57\u001b[1;33m             \u001b[1;32mreturn\u001b[0m \u001b[0mcallable_\u001b[0m\u001b[1;33m(\u001b[0m\u001b[1;33m*\u001b[0m\u001b[0margs\u001b[0m\u001b[1;33m,\u001b[0m \u001b[1;33m**\u001b[0m\u001b[0mkwargs\u001b[0m\u001b[1;33m)\u001b[0m\u001b[1;33m\u001b[0m\u001b[1;33m\u001b[0m\u001b[0m\n\u001b[0m\u001b[0;32m     58\u001b[0m         \u001b[1;32mexcept\u001b[0m \u001b[0mgrpc\u001b[0m\u001b[1;33m.\u001b[0m\u001b[0mRpcError\u001b[0m \u001b[1;32mas\u001b[0m \u001b[0mexc\u001b[0m\u001b[1;33m:\u001b[0m\u001b[1;33m\u001b[0m\u001b[1;33m\u001b[0m\u001b[0m\n",
      "\u001b[1;32mC:\\Python\\Python3.8.7-64bit\\lib\\site-packages\\grpc\\_channel.py\u001b[0m in \u001b[0;36m__call__\u001b[1;34m(self, request, timeout, metadata, credentials, wait_for_ready, compression)\u001b[0m\n\u001b[0;32m    825\u001b[0m                                       wait_for_ready, compression)\n\u001b[1;32m--> 826\u001b[1;33m         \u001b[1;32mreturn\u001b[0m \u001b[0m_end_unary_response_blocking\u001b[0m\u001b[1;33m(\u001b[0m\u001b[0mstate\u001b[0m\u001b[1;33m,\u001b[0m \u001b[0mcall\u001b[0m\u001b[1;33m,\u001b[0m \u001b[1;32mFalse\u001b[0m\u001b[1;33m,\u001b[0m \u001b[1;32mNone\u001b[0m\u001b[1;33m)\u001b[0m\u001b[1;33m\u001b[0m\u001b[1;33m\u001b[0m\u001b[0m\n\u001b[0m\u001b[0;32m    827\u001b[0m \u001b[1;33m\u001b[0m\u001b[0m\n",
      "\u001b[1;32mC:\\Python\\Python3.8.7-64bit\\lib\\site-packages\\grpc\\_channel.py\u001b[0m in \u001b[0;36m_end_unary_response_blocking\u001b[1;34m(state, call, with_call, deadline)\u001b[0m\n\u001b[0;32m    728\u001b[0m     \u001b[1;32melse\u001b[0m\u001b[1;33m:\u001b[0m\u001b[1;33m\u001b[0m\u001b[1;33m\u001b[0m\u001b[0m\n\u001b[1;32m--> 729\u001b[1;33m         \u001b[1;32mraise\u001b[0m \u001b[0m_InactiveRpcError\u001b[0m\u001b[1;33m(\u001b[0m\u001b[0mstate\u001b[0m\u001b[1;33m)\u001b[0m\u001b[1;33m\u001b[0m\u001b[1;33m\u001b[0m\u001b[0m\n\u001b[0m\u001b[0;32m    730\u001b[0m \u001b[1;33m\u001b[0m\u001b[0m\n",
      "\u001b[1;31m_InactiveRpcError\u001b[0m: <_InactiveRpcError of RPC that terminated with:\n\tstatus = StatusCode.UNAVAILABLE\n\tdetails = \"failed to connect to all addresses\"\n\tdebug_error_string = \"{\"created\":\"@1611743679.695000000\",\"description\":\"Failed to pick subchannel\",\"file\":\"src/core/ext/filters/client_channel/client_channel.cc\",\"file_line\":4134,\"referenced_errors\":[{\"created\":\"@1611743469.928000000\",\"description\":\"failed to connect to all addresses\",\"file\":\"src/core/ext/filters/client_channel/lb_policy/pick_first/pick_first.cc\",\"file_line\":398,\"grpc_status\":14}]}\"\n>",
      "\nThe above exception was the direct cause of the following exception:\n",
      "\u001b[1;31mServiceUnavailable\u001b[0m                        Traceback (most recent call last)",
      "\u001b[1;32mC:\\Python\\Python3.8.7-64bit\\lib\\site-packages\\google\\api_core\\retry.py\u001b[0m in \u001b[0;36mretry_target\u001b[1;34m(target, predicate, sleep_generator, deadline, on_error)\u001b[0m\n\u001b[0;32m    183\u001b[0m         \u001b[1;32mtry\u001b[0m\u001b[1;33m:\u001b[0m\u001b[1;33m\u001b[0m\u001b[1;33m\u001b[0m\u001b[0m\n\u001b[1;32m--> 184\u001b[1;33m             \u001b[1;32mreturn\u001b[0m \u001b[0mtarget\u001b[0m\u001b[1;33m(\u001b[0m\u001b[1;33m)\u001b[0m\u001b[1;33m\u001b[0m\u001b[1;33m\u001b[0m\u001b[0m\n\u001b[0m\u001b[0;32m    185\u001b[0m \u001b[1;33m\u001b[0m\u001b[0m\n",
      "\u001b[1;32mC:\\Python\\Python3.8.7-64bit\\lib\\site-packages\\google\\api_core\\grpc_helpers.py\u001b[0m in \u001b[0;36merror_remapped_callable\u001b[1;34m(*args, **kwargs)\u001b[0m\n\u001b[0;32m     58\u001b[0m         \u001b[1;32mexcept\u001b[0m \u001b[0mgrpc\u001b[0m\u001b[1;33m.\u001b[0m\u001b[0mRpcError\u001b[0m \u001b[1;32mas\u001b[0m \u001b[0mexc\u001b[0m\u001b[1;33m:\u001b[0m\u001b[1;33m\u001b[0m\u001b[1;33m\u001b[0m\u001b[0m\n\u001b[1;32m---> 59\u001b[1;33m             \u001b[0msix\u001b[0m\u001b[1;33m.\u001b[0m\u001b[0mraise_from\u001b[0m\u001b[1;33m(\u001b[0m\u001b[0mexceptions\u001b[0m\u001b[1;33m.\u001b[0m\u001b[0mfrom_grpc_error\u001b[0m\u001b[1;33m(\u001b[0m\u001b[0mexc\u001b[0m\u001b[1;33m)\u001b[0m\u001b[1;33m,\u001b[0m \u001b[0mexc\u001b[0m\u001b[1;33m)\u001b[0m\u001b[1;33m\u001b[0m\u001b[1;33m\u001b[0m\u001b[0m\n\u001b[0m\u001b[0;32m     60\u001b[0m \u001b[1;33m\u001b[0m\u001b[0m\n",
      "\u001b[1;32mC:\\Python\\Python3.8.7-64bit\\lib\\site-packages\\six.py\u001b[0m in \u001b[0;36mraise_from\u001b[1;34m(value, from_value)\u001b[0m\n",
      "\u001b[1;31mServiceUnavailable\u001b[0m: 503 failed to connect to all addresses",
      "\nThe above exception was the direct cause of the following exception:\n",
      "\u001b[1;31mRetryError\u001b[0m                                Traceback (most recent call last)",
      "\u001b[1;32m<ipython-input-45-03e67d1011ba>\u001b[0m in \u001b[0;36m<module>\u001b[1;34m\u001b[0m\n\u001b[1;32m----> 1\u001b[1;33m \u001b[0mcompiler\u001b[0m\u001b[1;33m.\u001b[0m\u001b[0msave\u001b[0m\u001b[1;33m(\u001b[0m\u001b[0mthread\u001b[0m\u001b[1;33m.\u001b[0m\u001b[0mto_dict\u001b[0m\u001b[1;33m(\u001b[0m\u001b[1;33m)\u001b[0m\u001b[1;33m)\u001b[0m\u001b[1;33m\u001b[0m\u001b[1;33m\u001b[0m\u001b[0m\n\u001b[0m",
      "\u001b[1;32m<ipython-input-39-46b89100ca53>\u001b[0m in \u001b[0;36msave\u001b[1;34m(self, threaData)\u001b[0m\n\u001b[0;32m     95\u001b[0m         \u001b[0mprint\u001b[0m\u001b[1;33m(\u001b[0m\u001b[1;34m\"ThreadCompiler: Preparing to save!\"\u001b[0m\u001b[1;33m)\u001b[0m\u001b[1;33m\u001b[0m\u001b[1;33m\u001b[0m\u001b[0m\n\u001b[0;32m     96\u001b[0m         \u001b[0mFU\u001b[0m \u001b[1;33m=\u001b[0m \u001b[0mFirebaseUtility\u001b[0m\u001b[1;33m(\u001b[0m\u001b[0mcred\u001b[0m\u001b[1;33m)\u001b[0m\u001b[1;33m\u001b[0m\u001b[1;33m\u001b[0m\u001b[0m\n\u001b[1;32m---> 97\u001b[1;33m         \u001b[0mFU\u001b[0m\u001b[1;33m.\u001b[0m\u001b[0mstoreData\u001b[0m\u001b[1;33m(\u001b[0m\u001b[0mself\u001b[0m\u001b[1;33m.\u001b[0m\u001b[0mid\u001b[0m\u001b[1;33m,\u001b[0m\u001b[0mthreaData\u001b[0m\u001b[1;33m)\u001b[0m\u001b[1;33m\u001b[0m\u001b[1;33m\u001b[0m\u001b[0m\n\u001b[0m\u001b[0;32m     98\u001b[0m         \u001b[0mprint\u001b[0m\u001b[1;33m(\u001b[0m\u001b[1;34m\"ThreadCompiler: Preparing to save!\"\u001b[0m\u001b[1;33m)\u001b[0m\u001b[1;33m\u001b[0m\u001b[1;33m\u001b[0m\u001b[0m\n\u001b[0;32m     99\u001b[0m         \u001b[1;32mreturn\u001b[0m \u001b[1;32mTrue\u001b[0m\u001b[1;33m\u001b[0m\u001b[1;33m\u001b[0m\u001b[0m\n",
      "\u001b[1;32m<ipython-input-39-46b89100ca53>\u001b[0m in \u001b[0;36mstoreData\u001b[1;34m(self, thread_id, data)\u001b[0m\n\u001b[0;32m    126\u001b[0m             \u001b[1;32mreturn\u001b[0m \u001b[1;32mFalse\u001b[0m\u001b[1;33m\u001b[0m\u001b[1;33m\u001b[0m\u001b[0m\n\u001b[0;32m    127\u001b[0m     \u001b[1;32mdef\u001b[0m \u001b[0mstoreData\u001b[0m\u001b[1;33m(\u001b[0m\u001b[0mself\u001b[0m\u001b[1;33m,\u001b[0m\u001b[0mthread_id\u001b[0m\u001b[1;33m,\u001b[0m\u001b[0mdata\u001b[0m\u001b[1;33m:\u001b[0m\u001b[1;34m\"dictionary\"\u001b[0m\u001b[1;33m)\u001b[0m\u001b[1;33m:\u001b[0m\u001b[1;33m\u001b[0m\u001b[1;33m\u001b[0m\u001b[0m\n\u001b[1;32m--> 128\u001b[1;33m         \u001b[1;32mif\u001b[0m \u001b[1;32mnot\u001b[0m \u001b[0mself\u001b[0m\u001b[1;33m.\u001b[0m\u001b[0mdocumentExists\u001b[0m\u001b[1;33m(\u001b[0m\u001b[0mthread_id\u001b[0m\u001b[1;33m,\u001b[0m\u001b[0mlen\u001b[0m\u001b[1;33m(\u001b[0m\u001b[0mdata\u001b[0m\u001b[1;33m[\u001b[0m\u001b[1;34m'tweets'\u001b[0m\u001b[1;33m]\u001b[0m\u001b[1;33m)\u001b[0m\u001b[1;33m)\u001b[0m\u001b[1;33m:\u001b[0m\u001b[1;33m\u001b[0m\u001b[1;33m\u001b[0m\u001b[0m\n\u001b[0m\u001b[0;32m    129\u001b[0m             \u001b[0mdoc_ref\u001b[0m \u001b[1;33m=\u001b[0m \u001b[0mself\u001b[0m\u001b[1;33m.\u001b[0m\u001b[0mdb\u001b[0m\u001b[1;33m.\u001b[0m\u001b[0mcollection\u001b[0m\u001b[1;33m(\u001b[0m\u001b[1;34mu'threads'\u001b[0m\u001b[1;33m)\u001b[0m\u001b[1;33m.\u001b[0m\u001b[0mdocument\u001b[0m\u001b[1;33m(\u001b[0m\u001b[0mstr\u001b[0m\u001b[1;33m(\u001b[0m\u001b[0mthread_id\u001b[0m\u001b[1;33m)\u001b[0m\u001b[1;33m)\u001b[0m\u001b[1;33m\u001b[0m\u001b[1;33m\u001b[0m\u001b[0m\n\u001b[0;32m    130\u001b[0m             \u001b[0mdoc_ref\u001b[0m\u001b[1;33m.\u001b[0m\u001b[0mset\u001b[0m\u001b[1;33m(\u001b[0m\u001b[0mdata\u001b[0m\u001b[1;33m)\u001b[0m\u001b[1;33m\u001b[0m\u001b[1;33m\u001b[0m\u001b[0m\n",
      "\u001b[1;32m<ipython-input-39-46b89100ca53>\u001b[0m in \u001b[0;36mdocumentExists\u001b[1;34m(self, thread_id, thread_len)\u001b[0m\n\u001b[0;32m    114\u001b[0m     \u001b[1;32mdef\u001b[0m \u001b[0mdocumentExists\u001b[0m\u001b[1;33m(\u001b[0m\u001b[0mself\u001b[0m\u001b[1;33m,\u001b[0m\u001b[0mthread_id\u001b[0m\u001b[1;33m:\u001b[0m\u001b[1;34m\"Thread parent id\"\u001b[0m\u001b[1;33m,\u001b[0m\u001b[0mthread_len\u001b[0m\u001b[1;33m:\u001b[0m\u001b[1;34m\"Length of fetched thread\"\u001b[0m\u001b[1;33m)\u001b[0m\u001b[1;33m:\u001b[0m\u001b[1;33m\u001b[0m\u001b[1;33m\u001b[0m\u001b[0m\n\u001b[0;32m    115\u001b[0m         \u001b[0mdoc_ref\u001b[0m \u001b[1;33m=\u001b[0m \u001b[0mself\u001b[0m\u001b[1;33m.\u001b[0m\u001b[0mdb\u001b[0m\u001b[1;33m.\u001b[0m\u001b[0mcollection\u001b[0m\u001b[1;33m(\u001b[0m\u001b[1;34mu'threads'\u001b[0m\u001b[1;33m)\u001b[0m\u001b[1;33m.\u001b[0m\u001b[0mdocument\u001b[0m\u001b[1;33m(\u001b[0m\u001b[0mstr\u001b[0m\u001b[1;33m(\u001b[0m\u001b[0mthread_id\u001b[0m\u001b[1;33m)\u001b[0m\u001b[1;33m)\u001b[0m\u001b[1;33m\u001b[0m\u001b[1;33m\u001b[0m\u001b[0m\n\u001b[1;32m--> 116\u001b[1;33m         \u001b[0mdoc\u001b[0m \u001b[1;33m=\u001b[0m \u001b[0mdoc\u001b[0m \u001b[1;33m=\u001b[0m \u001b[0mdoc_ref\u001b[0m\u001b[1;33m.\u001b[0m\u001b[0mget\u001b[0m\u001b[1;33m(\u001b[0m\u001b[1;33m)\u001b[0m\u001b[1;33m\u001b[0m\u001b[1;33m\u001b[0m\u001b[0m\n\u001b[0m\u001b[0;32m    117\u001b[0m         \u001b[1;32mif\u001b[0m \u001b[0mdoc\u001b[0m\u001b[1;33m.\u001b[0m\u001b[0mexists\u001b[0m\u001b[1;33m:\u001b[0m\u001b[1;33m\u001b[0m\u001b[1;33m\u001b[0m\u001b[0m\n\u001b[0;32m    118\u001b[0m             \u001b[1;32mif\u001b[0m \u001b[0mlen\u001b[0m\u001b[1;33m(\u001b[0m\u001b[0mdoc\u001b[0m\u001b[1;33m.\u001b[0m\u001b[0mto_dict\u001b[0m\u001b[1;33m(\u001b[0m\u001b[1;33m)\u001b[0m\u001b[1;33m[\u001b[0m\u001b[1;34m'tweets'\u001b[0m\u001b[1;33m]\u001b[0m\u001b[1;33m)\u001b[0m \u001b[1;33m<\u001b[0m \u001b[0mthread_len\u001b[0m\u001b[1;33m:\u001b[0m\u001b[1;33m\u001b[0m\u001b[1;33m\u001b[0m\u001b[0m\n",
      "\u001b[1;32mC:\\Python\\Python3.8.7-64bit\\lib\\site-packages\\google\\cloud\\firestore_v1\\document.py\u001b[0m in \u001b[0;36mget\u001b[1;34m(self, field_paths, transaction, retry, timeout)\u001b[0m\n\u001b[0;32m    359\u001b[0m         \u001b[0mfirestore_api\u001b[0m \u001b[1;33m=\u001b[0m \u001b[0mself\u001b[0m\u001b[1;33m.\u001b[0m\u001b[0m_client\u001b[0m\u001b[1;33m.\u001b[0m\u001b[0m_firestore_api\u001b[0m\u001b[1;33m\u001b[0m\u001b[1;33m\u001b[0m\u001b[0m\n\u001b[0;32m    360\u001b[0m         \u001b[1;32mtry\u001b[0m\u001b[1;33m:\u001b[0m\u001b[1;33m\u001b[0m\u001b[1;33m\u001b[0m\u001b[0m\n\u001b[1;32m--> 361\u001b[1;33m             document_pb = firestore_api.get_document(\n\u001b[0m\u001b[0;32m    362\u001b[0m                 \u001b[0mrequest\u001b[0m\u001b[1;33m=\u001b[0m\u001b[0mrequest\u001b[0m\u001b[1;33m,\u001b[0m \u001b[0mmetadata\u001b[0m\u001b[1;33m=\u001b[0m\u001b[0mself\u001b[0m\u001b[1;33m.\u001b[0m\u001b[0m_client\u001b[0m\u001b[1;33m.\u001b[0m\u001b[0m_rpc_metadata\u001b[0m\u001b[1;33m,\u001b[0m \u001b[1;33m**\u001b[0m\u001b[0mkwargs\u001b[0m\u001b[1;33m,\u001b[0m\u001b[1;33m\u001b[0m\u001b[1;33m\u001b[0m\u001b[0m\n\u001b[0;32m    363\u001b[0m             )\n",
      "\u001b[1;32mC:\\Python\\Python3.8.7-64bit\\lib\\site-packages\\google\\cloud\\firestore_v1\\services\\firestore\\client.py\u001b[0m in \u001b[0;36mget_document\u001b[1;34m(self, request, retry, timeout, metadata)\u001b[0m\n\u001b[0;32m    386\u001b[0m \u001b[1;33m\u001b[0m\u001b[0m\n\u001b[0;32m    387\u001b[0m         \u001b[1;31m# Send the request.\u001b[0m\u001b[1;33m\u001b[0m\u001b[1;33m\u001b[0m\u001b[1;33m\u001b[0m\u001b[0m\n\u001b[1;32m--> 388\u001b[1;33m         \u001b[0mresponse\u001b[0m \u001b[1;33m=\u001b[0m \u001b[0mrpc\u001b[0m\u001b[1;33m(\u001b[0m\u001b[0mrequest\u001b[0m\u001b[1;33m,\u001b[0m \u001b[0mretry\u001b[0m\u001b[1;33m=\u001b[0m\u001b[0mretry\u001b[0m\u001b[1;33m,\u001b[0m \u001b[0mtimeout\u001b[0m\u001b[1;33m=\u001b[0m\u001b[0mtimeout\u001b[0m\u001b[1;33m,\u001b[0m \u001b[0mmetadata\u001b[0m\u001b[1;33m=\u001b[0m\u001b[0mmetadata\u001b[0m\u001b[1;33m,\u001b[0m\u001b[1;33m)\u001b[0m\u001b[1;33m\u001b[0m\u001b[1;33m\u001b[0m\u001b[0m\n\u001b[0m\u001b[0;32m    389\u001b[0m \u001b[1;33m\u001b[0m\u001b[0m\n\u001b[0;32m    390\u001b[0m         \u001b[1;31m# Done; return the response.\u001b[0m\u001b[1;33m\u001b[0m\u001b[1;33m\u001b[0m\u001b[1;33m\u001b[0m\u001b[0m\n",
      "\u001b[1;32mC:\\Python\\Python3.8.7-64bit\\lib\\site-packages\\google\\api_core\\gapic_v1\\method.py\u001b[0m in \u001b[0;36m__call__\u001b[1;34m(self, *args, **kwargs)\u001b[0m\n\u001b[0;32m    143\u001b[0m             \u001b[0mkwargs\u001b[0m\u001b[1;33m[\u001b[0m\u001b[1;34m\"metadata\"\u001b[0m\u001b[1;33m]\u001b[0m \u001b[1;33m=\u001b[0m \u001b[0mmetadata\u001b[0m\u001b[1;33m\u001b[0m\u001b[1;33m\u001b[0m\u001b[0m\n\u001b[0;32m    144\u001b[0m \u001b[1;33m\u001b[0m\u001b[0m\n\u001b[1;32m--> 145\u001b[1;33m         \u001b[1;32mreturn\u001b[0m \u001b[0mwrapped_func\u001b[0m\u001b[1;33m(\u001b[0m\u001b[1;33m*\u001b[0m\u001b[0margs\u001b[0m\u001b[1;33m,\u001b[0m \u001b[1;33m**\u001b[0m\u001b[0mkwargs\u001b[0m\u001b[1;33m)\u001b[0m\u001b[1;33m\u001b[0m\u001b[1;33m\u001b[0m\u001b[0m\n\u001b[0m\u001b[0;32m    146\u001b[0m \u001b[1;33m\u001b[0m\u001b[0m\n\u001b[0;32m    147\u001b[0m \u001b[1;33m\u001b[0m\u001b[0m\n",
      "\u001b[1;32mC:\\Python\\Python3.8.7-64bit\\lib\\site-packages\\google\\api_core\\retry.py\u001b[0m in \u001b[0;36mretry_wrapped_func\u001b[1;34m(*args, **kwargs)\u001b[0m\n\u001b[0;32m    279\u001b[0m                 \u001b[0mself\u001b[0m\u001b[1;33m.\u001b[0m\u001b[0m_initial\u001b[0m\u001b[1;33m,\u001b[0m \u001b[0mself\u001b[0m\u001b[1;33m.\u001b[0m\u001b[0m_maximum\u001b[0m\u001b[1;33m,\u001b[0m \u001b[0mmultiplier\u001b[0m\u001b[1;33m=\u001b[0m\u001b[0mself\u001b[0m\u001b[1;33m.\u001b[0m\u001b[0m_multiplier\u001b[0m\u001b[1;33m\u001b[0m\u001b[1;33m\u001b[0m\u001b[0m\n\u001b[0;32m    280\u001b[0m             )\n\u001b[1;32m--> 281\u001b[1;33m             return retry_target(\n\u001b[0m\u001b[0;32m    282\u001b[0m                 \u001b[0mtarget\u001b[0m\u001b[1;33m,\u001b[0m\u001b[1;33m\u001b[0m\u001b[1;33m\u001b[0m\u001b[0m\n\u001b[0;32m    283\u001b[0m                 \u001b[0mself\u001b[0m\u001b[1;33m.\u001b[0m\u001b[0m_predicate\u001b[0m\u001b[1;33m,\u001b[0m\u001b[1;33m\u001b[0m\u001b[1;33m\u001b[0m\u001b[0m\n",
      "\u001b[1;32mC:\\Python\\Python3.8.7-64bit\\lib\\site-packages\\google\\api_core\\retry.py\u001b[0m in \u001b[0;36mretry_target\u001b[1;34m(target, predicate, sleep_generator, deadline, on_error)\u001b[0m\n\u001b[0;32m    197\u001b[0m         \u001b[1;32mif\u001b[0m \u001b[0mdeadline_datetime\u001b[0m \u001b[1;32mis\u001b[0m \u001b[1;32mnot\u001b[0m \u001b[1;32mNone\u001b[0m\u001b[1;33m:\u001b[0m\u001b[1;33m\u001b[0m\u001b[1;33m\u001b[0m\u001b[0m\n\u001b[0;32m    198\u001b[0m             \u001b[1;32mif\u001b[0m \u001b[0mdeadline_datetime\u001b[0m \u001b[1;33m<=\u001b[0m \u001b[0mnow\u001b[0m\u001b[1;33m:\u001b[0m\u001b[1;33m\u001b[0m\u001b[1;33m\u001b[0m\u001b[0m\n\u001b[1;32m--> 199\u001b[1;33m                 six.raise_from(\n\u001b[0m\u001b[0;32m    200\u001b[0m                     exceptions.RetryError(\n\u001b[0;32m    201\u001b[0m                         \"Deadline of {:.1f}s exceeded while calling {}\".format(\n",
      "\u001b[1;32mC:\\Python\\Python3.8.7-64bit\\lib\\site-packages\\six.py\u001b[0m in \u001b[0;36mraise_from\u001b[1;34m(value, from_value)\u001b[0m\n",
      "\u001b[1;31mRetryError\u001b[0m: Deadline of 120.0s exceeded while calling functools.partial(<function _wrap_unary_errors.<locals>.error_remapped_callable at 0x000001F1101B6DC0>, name: \"projects/twitter-threader/databases/(default)/documents/threads/1354013099527794689\"\n, metadata=[('google-cloud-resource-prefix', 'projects/twitter-threader/databases/(default)'), ('x-goog-request-params', 'name=projects/twitter-threader/databases/%28default%29/documents/threads/1354013099527794689'), ('x-goog-api-client', 'gl-python/3.8.7 grpc/1.32.0 gax/1.25.1 gapic/2.0.2')]), last exception: 503 failed to connect to all addresses"
     ]
    }
   ],
   "source": [
    "compiler.save(thread.to_dict())"
   ]
  },
  {
   "cell_type": "code",
   "execution_count": 35,
   "metadata": {},
   "outputs": [
    {
     "output_type": "execute_result",
     "data": {
      "text/plain": [
       "2"
      ]
     },
     "metadata": {},
     "execution_count": 35
    }
   ],
   "source": [
    "doc = {'name': 'Gul Panag', 'username': 'GulPanag', 'profile_img': 'https://pbs.twimg.com/profile_images/1336521973304709121/bHWQdCtx_normal.jpg', 'id': 23061619, 'tweets': {'1354013099527794689': {'date': '2021-01-26 10:27:33', 'text': 'Undesirable turn of events.\\nI have supported this peaceful protest  from day one, however this violent turn is condemnable.\\nAnd, on this sacred day, only the Tricolour 🇮🇳 should fly aloft the Red Fort.', 'tweet_id': 1354013099527794689, 'medias': [], 'urls': []}, '1353996632073793536': {'text': 'The Tricolour CANNOT be disrespected.\\nAbsolutely unacceptable.\\nMust be condemned unequivocally.', 'urls': [], 'tweet_id': 1353996632073793536, 'medias': [], 'date': '2021-01-26 09:22:07'}}}\n",
    "len(doc['tweets'])"
   ]
  },
  {
   "cell_type": "code",
   "execution_count": 66,
   "metadata": {},
   "outputs": [
    {
     "output_type": "stream",
     "name": "stdout",
     "text": [
      "23 24\n23 25\n22 29\n22 29\n"
     ]
    }
   ],
   "source": [
    "li = [(23,24),(23,25),(22,29),(22,29)]\n",
    "for x,y in li:\n",
    "    print(x,y)"
   ]
  },
  {
   "cell_type": "code",
   "execution_count": null,
   "metadata": {},
   "outputs": [],
   "source": [
    "compiler.save(thread.to_dict())"
   ]
  }
 ]
}