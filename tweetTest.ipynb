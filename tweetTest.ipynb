{
 "metadata": {
  "language_info": {
   "codemirror_mode": {
    "name": "ipython",
    "version": 3
   },
   "file_extension": ".py",
   "mimetype": "text/x-python",
   "name": "python",
   "nbconvert_exporter": "python",
   "pygments_lexer": "ipython3",
   "version": "3.8.7-final"
  },
  "orig_nbformat": 2,
  "kernelspec": {
   "name": "python3",
   "display_name": "Python 3",
   "language": "python"
  }
 },
 "nbformat": 4,
 "nbformat_minor": 2,
 "cells": [
  {
   "cell_type": "code",
   "execution_count": 1,
   "metadata": {},
   "outputs": [],
   "source": [
    "import tweepy\n",
    "import time\n",
    "import logging\n",
    "import random\n",
    "import firebase_admin\n",
    "from firebase_admin import credentials\n",
    "from firebase_admin import firestore\n",
    "import os\n",
    "from os import environ"
   ]
  },
  {
   "cell_type": "code",
   "execution_count": 4,
   "metadata": {},
   "outputs": [],
   "source": [
    "API_KEY = \"aMkzebskwqn78mGSQtQaaRtiO\"\n",
    "API_SKEY = \"5qZBiiHSIlhFjb2yM1KmdNxdN2d5hUwMOaJofeAuQrmKvxwegb\"\n",
    "ACC_Token = \"722743883617214464-AAdKQp7tC1kAl94qxSM7xq5Rfzf2YX1\"\n",
    "ACC_Token_Secret = \"WBX90DB6UfTfYOhlRUjrk3iq7BTkKJ8esTWpPD9ixLk0B\"\n",
    "auth = tweepy.OAuthHandler(API_KEY,API_SKEY)\n",
    "auth.set_access_token(ACC_Token,ACC_Token_Secret)\n",
    "api = tweepy.API(auth, wait_on_rate_limit=True,\n",
    "    wait_on_rate_limit_notify=True)"
   ]
  },
  {
   "cell_type": "code",
   "execution_count": 5,
   "metadata": {},
   "outputs": [],
   "source": [
    "cred = credentials.Certificate(\"twitter-threader-firebase-adminsdk-rh7d4-60df64a83c.json\")"
   ]
  },
  {
   "cell_type": "code",
   "execution_count": 6,
   "metadata": {},
   "outputs": [],
   "source": [
    "class userThread:\n",
    "    def __init__(self,id, name,username,profile_img,tweets):\n",
    "        self.id = id\n",
    "        self.name = name\n",
    "        self.username = username\n",
    "        self.tweets = tweets\n",
    "        self.profile_img = profile_img\n",
    "    def to_dict(self):\n",
    "        obj = {\n",
    "            'id':self.id,\n",
    "            'name':self.name,\n",
    "            'username':self.username,\n",
    "            'profile_img':self.profile_img,\n",
    "            'tweets':{}\n",
    "        }\n",
    "        for tweet in self.tweets:\n",
    "            tweet_id = tweet.tweet_id\n",
    "            obj['tweets'][str(tweet_id)] = tweet.to_dict()\n",
    "        return obj\n",
    "class Tweet:\n",
    "    def __init__(self, text,date,medias,tweet_id,urls):\n",
    "        self.text = text\n",
    "        self.date = date\n",
    "        self.medias = medias\n",
    "        self.tweet_id = tweet_id\n",
    "        self.urls = urls ##contains list either empty or list with object url,expanded_url,display_url(sliced urls)\n",
    "    def to_dict(self):\n",
    "        obj = {\n",
    "            'text':self.text,\n",
    "            'date':self.date,\n",
    "            'tweet_id':self.tweet_id,\n",
    "            'urls':self.urls,\n",
    "            'medias':self.medias\n",
    "        }\n",
    "        return obj"
   ]
  },
  {
   "cell_type": "code",
   "execution_count": 52,
   "metadata": {},
   "outputs": [],
   "source": [
    "class ThreadCompiler:\n",
    "    def __init__(self,tweet_id,user_id):\n",
    "        self.tweet_id = tweet_id\n",
    "        self.id = tweet_id ##storing parent id\n",
    "        self.user_id = user_id\n",
    "    def compileTweets(self):\n",
    "        tweets = []\n",
    "        parent_tweet_id = self.tweet_id\n",
    "        print(\"ThreadCompiler: Fetching Tweets\")\n",
    "        while parent_tweet_id:\n",
    "            tweet = api.get_status(parent_tweet_id, tweet_mode=\"extended\")\n",
    "            if tweet.user.id != self.user_id:\n",
    "                break\n",
    "            medias = []\n",
    "            if 'media' in tweet.entities:\n",
    "                media_entities = tweet.entities['media']\n",
    "                for media_data in media_entities:\n",
    "                    ##Currently only planning to save photo data as it'll be transformed to PDF\n",
    "                    if media_data['type']=='photo':\n",
    "                        medias.append(media_data['media_url_https'])\n",
    "            tweetObj = Tweet(tweet.full_text,str(tweet.created_at),list(medias),parent_tweet_id,tweet.entities['urls'])\n",
    "            tweets.append(tweetObj)\n",
    "            parent_tweet_id = tweet.in_reply_to_status_id\n",
    "        return list(tweets)\n",
    "    def compileThread(self,tweets:\"list of object type Tweet\" = None):\n",
    "        print(\"ThreadCompiler: Compiling Thread\")\n",
    "        if not tweets:\n",
    "            tweets = self.compileTweets()\n",
    "        tweets = tweets[::-1]\n",
    "        self.id = tweets[0].tweet_id ##first id is used to save the thread\n",
    "        user = api.get_user(self.user_id)\n",
    "        return userThread(self.user_id,user.name,user.screen_name,user.profile_image_url_https,tweets)\n",
    "    def save(self,threaData:\"Dictionar\"=None):\n",
    "        ##\n",
    "        if not threaData:\n",
    "            threaData = self.compile().to_dict()\n",
    "        print(\"ThreadCompiler: Preparing to save!\")\n",
    "        FU = FirebaseUtility(cred)\n",
    "        FU.storeData(self.id,threaData)\n",
    "        print(\"ThreadCompiler: Preparing to save!\")\n",
    "        return True\n",
    "    def getThreadID(self):\n",
    "        return str(self.id)"
   ]
  },
  {
   "cell_type": "code",
   "execution_count": 53,
   "metadata": {},
   "outputs": [],
   "source": [
    "class FirebaseUtility:\n",
    "    def __init__(self,cred):\n",
    "        self.cred = cred\n",
    "        self.initialize()\n",
    "        self.db = firestore.client()\n",
    "    def initialize(self):\n",
    "        try:\n",
    "            if not firebase_admin._apps:\n",
    "                print(\"FirebaseUtility:Initializing\")\n",
    "                firebase_admin.initialize_app(self.cred)\n",
    "        except:\n",
    "            print(\"FirebaseUtility:Error in cred FIX NEEDED!\")\n",
    "    def documentExists(self,thread_id):\n",
    "        doc_ref = self.db.collection(u'threads').document(str(thread_id))\n",
    "        doc = doc = doc_ref.get()\n",
    "        if doc.exists:\n",
    "            print(\"FirebaseUtility:Thread Already Exists\")\n",
    "            return True\n",
    "        else:\n",
    "            print('FirebaseUtility:No such Thread!')\n",
    "            return False\n",
    "    def storeData(self,thread_id,data:\"dictionary\"):\n",
    "        if not self.documentExists(thread_id):\n",
    "            doc_ref = self.db.collection(u'threads').document(str(thread_id))\n",
    "            doc_ref.set(data)\n",
    "            print('FirebaseUtility:Thread {} Stored!'.format(str(thread_id)))\n",
    "        else:\n",
    "            pass"
   ]
  },
  {
   "cell_type": "code",
   "execution_count": 33,
   "metadata": {},
   "outputs": [],
   "source": [
    "class ThreaderBot:\n",
    "    def __init__(self,file_name=\"since_id.txt\"):\n",
    "        fread = open(file_name, 'r')\n",
    "        self.since_id = int(fread.read().strip())\n",
    "        fread.close()\n",
    "    def retrieve_since_id(self,file_name=\"since_id.txt\"):\n",
    "        fread = open(file_name, 'r')\n",
    "        since_id = int(fread.read().strip())\n",
    "        fread.close()\n",
    "        return since_id\n",
    "\n",
    "    def store_since_id(self,since_id=None, file_name=\"since_id.txt\"):\n",
    "        if not since_id:\n",
    "            since_id = self.since_id\n",
    "        fwrite = open(file_name, 'w')\n",
    "        fwrite.write(str(since_id))\n",
    "        fwrite.close()\n",
    "        return\n",
    "    def fetchTweets(self):\n",
    "        ##Fetching only mentioned tweet\n",
    "        #Retweet will also trigger this\n",
    "        mentions = api.mentions_timeline(self.since_id)\n",
    "        mention = mentions[-1] if len(mentions) !=0 else None\n",
    "        if mention:\n",
    "            since_id = mention.id #Store the last id so that we can keep ourself updated\n",
    "            self.store_since_id(since_id)\n",
    "        return mention\n",
    "    def run(self):\n",
    "        print(\"ThreaderBot: Running...\")\n",
    "        tweet = self.fetchTweets()\n",
    "        if not tweet:\n",
    "            print(\"ThreaderBot: Nothing New!\")\n",
    "            return False\n",
    "        else:\n",
    "            print(\"ThreaderBot: Threading...\")\n",
    "            return (tweet.in_reply_to_status_id,tweet.in_reply_to_user_id)"
   ]
  },
  {
   "cell_type": "code",
   "execution_count": 20,
   "metadata": {},
   "outputs": [],
   "source": [
    "bot = ThreaderBot()"
   ]
  },
  {
   "cell_type": "code",
   "execution_count": 21,
   "metadata": {},
   "outputs": [
    {
     "output_type": "stream",
     "name": "stdout",
     "text": [
      "ThreaderBot: Running...\n",
      "ThreaderBot: Threading...\n"
     ]
    },
    {
     "output_type": "execute_result",
     "data": {
      "text/plain": [
       "(1351725420421369856, 1330031041206161408)"
      ]
     },
     "metadata": {},
     "execution_count": 21
    }
   ],
   "source": [
    "runner = bot.run()\n",
    "runner"
   ]
  },
  {
   "cell_type": "code",
   "execution_count": 25,
   "metadata": {},
   "outputs": [
    {
     "output_type": "execute_result",
     "data": {
      "text/plain": [
       "(1351725420421369856, 1330031041206161408)"
      ]
     },
     "metadata": {},
     "execution_count": 25
    }
   ],
   "source": [
    "status_id = runner[0]\n",
    "status_user_id = runner[1]\n",
    "status_id,status_user_id"
   ]
  },
  {
   "cell_type": "code",
   "execution_count": 51,
   "metadata": {},
   "outputs": [],
   "source": [
    "threadCompiler = ThreadCompiler(status_id,status_user_id)"
   ]
  },
  {
   "cell_type": "code",
   "execution_count": 46,
   "metadata": {},
   "outputs": [
    {
     "output_type": "stream",
     "name": "stdout",
     "text": [
      "ThreadCompiler: Fetching Tweets\n"
     ]
    },
    {
     "output_type": "execute_result",
     "data": {
      "text/plain": [
       "[<__main__.Tweet at 0x21c21f94310>,\n",
       " <__main__.Tweet at 0x21c21f469d0>,\n",
       " <__main__.Tweet at 0x21c21eb8a90>]"
      ]
     },
     "metadata": {},
     "execution_count": 46
    }
   ],
   "source": [
    "tweets = threadCompiler.compileTweets()\n",
    "tweets"
   ]
  },
  {
   "cell_type": "code",
   "execution_count": 47,
   "metadata": {},
   "outputs": [
    {
     "output_type": "stream",
     "name": "stdout",
     "text": [
      "ThreadCompiler: Compiling Thread\n"
     ]
    },
    {
     "output_type": "execute_result",
     "data": {
      "text/plain": [
       "{'id': 1330031041206161408,\n",
       " 'name': 'Bharadwaj',\n",
       " 'username': 'BharadwajSpeaks',\n",
       " 'profile_img': 'https://pbs.twimg.com/profile_images/1351931501479227393/hUvyfj9p_normal.jpg',\n",
       " 'tweets': {'1351711382161424387': {'text': 'Around 40 cricket balls are made from the hide of single slaughtered cow.\\n\\nMumbai Cricket club alone needs around 12,000 cricket balls.\\n\\nA ball is not used beyond 80 overs in professional games.\\n\\nHow many cows are getting slaughtered annually for this colonial game? Do the math https://t.co/emXDYL4jZO',\n",
       "   'date': '2021-01-20 02:01:21',\n",
       "   'tweet_id': 1351711382161424387,\n",
       "   'urls': [],\n",
       "   'medias': ['https://pbs.twimg.com/media/EsI-SZ3UcAAXD-Q.png']},\n",
       "  '1351713076706381826': {'text': 'The cricket ball makers say there is no alternative to cow hide and they are reluctant to use buffalo hide or ox-hide.\\n\\nMeerut  industry holds monopoly in the business of cricket ball production in India. It took a serious hit when UP Govt cracked a whip on illegal cow smugglers https://t.co/vUuFfJpMUI',\n",
       "   'date': '2021-01-20 02:08:05',\n",
       "   'tweet_id': 1351713076706381826,\n",
       "   'urls': [],\n",
       "   'medias': ['https://pbs.twimg.com/media/EsI_3yXVQAEQUL2.png']},\n",
       "  '1351725420421369856': {'text': 'Cricket ball needs tender cow skin. It is not procured from the skin of already dead cows. Cows are actively slaughtered for it.\\n\\nThe illegal cow smugglers produce most of cricket balls. When Modi Govt cracked a whip, the illegal ball industry took a hit \\n\\nhttps://t.co/ofxg5dHn7S',\n",
       "   'date': '2021-01-20 02:57:08',\n",
       "   'tweet_id': 1351725420421369856,\n",
       "   'urls': [{'url': 'https://t.co/ofxg5dHn7S',\n",
       "     'expanded_url': 'https://www.hindustantimes.com/sports/cricket-ball-prices-double-as-cow-slaughter-ban-hits-leather-market/story-7BRNAM5fUBMRGhuy58J7iJ.html',\n",
       "     'display_url': 'hindustantimes.com/sports/cricket…',\n",
       "     'indices': [257, 280]}],\n",
       "   'medias': []}}}"
      ]
     },
     "metadata": {},
     "execution_count": 47
    }
   ],
   "source": [
    "threadData = threadCompiler.compileThread(tweets)\n",
    "threadData.to_dict()"
   ]
  },
  {
   "cell_type": "code",
   "execution_count": 54,
   "metadata": {},
   "outputs": [
    {
     "output_type": "stream",
     "name": "stdout",
     "text": [
      "ThreadCompiler: Preparing to save!\n"
     ]
    },
    {
     "output_type": "error",
     "ename": "ValueError",
     "evalue": "The default Firebase app does not exist. Make sure to initialize the SDK by calling initialize_app().",
     "traceback": [
      "\u001b[1;31m---------------------------------------------------------------------------\u001b[0m",
      "\u001b[1;31mValueError\u001b[0m                                Traceback (most recent call last)",
      "\u001b[1;32m<ipython-input-54-bb631a86316f>\u001b[0m in \u001b[0;36m<module>\u001b[1;34m\u001b[0m\n\u001b[1;32m----> 1\u001b[1;33m \u001b[0mthreadCompiler\u001b[0m\u001b[1;33m.\u001b[0m\u001b[0msave\u001b[0m\u001b[1;33m(\u001b[0m\u001b[0mthreadData\u001b[0m\u001b[1;33m.\u001b[0m\u001b[0mto_dict\u001b[0m\u001b[1;33m(\u001b[0m\u001b[1;33m)\u001b[0m\u001b[1;33m)\u001b[0m\u001b[1;33m\u001b[0m\u001b[1;33m\u001b[0m\u001b[0m\n\u001b[0m",
      "\u001b[1;32m<ipython-input-50-5ab58718a18c>\u001b[0m in \u001b[0;36msave\u001b[1;34m(self, threaData)\u001b[0m\n\u001b[0;32m     36\u001b[0m             \u001b[0mthreaData\u001b[0m \u001b[1;33m=\u001b[0m \u001b[0mself\u001b[0m\u001b[1;33m.\u001b[0m\u001b[0mcompile\u001b[0m\u001b[1;33m(\u001b[0m\u001b[1;33m)\u001b[0m\u001b[1;33m.\u001b[0m\u001b[0mto_dict\u001b[0m\u001b[1;33m(\u001b[0m\u001b[1;33m)\u001b[0m\u001b[1;33m\u001b[0m\u001b[1;33m\u001b[0m\u001b[0m\n\u001b[0;32m     37\u001b[0m         \u001b[0mprint\u001b[0m\u001b[1;33m(\u001b[0m\u001b[1;34m\"ThreadCompiler: Preparing to save!\"\u001b[0m\u001b[1;33m)\u001b[0m\u001b[1;33m\u001b[0m\u001b[1;33m\u001b[0m\u001b[0m\n\u001b[1;32m---> 38\u001b[1;33m         \u001b[0mFU\u001b[0m \u001b[1;33m=\u001b[0m \u001b[0mFirebaseUtility\u001b[0m\u001b[1;33m(\u001b[0m\u001b[0mcred\u001b[0m\u001b[1;33m)\u001b[0m\u001b[1;33m\u001b[0m\u001b[1;33m\u001b[0m\u001b[0m\n\u001b[0m\u001b[0;32m     39\u001b[0m         \u001b[0mFU\u001b[0m\u001b[1;33m.\u001b[0m\u001b[0mstoreData\u001b[0m\u001b[1;33m(\u001b[0m\u001b[0mself\u001b[0m\u001b[1;33m.\u001b[0m\u001b[0mid\u001b[0m\u001b[1;33m,\u001b[0m\u001b[0mthreaData\u001b[0m\u001b[1;33m)\u001b[0m\u001b[1;33m\u001b[0m\u001b[1;33m\u001b[0m\u001b[0m\n\u001b[0;32m     40\u001b[0m         \u001b[0mprint\u001b[0m\u001b[1;33m(\u001b[0m\u001b[1;34m\"ThreadCompiler: Preparing to save!\"\u001b[0m\u001b[1;33m)\u001b[0m\u001b[1;33m\u001b[0m\u001b[1;33m\u001b[0m\u001b[0m\n",
      "\u001b[1;32m<ipython-input-53-7856037f4a36>\u001b[0m in \u001b[0;36m__init__\u001b[1;34m(self, cred)\u001b[0m\n\u001b[0;32m      2\u001b[0m     \u001b[1;32mdef\u001b[0m \u001b[0m__init__\u001b[0m\u001b[1;33m(\u001b[0m\u001b[0mself\u001b[0m\u001b[1;33m,\u001b[0m\u001b[0mcred\u001b[0m\u001b[1;33m)\u001b[0m\u001b[1;33m:\u001b[0m\u001b[1;33m\u001b[0m\u001b[1;33m\u001b[0m\u001b[0m\n\u001b[0;32m      3\u001b[0m         \u001b[0mself\u001b[0m\u001b[1;33m.\u001b[0m\u001b[0mcred\u001b[0m \u001b[1;33m=\u001b[0m \u001b[0mcred\u001b[0m\u001b[1;33m\u001b[0m\u001b[1;33m\u001b[0m\u001b[0m\n\u001b[1;32m----> 4\u001b[1;33m         \u001b[0mself\u001b[0m\u001b[1;33m.\u001b[0m\u001b[0mdb\u001b[0m \u001b[1;33m=\u001b[0m \u001b[0mfirestore\u001b[0m\u001b[1;33m.\u001b[0m\u001b[0mclient\u001b[0m\u001b[1;33m(\u001b[0m\u001b[1;33m)\u001b[0m\u001b[1;33m\u001b[0m\u001b[1;33m\u001b[0m\u001b[0m\n\u001b[0m\u001b[0;32m      5\u001b[0m         \u001b[0mself\u001b[0m\u001b[1;33m.\u001b[0m\u001b[0minitialize\u001b[0m\u001b[1;33m(\u001b[0m\u001b[1;33m)\u001b[0m\u001b[1;33m\u001b[0m\u001b[1;33m\u001b[0m\u001b[0m\n\u001b[0;32m      6\u001b[0m     \u001b[1;32mdef\u001b[0m \u001b[0minitialize\u001b[0m\u001b[1;33m(\u001b[0m\u001b[0mself\u001b[0m\u001b[1;33m)\u001b[0m\u001b[1;33m:\u001b[0m\u001b[1;33m\u001b[0m\u001b[1;33m\u001b[0m\u001b[0m\n",
      "\u001b[1;32mC:\\Python\\Python3.8.7-64bit\\lib\\site-packages\\firebase_admin\\firestore.py\u001b[0m in \u001b[0;36mclient\u001b[1;34m(app)\u001b[0m\n\u001b[0;32m     51\u001b[0m           \u001b[1;33m/\u001b[0m\u001b[0mfirestore\u001b[0m\u001b[1;33m/\u001b[0m\u001b[0mclient\u001b[0m\u001b[1;33m.\u001b[0m\u001b[0mhtml\u001b[0m\u001b[1;33m\u001b[0m\u001b[1;33m\u001b[0m\u001b[0m\n\u001b[0;32m     52\u001b[0m     \"\"\"\n\u001b[1;32m---> 53\u001b[1;33m     \u001b[0mfs_client\u001b[0m \u001b[1;33m=\u001b[0m \u001b[0m_utils\u001b[0m\u001b[1;33m.\u001b[0m\u001b[0mget_app_service\u001b[0m\u001b[1;33m(\u001b[0m\u001b[0mapp\u001b[0m\u001b[1;33m,\u001b[0m \u001b[0m_FIRESTORE_ATTRIBUTE\u001b[0m\u001b[1;33m,\u001b[0m \u001b[0m_FirestoreClient\u001b[0m\u001b[1;33m.\u001b[0m\u001b[0mfrom_app\u001b[0m\u001b[1;33m)\u001b[0m\u001b[1;33m\u001b[0m\u001b[1;33m\u001b[0m\u001b[0m\n\u001b[0m\u001b[0;32m     54\u001b[0m     \u001b[1;32mreturn\u001b[0m \u001b[0mfs_client\u001b[0m\u001b[1;33m.\u001b[0m\u001b[0mget\u001b[0m\u001b[1;33m(\u001b[0m\u001b[1;33m)\u001b[0m\u001b[1;33m\u001b[0m\u001b[1;33m\u001b[0m\u001b[0m\n\u001b[0;32m     55\u001b[0m \u001b[1;33m\u001b[0m\u001b[0m\n",
      "\u001b[1;32mC:\\Python\\Python3.8.7-64bit\\lib\\site-packages\\firebase_admin\\_utils.py\u001b[0m in \u001b[0;36mget_app_service\u001b[1;34m(app, name, initializer)\u001b[0m\n\u001b[0;32m     98\u001b[0m \u001b[1;33m\u001b[0m\u001b[0m\n\u001b[0;32m     99\u001b[0m \u001b[1;32mdef\u001b[0m \u001b[0mget_app_service\u001b[0m\u001b[1;33m(\u001b[0m\u001b[0mapp\u001b[0m\u001b[1;33m,\u001b[0m \u001b[0mname\u001b[0m\u001b[1;33m,\u001b[0m \u001b[0minitializer\u001b[0m\u001b[1;33m)\u001b[0m\u001b[1;33m:\u001b[0m\u001b[1;33m\u001b[0m\u001b[1;33m\u001b[0m\u001b[0m\n\u001b[1;32m--> 100\u001b[1;33m     \u001b[0mapp\u001b[0m \u001b[1;33m=\u001b[0m \u001b[0m_get_initialized_app\u001b[0m\u001b[1;33m(\u001b[0m\u001b[0mapp\u001b[0m\u001b[1;33m)\u001b[0m\u001b[1;33m\u001b[0m\u001b[1;33m\u001b[0m\u001b[0m\n\u001b[0m\u001b[0;32m    101\u001b[0m     \u001b[1;32mreturn\u001b[0m \u001b[0mapp\u001b[0m\u001b[1;33m.\u001b[0m\u001b[0m_get_service\u001b[0m\u001b[1;33m(\u001b[0m\u001b[0mname\u001b[0m\u001b[1;33m,\u001b[0m \u001b[0minitializer\u001b[0m\u001b[1;33m)\u001b[0m \u001b[1;31m# pylint: disable=protected-access\u001b[0m\u001b[1;33m\u001b[0m\u001b[1;33m\u001b[0m\u001b[0m\n\u001b[0;32m    102\u001b[0m \u001b[1;33m\u001b[0m\u001b[0m\n",
      "\u001b[1;32mC:\\Python\\Python3.8.7-64bit\\lib\\site-packages\\firebase_admin\\_utils.py\u001b[0m in \u001b[0;36m_get_initialized_app\u001b[1;34m(app)\u001b[0m\n\u001b[0;32m     83\u001b[0m     \u001b[1;34m\"\"\"Returns a reference to an initialized App instance.\"\"\"\u001b[0m\u001b[1;33m\u001b[0m\u001b[1;33m\u001b[0m\u001b[0m\n\u001b[0;32m     84\u001b[0m     \u001b[1;32mif\u001b[0m \u001b[0mapp\u001b[0m \u001b[1;32mis\u001b[0m \u001b[1;32mNone\u001b[0m\u001b[1;33m:\u001b[0m\u001b[1;33m\u001b[0m\u001b[1;33m\u001b[0m\u001b[0m\n\u001b[1;32m---> 85\u001b[1;33m         \u001b[1;32mreturn\u001b[0m \u001b[0mfirebase_admin\u001b[0m\u001b[1;33m.\u001b[0m\u001b[0mget_app\u001b[0m\u001b[1;33m(\u001b[0m\u001b[1;33m)\u001b[0m\u001b[1;33m\u001b[0m\u001b[1;33m\u001b[0m\u001b[0m\n\u001b[0m\u001b[0;32m     86\u001b[0m \u001b[1;33m\u001b[0m\u001b[0m\n\u001b[0;32m     87\u001b[0m     \u001b[1;32mif\u001b[0m \u001b[0misinstance\u001b[0m\u001b[1;33m(\u001b[0m\u001b[0mapp\u001b[0m\u001b[1;33m,\u001b[0m \u001b[0mfirebase_admin\u001b[0m\u001b[1;33m.\u001b[0m\u001b[0mApp\u001b[0m\u001b[1;33m)\u001b[0m\u001b[1;33m:\u001b[0m\u001b[1;33m\u001b[0m\u001b[1;33m\u001b[0m\u001b[0m\n",
      "\u001b[1;32mC:\\Python\\Python3.8.7-64bit\\lib\\site-packages\\firebase_admin\\__init__.py\u001b[0m in \u001b[0;36mget_app\u001b[1;34m(name)\u001b[0m\n\u001b[0;32m    133\u001b[0m \u001b[1;33m\u001b[0m\u001b[0m\n\u001b[0;32m    134\u001b[0m     \u001b[1;32mif\u001b[0m \u001b[0mname\u001b[0m \u001b[1;33m==\u001b[0m \u001b[0m_DEFAULT_APP_NAME\u001b[0m\u001b[1;33m:\u001b[0m\u001b[1;33m\u001b[0m\u001b[1;33m\u001b[0m\u001b[0m\n\u001b[1;32m--> 135\u001b[1;33m         raise ValueError(\n\u001b[0m\u001b[0;32m    136\u001b[0m             \u001b[1;34m'The default Firebase app does not exist. Make sure to initialize '\u001b[0m\u001b[1;33m\u001b[0m\u001b[1;33m\u001b[0m\u001b[0m\n\u001b[0;32m    137\u001b[0m             'the SDK by calling initialize_app().')\n",
      "\u001b[1;31mValueError\u001b[0m: The default Firebase app does not exist. Make sure to initialize the SDK by calling initialize_app()."
     ]
    }
   ],
   "source": [
    "threadCompiler.save(threadData.to_dict())"
   ]
  },
  {
   "cell_type": "code",
   "execution_count": null,
   "metadata": {},
   "outputs": [],
   "source": []
  }
 ]
}