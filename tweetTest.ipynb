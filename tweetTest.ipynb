{
 "metadata": {
  "language_info": {
   "codemirror_mode": {
    "name": "ipython",
    "version": 3
   },
   "file_extension": ".py",
   "mimetype": "text/x-python",
   "name": "python",
   "nbconvert_exporter": "python",
   "pygments_lexer": "ipython3",
   "version": "3.8.7-final"
  },
  "orig_nbformat": 2,
  "kernelspec": {
   "name": "python3",
   "display_name": "Python 3",
   "language": "python"
  }
 },
 "nbformat": 4,
 "nbformat_minor": 2,
 "cells": [
  {
   "cell_type": "code",
   "execution_count": 1,
   "metadata": {},
   "outputs": [],
   "source": [
    "import tweepy\n",
    "import time\n",
    "import logging\n",
    "import random\n",
    "import firebase_admin\n",
    "from firebase_admin import credentials\n",
    "from firebase_admin import firestore\n",
    "import os\n",
    "from os import environ"
   ]
  },
  {
   "cell_type": "code",
   "execution_count": 4,
   "metadata": {},
   "outputs": [],
   "source": [
    "API_KEY = \"aMkzebskwqn78mGSQtQaaRtiO\"\n",
    "API_SKEY = \"5qZBiiHSIlhFjb2yM1KmdNxdN2d5hUwMOaJofeAuQrmKvxwegb\"\n",
    "ACC_Token = \"722743883617214464-AAdKQp7tC1kAl94qxSM7xq5Rfzf2YX1\"\n",
    "ACC_Token_Secret = \"WBX90DB6UfTfYOhlRUjrk3iq7BTkKJ8esTWpPD9ixLk0B\"\n",
    "auth = tweepy.OAuthHandler(API_KEY,API_SKEY)\n",
    "auth.set_access_token(ACC_Token,ACC_Token_Secret)\n",
    "api = tweepy.API(auth, wait_on_rate_limit=True,\n",
    "    wait_on_rate_limit_notify=True)"
   ]
  },
  {
   "cell_type": "code",
   "execution_count": 5,
   "metadata": {},
   "outputs": [],
   "source": [
    "cred = credentials.Certificate(\"twitter-threader-firebase-adminsdk-rh7d4-60df64a83c.json\")"
   ]
  },
  {
   "cell_type": "code",
   "execution_count": 6,
   "metadata": {},
   "outputs": [],
   "source": [
    "class userThread:\n",
    "    def __init__(self,id, name,username,profile_img,tweets):\n",
    "        self.id = id\n",
    "        self.name = name\n",
    "        self.username = username\n",
    "        self.tweets = tweets\n",
    "        self.profile_img = profile_img\n",
    "    def to_dict(self):\n",
    "        obj = {\n",
    "            'id':self.id,\n",
    "            'name':self.name,\n",
    "            'username':self.username,\n",
    "            'profile_img':self.profile_img,\n",
    "            'tweets':{}\n",
    "        }\n",
    "        for tweet in self.tweets:\n",
    "            tweet_id = tweet.tweet_id\n",
    "            obj['tweets'][str(tweet_id)] = tweet.to_dict()\n",
    "        return obj\n",
    "class Tweet:\n",
    "    def __init__(self, text,date,medias,tweet_id,urls):\n",
    "        self.text = text\n",
    "        self.date = date\n",
    "        self.medias = medias\n",
    "        self.tweet_id = tweet_id\n",
    "        self.urls = urls ##contains list either empty or list with object url,expanded_url,display_url(sliced urls)\n",
    "    def to_dict(self):\n",
    "        obj = {\n",
    "            'text':self.text,\n",
    "            'date':self.date,\n",
    "            'tweet_id':self.tweet_id,\n",
    "            'urls':self.urls,\n",
    "            'medias':self.medias\n",
    "        }\n",
    "        return obj"
   ]
  },
  {
   "cell_type": "code",
   "execution_count": 31,
   "metadata": {},
   "outputs": [],
   "source": [
    "class ThreadCompiler:\n",
    "    def __init__(self,tweet_id,user_id):\n",
    "        self.tweet_id = tweet_id\n",
    "        self.id = tweet_id ##storing parent id\n",
    "        self.user_id = user_id\n",
    "    def compileTweets(self):\n",
    "        tweets = []\n",
    "        parent_tweet_id = self.tweet_id\n",
    "        print(\"ThreadCompiler: Fetching Tweets\")\n",
    "        while parent_tweet_id:\n",
    "            tweet = api.get_status(parent_tweet_id, tweet_mode=\"extended\")\n",
    "            if tweet.user.id != self.user_id:\n",
    "                break\n",
    "            medias = []\n",
    "            if 'media' in tweet.entities:\n",
    "                media_entities = tweet.entities['media']\n",
    "                for media_data in media_entities:\n",
    "                    ##Currently only planning to save photo data as it'll be transformed to PDF\n",
    "                    if media_data['type']=='photo':\n",
    "                        medias.append(media_data['media_url_https'])\n",
    "            tweetObj = Tweet(tweet.full_text,str(tweet.created_at),list(medias),parent_tweet_id,tweet.entities['urls'])\n",
    "            tweets.append(tweetObj)\n",
    "            parent_tweet_id = tweet.in_reply_to_status_id\n",
    "        return list(tweets)\n",
    "    def compileThread(self,tweets = None):\n",
    "        print(\"ThreadCompiler: Compiling Thread\")\n",
    "        if not tweets:\n",
    "            tweets = compileTweets()\n",
    "        tweets = tweets[::-1]\n",
    "        self.id = tweets[0].tweet_id ##first id is used to save the thread\n",
    "        user = api.get_user(self.user_id)\n",
    "        return userThread(self.user_id,user.name,user.screen_name,user.profile_image_url_https,tweets)\n",
    "    def save(self,threaData=None):\n",
    "        if not threaData:\n",
    "            threaData = self.compile().to_dict()\n",
    "        print(\"ThreadCompiler: Preparing to save!\")\n",
    "        FU = FirebaseUtility(cred)\n",
    "        FU.storeData(self.id,threaData)\n",
    "        print(\"ThreadCompiler: Preparing to save!\")\n",
    "        return True\n",
    "    def getThreadID(self):\n",
    "        return str(self.id)"
   ]
  },
  {
   "cell_type": "code",
   "execution_count": 32,
   "metadata": {},
   "outputs": [],
   "source": [
    "class FirebaseUtility:\n",
    "    def __init__(self,cred):\n",
    "        self.cred = cred\n",
    "        self.db = firestore.client()\n",
    "        self.initialize()\n",
    "    def initialize(self):\n",
    "        try:\n",
    "            if not firebase_admin._apps:\n",
    "                print(\"FirebaseUtility:Initializing\")\n",
    "                firebase_admin.initialize_app(self.cred)\n",
    "        except:\n",
    "            print(\"FirebaseUtility:Error in cred FIX NEEDED!\")\n",
    "    def documentExists(self,thread_id):\n",
    "        doc_ref = self.db.collection(u'threads').document(str(thread_id))\n",
    "        doc = doc = doc_ref.get()\n",
    "        if doc.exists:\n",
    "            print(\"FirebaseUtility:Thread Already Exists\")\n",
    "            return True\n",
    "        else:\n",
    "            print('FirebaseUtility:No such Thread!')\n",
    "            return False\n",
    "    def storeData(self,thread_id,data):\n",
    "        if not self.documentExists(thread_id):\n",
    "            doc_ref = self.db.collection(u'threads').document(str(thread_id))\n",
    "            doc_ref.set(data)\n",
    "            print('FirebaseUtility:Thread {} Stored!'.format(str(thread_id)))\n",
    "        else:\n",
    "            pass"
   ]
  },
  {
   "cell_type": "code",
   "execution_count": 33,
   "metadata": {},
   "outputs": [],
   "source": [
    "class ThreaderBot:\n",
    "    def __init__(self,file_name=\"since_id.txt\"):\n",
    "        fread = open(file_name, 'r')\n",
    "        self.since_id = int(fread.read().strip())\n",
    "        fread.close()\n",
    "    def retrieve_since_id(self,file_name=\"since_id.txt\"):\n",
    "        fread = open(file_name, 'r')\n",
    "        since_id = int(fread.read().strip())\n",
    "        fread.close()\n",
    "        return since_id\n",
    "\n",
    "    def store_since_id(self,since_id=None, file_name=\"since_id.txt\"):\n",
    "        if not since_id:\n",
    "            since_id = self.since_id\n",
    "        fwrite = open(file_name, 'w')\n",
    "        fwrite.write(str(since_id))\n",
    "        fwrite.close()\n",
    "        return\n",
    "    def fetchTweets(self):\n",
    "        ##Fetching only mentioned tweet\n",
    "        #Retweet will also trigger this\n",
    "        mentions = api.mentions_timeline(self.since_id)\n",
    "        mention = mentions[-1] if len(mentions) !=0 else None\n",
    "        if mention:\n",
    "            since_id = mention.id #Store the last id so that we can keep ourself updated\n",
    "            self.store_since_id(since_id)\n",
    "        return mention\n",
    "    def run(self):\n",
    "        print(\"ThreaderBot: Running...\")\n",
    "        tweet = self.fetchTweets()\n",
    "        if not tweet:\n",
    "            print(\"ThreaderBot: Nothing New!\")\n",
    "            return False\n",
    "        else:\n",
    "            print(\"ThreaderBot: Threading...\")\n",
    "            return (tweet.in_reply_to_status_id,tweet.in_reply_to_user_id)"
   ]
  },
  {
   "cell_type": "code",
   "execution_count": 20,
   "metadata": {},
   "outputs": [],
   "source": [
    "bot = ThreaderBot()"
   ]
  },
  {
   "cell_type": "code",
   "execution_count": 21,
   "metadata": {},
   "outputs": [
    {
     "output_type": "stream",
     "name": "stdout",
     "text": [
      "ThreaderBot: Running...\n",
      "ThreaderBot: Threading...\n"
     ]
    },
    {
     "output_type": "execute_result",
     "data": {
      "text/plain": [
       "(1351725420421369856, 1330031041206161408)"
      ]
     },
     "metadata": {},
     "execution_count": 21
    }
   ],
   "source": [
    "runner = bot.run()\n",
    "runner"
   ]
  },
  {
   "cell_type": "code",
   "execution_count": 25,
   "metadata": {},
   "outputs": [
    {
     "output_type": "execute_result",
     "data": {
      "text/plain": [
       "(1351725420421369856, 1330031041206161408)"
      ]
     },
     "metadata": {},
     "execution_count": 25
    }
   ],
   "source": [
    "status_id = runner[0]\n",
    "status_user_id = runner[1]\n",
    "status_id,status_user_id"
   ]
  },
  {
   "cell_type": "code",
   "execution_count": 34,
   "metadata": {},
   "outputs": [],
   "source": [
    "threadCompiler = ThreadCompiler(status_id,status_id)"
   ]
  },
  {
   "cell_type": "code",
   "execution_count": 35,
   "metadata": {},
   "outputs": [
    {
     "output_type": "stream",
     "name": "stdout",
     "text": [
      "ThreadCompiler: Fetching Tweets\n",
      "ThreadCompiler: Compiling Tweets and User\n"
     ]
    },
    {
     "output_type": "error",
     "ename": "IndexError",
     "evalue": "list index out of range",
     "traceback": [
      "\u001b[1;31m---------------------------------------------------------------------------\u001b[0m",
      "\u001b[1;31mIndexError\u001b[0m                                Traceback (most recent call last)",
      "\u001b[1;32m<ipython-input-35-cb4f5928a0a9>\u001b[0m in \u001b[0;36m<module>\u001b[1;34m\u001b[0m\n\u001b[1;32m----> 1\u001b[1;33m \u001b[0mthreadCompiler\u001b[0m\u001b[1;33m.\u001b[0m\u001b[0mcompile\u001b[0m\u001b[1;33m(\u001b[0m\u001b[1;33m)\u001b[0m\u001b[1;33m\u001b[0m\u001b[1;33m\u001b[0m\u001b[0m\n\u001b[0m",
      "\u001b[1;32m<ipython-input-31-ff3bea83806f>\u001b[0m in \u001b[0;36mcompile\u001b[1;34m(self)\u001b[0m\n\u001b[0;32m     23\u001b[0m             \u001b[0mtweets\u001b[0m\u001b[1;33m.\u001b[0m\u001b[0mappend\u001b[0m\u001b[1;33m(\u001b[0m\u001b[0mtweetObj\u001b[0m\u001b[1;33m)\u001b[0m\u001b[1;33m\u001b[0m\u001b[1;33m\u001b[0m\u001b[0m\n\u001b[0;32m     24\u001b[0m             \u001b[0mparent_tweet_id\u001b[0m \u001b[1;33m=\u001b[0m \u001b[0mtweet\u001b[0m\u001b[1;33m.\u001b[0m\u001b[0min_reply_to_status_id\u001b[0m\u001b[1;33m\u001b[0m\u001b[1;33m\u001b[0m\u001b[0m\n\u001b[1;32m---> 25\u001b[1;33m         \u001b[1;32mreturn\u001b[0m \u001b[0mself\u001b[0m\u001b[1;33m.\u001b[0m\u001b[0mcompileUser\u001b[0m\u001b[1;33m(\u001b[0m\u001b[0mlist\u001b[0m\u001b[1;33m(\u001b[0m\u001b[0mtweets\u001b[0m\u001b[1;33m)\u001b[0m\u001b[1;33m,\u001b[0m\u001b[0mparent_id\u001b[0m\u001b[1;33m)\u001b[0m\u001b[1;33m\u001b[0m\u001b[1;33m\u001b[0m\u001b[0m\n\u001b[0m\u001b[0;32m     26\u001b[0m     \u001b[1;32mdef\u001b[0m \u001b[0mcompileUser\u001b[0m\u001b[1;33m(\u001b[0m\u001b[0mself\u001b[0m\u001b[1;33m,\u001b[0m\u001b[0mtweets\u001b[0m\u001b[1;33m,\u001b[0m\u001b[0muser_id\u001b[0m\u001b[1;33m)\u001b[0m\u001b[1;33m:\u001b[0m\u001b[1;33m\u001b[0m\u001b[1;33m\u001b[0m\u001b[0m\n\u001b[0;32m     27\u001b[0m         \u001b[0mprint\u001b[0m\u001b[1;33m(\u001b[0m\u001b[1;34m\"ThreadCompiler: Compiling Tweets and User\"\u001b[0m\u001b[1;33m)\u001b[0m\u001b[1;33m\u001b[0m\u001b[1;33m\u001b[0m\u001b[0m\n",
      "\u001b[1;32m<ipython-input-31-ff3bea83806f>\u001b[0m in \u001b[0;36mcompileUser\u001b[1;34m(self, tweets, user_id)\u001b[0m\n\u001b[0;32m     27\u001b[0m         \u001b[0mprint\u001b[0m\u001b[1;33m(\u001b[0m\u001b[1;34m\"ThreadCompiler: Compiling Tweets and User\"\u001b[0m\u001b[1;33m)\u001b[0m\u001b[1;33m\u001b[0m\u001b[1;33m\u001b[0m\u001b[0m\n\u001b[0;32m     28\u001b[0m         \u001b[0mtweets\u001b[0m \u001b[1;33m=\u001b[0m \u001b[0mtweets\u001b[0m\u001b[1;33m[\u001b[0m\u001b[1;33m:\u001b[0m\u001b[1;33m:\u001b[0m\u001b[1;33m-\u001b[0m\u001b[1;36m1\u001b[0m\u001b[1;33m]\u001b[0m\u001b[1;33m\u001b[0m\u001b[1;33m\u001b[0m\u001b[0m\n\u001b[1;32m---> 29\u001b[1;33m         \u001b[0mself\u001b[0m\u001b[1;33m.\u001b[0m\u001b[0mid\u001b[0m \u001b[1;33m=\u001b[0m \u001b[0mtweets\u001b[0m\u001b[1;33m[\u001b[0m\u001b[1;36m0\u001b[0m\u001b[1;33m]\u001b[0m\u001b[1;33m.\u001b[0m\u001b[0mtweet_id\u001b[0m \u001b[1;31m##first id is used to save the thread\u001b[0m\u001b[1;33m\u001b[0m\u001b[1;33m\u001b[0m\u001b[0m\n\u001b[0m\u001b[0;32m     30\u001b[0m         \u001b[0muser\u001b[0m \u001b[1;33m=\u001b[0m \u001b[0mapi\u001b[0m\u001b[1;33m.\u001b[0m\u001b[0mget_user\u001b[0m\u001b[1;33m(\u001b[0m\u001b[0muser_id\u001b[0m\u001b[1;33m)\u001b[0m\u001b[1;33m\u001b[0m\u001b[1;33m\u001b[0m\u001b[0m\n\u001b[0;32m     31\u001b[0m         \u001b[1;32mreturn\u001b[0m \u001b[0muserThread\u001b[0m\u001b[1;33m(\u001b[0m\u001b[0muser_id\u001b[0m\u001b[1;33m,\u001b[0m\u001b[0muser\u001b[0m\u001b[1;33m.\u001b[0m\u001b[0mname\u001b[0m\u001b[1;33m,\u001b[0m\u001b[0muser\u001b[0m\u001b[1;33m.\u001b[0m\u001b[0mscreen_name\u001b[0m\u001b[1;33m,\u001b[0m\u001b[0muser\u001b[0m\u001b[1;33m.\u001b[0m\u001b[0mprofile_image_url_https\u001b[0m\u001b[1;33m,\u001b[0m\u001b[0mtweets\u001b[0m\u001b[1;33m)\u001b[0m\u001b[1;33m\u001b[0m\u001b[1;33m\u001b[0m\u001b[0m\n",
      "\u001b[1;31mIndexError\u001b[0m: list index out of range"
     ]
    }
   ],
   "source": [
    "threadCompiler.compile()"
   ]
  },
  {
   "cell_type": "code",
   "execution_count": null,
   "metadata": {},
   "outputs": [],
   "source": []
  }
 ]
}